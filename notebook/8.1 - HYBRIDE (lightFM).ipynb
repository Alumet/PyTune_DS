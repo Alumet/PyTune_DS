{
 "cells": [
  {
   "cell_type": "markdown",
   "id": "8ec230c5",
   "metadata": {},
   "source": [
    "# Hybride (lightFM)\n",
    "\n",
    "Exploration du module lightFM, modèle hybride combinant content_based et collaborative filtering"
   ]
  },
  {
   "cell_type": "markdown",
   "id": "ebfef72a",
   "metadata": {},
   "source": [
    "## Imports"
   ]
  },
  {
   "cell_type": "code",
   "execution_count": 1,
   "id": "4231de65",
   "metadata": {},
   "outputs": [
    {
     "name": "stderr",
     "output_type": "stream",
     "text": [
      "C:\\Users\\Alumet\\anaconda3\\lib\\site-packages\\lightfm\\_lightfm_fast.py:9: UserWarning: LightFM was compiled without OpenMP support. Only a single thread will be used.\n",
      "  warnings.warn(\n"
     ]
    }
   ],
   "source": [
    "import numpy as np\n",
    "import pandas as pd\n",
    "\n",
    "from tqdm import tqdm\n",
    "\n",
    "# all lightfm imports \n",
    "from lightfm.data import Dataset\n",
    "from lightfm import LightFM\n",
    "from lightfm import cross_validation\n",
    "from lightfm.evaluation import precision_at_k\n",
    "from lightfm.evaluation import auc_score\n",
    "\n",
    "# imports re for text cleaning \n",
    "import re\n",
    "from datetime import datetime, timedelta\n",
    "\n",
    "# we will ignore pandas warning \n",
    "import warnings\n",
    "warnings.filterwarnings('ignore')\n",
    "\n",
    "#others\n",
    "import itertools\n",
    "\n",
    "from sklearn.metrics import roc_auc_score\n",
    "import matplotlib.pyplot as plt"
   ]
  },
  {
   "cell_type": "markdown",
   "id": "58b833f2",
   "metadata": {},
   "source": [
    "## Data import"
   ]
  },
  {
   "cell_type": "code",
   "execution_count": 2,
   "id": "f327be29",
   "metadata": {},
   "outputs": [],
   "source": [
    "#### import tous les donées##########\n",
    "base_path = 'filtered data/'\n",
    "\n",
    "df_train = pd.read_csv(base_path + 'filtered_rating_fm_dataset_train.csv', index_col=0)\n",
    "\n",
    "df_test = pd.read_csv(base_path + 'filtered_rating_fm_dataset_test.csv', index_col=0)\n",
    "\n",
    "df_user_features = pd.read_csv(base_path+'user_features_fm_dataset.csv', index_col=0)\n",
    "\n",
    "df_track_features = pd.read_csv(base_path + 'track_features_fm_dataset_normalized.csv', index_col=0)"
   ]
  },
  {
   "cell_type": "markdown",
   "id": "df68aab9",
   "metadata": {},
   "source": [
    "## Fonctions"
   ]
  },
  {
   "cell_type": "code",
   "execution_count": 3,
   "id": "9d08cf92",
   "metadata": {},
   "outputs": [],
   "source": [
    "##################################################\n",
    "# tous les functions utiles\n",
    "#################################################\n",
    "def create_features(dataframe, features_name, id_col_name):\n",
    "    \"\"\"\n",
    "    Generate features that will be ready for feeding into lightfm\n",
    "\n",
    "    Parameters\n",
    "    ----------\n",
    "    dataframe: Dataframe\n",
    "        Pandas Dataframe which contains features\n",
    "    features_name : List\n",
    "        List of feature columns name avaiable in dataframe\n",
    "    id_col_name: String\n",
    "        Column name which contains id of the question or\n",
    "        answer that the features will map to.\n",
    "        There are two possible values for this variable.\n",
    "        1. questions_id_num\n",
    "        2. professionals_id_num\n",
    "\n",
    "    Returns\n",
    "    -------\n",
    "    Pandas Series\n",
    "        A pandas series containing process features\n",
    "        that are ready for feed into lightfm.\n",
    "        The format of each value\n",
    "        will be (user_id, ['feature_1', 'feature_2', 'feature_3'])\n",
    "        Ex. -> (1, ['military', 'army', '5'])\n",
    "    \"\"\"\n",
    "\n",
    "    features = dataframe[features_name].apply(\n",
    "        lambda x: ','.join(x.map(str)), axis=1)\n",
    "    features = features.str.split(',')\n",
    "    features = list(zip(dataframe[id_col_name], features))\n",
    "    return features\n",
    "\n",
    "\n",
    "\n",
    "def generate_feature_list(dataframe, features_name):\n",
    "    \"\"\"\n",
    "    Generate features list for mapping \n",
    "\n",
    "    Parameters\n",
    "    ----------\n",
    "    dataframe: Dataframe\n",
    "        Pandas Dataframe for Users or Q&A. \n",
    "    features_name : List\n",
    "        List of feature columns name avaiable in dataframe. \n",
    "        \n",
    "    Returns\n",
    "    -------\n",
    "    List of all features for mapping \n",
    "    \"\"\"\n",
    "    features = dataframe[features_name].apply(\n",
    "        lambda x: ','.join(x.map(str)), axis=1)\n",
    "    features = features.str.split(',')\n",
    "    features = features.apply(pd.Series).stack().reset_index(drop=True)\n",
    "    return features\n",
    "\n",
    "\n",
    "def calculate_auc_score(lightfm_model, interactions_matrix, \n",
    "                        track_features, user_features): \n",
    "    \"\"\"\n",
    "    Measure the ROC AUC metric for a model. \n",
    "    A perfect score is 1.0.\n",
    "\n",
    "    Parameters\n",
    "    ----------\n",
    "    lightfm_model: LightFM model \n",
    "        A fitted lightfm model \n",
    "    interactions_matrix : \n",
    "        A lightfm interactions matrix \n",
    "    question_features, professional_features: \n",
    "        Lightfm features \n",
    "        \n",
    "    Returns\n",
    "    -------\n",
    "    String containing AUC score \n",
    "    \"\"\"\n",
    "    score = auc_score( \n",
    "        lightfm_model, interactions_matrix, \n",
    "        item_features=track_features, \n",
    "        user_features=user_features,\n",
    "        num_threads=3).mean()\n",
    "    return score"
   ]
  },
  {
   "cell_type": "code",
   "execution_count": 4,
   "id": "26480698",
   "metadata": {},
   "outputs": [],
   "source": [
    "class k_best():\n",
    "    def __init__(self, user_tracks, recomended_tracks):\n",
    "        self.user_tracks = user_tracks\n",
    "        self.recomended_tracks = recomended_tracks\n",
    "    \n",
    "    def CG(self):\n",
    "        \n",
    "        return len(set(self.recomended_tracks).intersection(set(self.user_tracks)))\n",
    "    \n",
    "    def DCG(self):\n",
    "        \n",
    "        result = 0\n",
    "        for i,id in enumerate(self.recomended_tracks):\n",
    "            \n",
    "            if id in self.user_tracks:\n",
    "                result+=1/np.log2(i+2)\n",
    "\n",
    "        return result\n",
    "    \n",
    "    def IDCG(self):\n",
    "        \n",
    "        a = self.CG()\n",
    "        result=0\n",
    "        \n",
    "        for i in range (a):\n",
    "            result+=1/np.log2(i+2)\n",
    "        \n",
    "        return result\n",
    "    \n",
    "    def NDCG(self):\n",
    "        if self.IDCG()!=0:\n",
    "            result = self.DCG()/self.IDCG()\n",
    "        else:\n",
    "            result=0\n",
    "            \n",
    "        return result\n",
    "    \n",
    "    def P_at_k(self):\n",
    "        \n",
    "        return self.CG()/len(self.recomended_tracks)\n",
    "\n",
    "    \n",
    "    def __str__(self):\n",
    "        \n",
    "        result = 'K_best ressults: \\n'\n",
    "        result+= f'CG = {self.CG()}\\n'\n",
    "        result+= f'DCG = {self.DCG()}\\n'\n",
    "        result+= f'NDCG = {self.NDCG()}\\n'\n",
    "        result+= f'P@K = {self.P_at_k()}\\n'\n",
    "        \n",
    "        return result"
   ]
  },
  {
   "cell_type": "markdown",
   "id": "f091decc",
   "metadata": {},
   "source": [
    "## Data preparation"
   ]
  },
  {
   "cell_type": "code",
   "execution_count": 5,
   "id": "0543ef65",
   "metadata": {},
   "outputs": [],
   "source": [
    "df_train['weights'] = df_train['rating']+1\n",
    "df_test['weights'] = df_test['rating']+1"
   ]
  },
  {
   "cell_type": "markdown",
   "id": "b461dfc5",
   "metadata": {},
   "source": [
    "### Filtre des Track_id"
   ]
  },
  {
   "cell_type": "code",
   "execution_count": 6,
   "id": "5c2400d5",
   "metadata": {},
   "outputs": [],
   "source": [
    "track_id_to_keep_tack = set(df_track_features['track_id'].unique())\n",
    "track_id_to_keep_train = set(df_train['track_id'].unique())\n",
    "\n",
    "track_id_to_keep = track_id_to_keep_tack.intersection(track_id_to_keep_train)"
   ]
  },
  {
   "cell_type": "code",
   "execution_count": 7,
   "id": "98c57a8a",
   "metadata": {},
   "outputs": [],
   "source": [
    "filter = df_train['track_id'].apply(lambda x: x in track_id_to_keep)\n",
    "df_train = df_train[filter]"
   ]
  },
  {
   "cell_type": "code",
   "execution_count": 8,
   "id": "cf8fd960",
   "metadata": {},
   "outputs": [],
   "source": [
    "filter = df_test['track_id'].apply(lambda x: x in track_id_to_keep)\n",
    "df_test = df_test[filter]"
   ]
  },
  {
   "cell_type": "code",
   "execution_count": 9,
   "id": "ff8b5943",
   "metadata": {},
   "outputs": [],
   "source": [
    "filter = df_track_features['track_id'].apply(lambda x: x in track_id_to_keep)\n",
    "df_track_features = df_track_features[filter]"
   ]
  },
  {
   "cell_type": "markdown",
   "id": "15d4e7a4",
   "metadata": {},
   "source": [
    "### Filtre des user_id"
   ]
  },
  {
   "cell_type": "code",
   "execution_count": 10,
   "id": "adefd1a3",
   "metadata": {},
   "outputs": [],
   "source": [
    "user_id_to_keep_user = set(df_user_features['user_id'].unique())\n",
    "user_id_to_keep_train = set(df_train['user_id'].unique())\n",
    "\n",
    "user_id_to_keep = user_id_to_keep_user.intersection(user_id_to_keep_train)"
   ]
  },
  {
   "cell_type": "code",
   "execution_count": 11,
   "id": "08f71fcd",
   "metadata": {},
   "outputs": [],
   "source": [
    "filter = df_train['user_id'].apply(lambda x: x in user_id_to_keep)\n",
    "df_train = df_train[filter]"
   ]
  },
  {
   "cell_type": "code",
   "execution_count": 12,
   "id": "b468112b",
   "metadata": {},
   "outputs": [],
   "source": [
    "filter = df_test['user_id'].apply(lambda x: x in user_id_to_keep)\n",
    "df_test = df_test[filter]"
   ]
  },
  {
   "cell_type": "code",
   "execution_count": 13,
   "id": "676891d7",
   "metadata": {},
   "outputs": [],
   "source": [
    "filter = df_user_features['user_id'].apply(lambda x: x in user_id_to_keep)\n",
    "df_user_features = df_user_features[filter]"
   ]
  },
  {
   "cell_type": "markdown",
   "id": "31a08820",
   "metadata": {},
   "source": [
    "### Verification"
   ]
  },
  {
   "cell_type": "code",
   "execution_count": 14,
   "id": "22bf6104",
   "metadata": {},
   "outputs": [
    {
     "name": "stdout",
     "output_type": "stream",
     "text": [
      "train nb track:  42304\n",
      "test nb track:  42304\n",
      "track_features nb track:  42304\n"
     ]
    }
   ],
   "source": [
    "print('train nb track: ', df_train['track_id'].nunique())\n",
    "print('test nb track: ', df_test['track_id'].nunique())\n",
    "print('track_features nb track: ', df_track_features['track_id'].nunique())"
   ]
  },
  {
   "cell_type": "code",
   "execution_count": 15,
   "id": "e2625ac4",
   "metadata": {},
   "outputs": [
    {
     "name": "stdout",
     "output_type": "stream",
     "text": [
      "train nb user:  959\n",
      "test nb user:  959\n",
      "user_features nb user:  959\n"
     ]
    }
   ],
   "source": [
    "print('train nb user: ', df_train['user_id'].nunique())\n",
    "print('test nb user: ', df_test['user_id'].nunique())\n",
    "print('user_features nb user: ', df_user_features['user_id'].nunique())"
   ]
  },
  {
   "cell_type": "markdown",
   "id": "bd149bae",
   "metadata": {},
   "source": [
    "### Creation des tags (user et item)"
   ]
  },
  {
   "cell_type": "markdown",
   "id": "d5a6819f",
   "metadata": {},
   "source": [
    "### User"
   ]
  },
  {
   "cell_type": "code",
   "execution_count": 16,
   "id": "17136e25",
   "metadata": {},
   "outputs": [],
   "source": [
    "df_user_features['user_tags'] = df_user_features[df_user_features.columns[1:5]].apply(lambda x: ','.join(x.dropna().astype(str)),axis=1)"
   ]
  },
  {
   "cell_type": "code",
   "execution_count": 17,
   "id": "bcec899f",
   "metadata": {},
   "outputs": [],
   "source": [
    "user_features_list = generate_feature_list(df_user_features,['user_tags'])"
   ]
  },
  {
   "cell_type": "code",
   "execution_count": 18,
   "id": "a9ec6035",
   "metadata": {},
   "outputs": [],
   "source": [
    "df_user_features['user_features'] = create_features(df_user_features, ['user_tags'], 'user_id')"
   ]
  },
  {
   "cell_type": "markdown",
   "id": "999cf74a",
   "metadata": {},
   "source": [
    "### Item"
   ]
  },
  {
   "cell_type": "code",
   "execution_count": 19,
   "id": "ddf08712",
   "metadata": {},
   "outputs": [],
   "source": [
    "df_track_features['item_tags'] = df_track_features[df_track_features.columns[3:25]].apply(lambda x: ','.join(x.dropna().astype(str)),axis=1)"
   ]
  },
  {
   "cell_type": "code",
   "execution_count": 20,
   "id": "1093a64b",
   "metadata": {},
   "outputs": [],
   "source": [
    "item_features_list = generate_feature_list(df_track_features,['item_tags'])"
   ]
  },
  {
   "cell_type": "code",
   "execution_count": 21,
   "id": "c2fb8e8c",
   "metadata": {},
   "outputs": [],
   "source": [
    "df_track_features['item_features'] = create_features(df_track_features, ['item_tags'], 'track_id')"
   ]
  },
  {
   "cell_type": "markdown",
   "id": "0aa3f440",
   "metadata": {},
   "source": [
    "## Dataset build"
   ]
  },
  {
   "cell_type": "code",
   "execution_count": 22,
   "id": "e90cd4f6",
   "metadata": {},
   "outputs": [],
   "source": [
    "user_features_id = df_user_features['user_id'].unique()\n",
    "track_features_id =  df_track_features['track_id'].unique()"
   ]
  },
  {
   "cell_type": "code",
   "execution_count": 23,
   "id": "483414d6",
   "metadata": {},
   "outputs": [],
   "source": [
    "########################\n",
    "# Train Dataset building for lightfm\n",
    "########################\n",
    "\n",
    "\n",
    "dataset = Dataset()\n",
    "dataset.fit(\n",
    "    user_features_id, \n",
    "    track_features_id,\n",
    "    item_features = item_features_list, \n",
    "    user_features = user_features_list)"
   ]
  },
  {
   "cell_type": "code",
   "execution_count": 24,
   "id": "efbe83b5",
   "metadata": {},
   "outputs": [],
   "source": [
    "track_features = dataset.build_item_features(df_track_features['item_features'])\n",
    "user_features = dataset.build_user_features(df_user_features['user_features'])"
   ]
  },
  {
   "cell_type": "markdown",
   "id": "cbc1acb6",
   "metadata": {},
   "source": [
    "### Train"
   ]
  },
  {
   "cell_type": "code",
   "execution_count": 25,
   "id": "4362f66c",
   "metadata": {},
   "outputs": [],
   "source": [
    "df_train['user_track_id_tuple'] = list(zip(df_train.user_id, df_train.track_id, df_train.weights))\n",
    "\n",
    "interactions_train, weights_train = dataset.build_interactions(df_train['user_track_id_tuple'])"
   ]
  },
  {
   "cell_type": "markdown",
   "id": "9db8589f",
   "metadata": {},
   "source": [
    "### Test"
   ]
  },
  {
   "cell_type": "code",
   "execution_count": 26,
   "id": "7fc5562e",
   "metadata": {},
   "outputs": [],
   "source": [
    "df_test['user_track_id_tuple'] = list(zip(df_test.user_id, df_test.track_id, df_test.weights))\n",
    "\n",
    "interactions_test, weights_test = dataset.build_interactions(df_test['user_track_id_tuple'])"
   ]
  },
  {
   "cell_type": "markdown",
   "id": "90bef5e6",
   "metadata": {},
   "source": [
    "### Modèle"
   ]
  },
  {
   "cell_type": "code",
   "execution_count": 27,
   "id": "eb66ca66",
   "metadata": {},
   "outputs": [
    {
     "name": "stderr",
     "output_type": "stream",
     "text": [
      "Epoch: 100%|████████████████████████████████████████████████████████████████████████████| 5/5 [11:37<00:00, 139.54s/it]\n"
     ]
    },
    {
     "data": {
      "text/plain": [
       "<lightfm.lightfm.LightFM at 0x1a3fe5f14c0>"
      ]
     },
     "execution_count": 27,
     "metadata": {},
     "output_type": "execute_result"
    }
   ],
   "source": [
    "################################\n",
    "# Model building part\n",
    "################################\n",
    "\n",
    "# define lightfm model by specifying hyper-parametre\n",
    "# then fit the model with ineteractions matrix, item and user features \n",
    "model = LightFM(\n",
    "    no_components=80,\n",
    "    learning_rate=0.95,\n",
    "    learning_schedule='adagrad',\n",
    "    loss='warp',\n",
    "    max_sampled=7,\n",
    "    random_state=42)\n",
    "\n",
    "model.fit(\n",
    "    interactions_train,\n",
    "    item_features = track_features,\n",
    "    user_features = user_features, sample_weight = weights_train,\n",
    "    epochs=5, num_threads=3, verbose=True)"
   ]
  },
  {
   "cell_type": "code",
   "execution_count": 28,
   "id": "f08e6fd8",
   "metadata": {},
   "outputs": [
    {
     "name": "stdout",
     "output_type": "stream",
     "text": [
      "Train AUC:  0.97176856\n",
      "Test AUC:  0.83378214\n"
     ]
    }
   ],
   "source": [
    "train_score = calculate_auc_score(model, interactions_train, track_features, user_features)\n",
    "test_score = calculate_auc_score(model, interactions_test, track_features, user_features)\n",
    "\n",
    "print('Train AUC: ', train_score)\n",
    "print('Test AUC: ', test_score)"
   ]
  },
  {
   "cell_type": "code",
   "execution_count": 29,
   "id": "15190462",
   "metadata": {},
   "outputs": [
    {
     "name": "stdout",
     "output_type": "stream",
     "text": [
      "train P@50:  0.66777897\n",
      "Test P@50:  0.058706984\n"
     ]
    }
   ],
   "source": [
    "train_precision = precision_at_k(model, interactions_train, k=50, item_features=track_features, user_features=user_features).mean()\n",
    "test_precision = precision_at_k(model, interactions_test, k=50, item_features=track_features, user_features=user_features).mean()\n",
    "\n",
    "print('train P@50: ', train_precision )\n",
    "print('Test P@50: ', test_precision)"
   ]
  },
  {
   "cell_type": "markdown",
   "id": "08b3b53b",
   "metadata": {},
   "source": [
    "## Evaluation"
   ]
  },
  {
   "cell_type": "code",
   "execution_count": 30,
   "id": "44925c23",
   "metadata": {},
   "outputs": [],
   "source": [
    "labels = np.array(df_track_features['artist_name']+'--'+df_track_features['track_name'])\n",
    "id = np.array(df_track_features['track_id'])"
   ]
  },
  {
   "cell_type": "code",
   "execution_count": 31,
   "id": "7f306ca7",
   "metadata": {},
   "outputs": [],
   "source": [
    "def sample_recommendation_id(model, data, user_id, n=50):\n",
    "\n",
    "    n_users, n_items = data.shape\n",
    "\n",
    "    #build a structure to store user scores for each item\n",
    "    all_scores = np.empty(shape=(0,n_items))\n",
    "\n",
    "    scores = model.predict(user_id,np.arange(n_items),track_features,user_features)\n",
    "\n",
    "    top_items_for_user = id[np.argsort(-scores)]\n",
    "    if n>=0:\n",
    "        return top_items_for_user[:n]\n",
    "    else:\n",
    "        return zip(top_items_for_user, scores[np.argsort(-scores)])"
   ]
  },
  {
   "cell_type": "code",
   "execution_count": 43,
   "id": "4fe0a153",
   "metadata": {},
   "outputs": [],
   "source": [
    "def sample_recommendation_score(model, data, user_id):\n",
    "\n",
    "    n_users, n_items = data.shape\n",
    "\n",
    "    #build a structure to store user scores for each item\n",
    "    all_scores = np.empty(shape=(0,n_items))\n",
    "\n",
    "    scores = model.predict(user_id,np.arange(n_items),track_features,user_features)\n",
    "\n",
    "    return pd.DataFrame({'track_id':id,'score':scores})"
   ]
  },
  {
   "cell_type": "markdown",
   "id": "b35432fc",
   "metadata": {},
   "source": [
    "### Test sur 1 utilisateur "
   ]
  },
  {
   "cell_type": "code",
   "execution_count": 33,
   "id": "12ba40f6",
   "metadata": {},
   "outputs": [],
   "source": [
    "user = 1\n",
    "\n",
    "inner_user = int(np.where(user_features_id==user)[0][0])\n",
    "\n",
    "user_tracks_train = set([x for x in df_train[df_train['user_id']==user]['track_id'].unique()])\n",
    "user_tracks_test = set([x for x in df_test[df_test['user_id']==user]['track_id'].unique()])\n",
    "\n",
    "recommendation = sample_recommendation_id(model,interactions_train,inner_user)"
   ]
  },
  {
   "cell_type": "code",
   "execution_count": 34,
   "id": "9a9b9f9f",
   "metadata": {},
   "outputs": [
    {
     "name": "stdout",
     "output_type": "stream",
     "text": [
      "K_best ressults: \n",
      "CG = 42\n",
      "DCG = 11.066931216459178\n",
      "NDCG = 0.9656358768255692\n",
      "P@K = 0.84\n",
      "\n"
     ]
    }
   ],
   "source": [
    "k = k_best(user_tracks_train, recommendation)\n",
    "print(k)"
   ]
  },
  {
   "cell_type": "code",
   "execution_count": 35,
   "id": "3c53b2c8",
   "metadata": {},
   "outputs": [
    {
     "name": "stdout",
     "output_type": "stream",
     "text": [
      "K_best ressults: \n",
      "CG = 1\n",
      "DCG = 0.18208790046993825\n",
      "NDCG = 0.18208790046993825\n",
      "P@K = 0.02\n",
      "\n"
     ]
    }
   ],
   "source": [
    "k = k_best(user_tracks_test, recommendation)\n",
    "print(k)"
   ]
  },
  {
   "cell_type": "markdown",
   "id": "8a2e5a52",
   "metadata": {},
   "source": [
    "## Evaluation sur tous les utilisateurs"
   ]
  },
  {
   "cell_type": "markdown",
   "id": "03f4a2f1",
   "metadata": {},
   "source": [
    "### K_best"
   ]
  },
  {
   "cell_type": "code",
   "execution_count": 36,
   "id": "14cf270e",
   "metadata": {},
   "outputs": [
    {
     "name": "stderr",
     "output_type": "stream",
     "text": [
      "100%|████████████████████████████████████████████████████████████████████████████████| 959/959 [00:57<00:00, 16.64it/s]\n"
     ]
    }
   ],
   "source": [
    "train_scores = list()\n",
    "test_scores = list()\n",
    "user_id = list()\n",
    "\n",
    "for user in tqdm(df_train['user_id'].unique()):\n",
    "    user_tracks_train = set([x for x in df_train[df_train['user_id']==user]['track_id'].unique()])\n",
    "    user_tracks_test = set([x for x in df_test[df_test['user_id']==user]['track_id'].unique()])\n",
    "    \n",
    "    inner_user = int(np.where(user_features_id==user)[0][0])\n",
    "    recomended_tracks = sample_recommendation_id(model,interactions_train,inner_user)\n",
    "    \n",
    "    k = k_best(user_tracks_train, recomended_tracks)\n",
    "    train_scores.append(k.NDCG())\n",
    "    \n",
    "    if len(user_tracks_test)!=0:\n",
    "        k = k_best(user_tracks_test, recomended_tracks)\n",
    "        test_scores.append(k.NDCG())\n",
    "        \n",
    "    else:\n",
    "        test_scores.append(0)\n",
    "    \n",
    "    user_id.append(user)"
   ]
  },
  {
   "cell_type": "code",
   "execution_count": 37,
   "id": "a8f8e48d",
   "metadata": {},
   "outputs": [
    {
     "name": "stdout",
     "output_type": "stream",
     "text": [
      "Train_mean_NDCG =  0.8508080998897113\n",
      "Test_mean_NDCG =  0.30795657167865575\n"
     ]
    }
   ],
   "source": [
    "print('Train_mean_NDCG = ', np.array(train_scores).mean())\n",
    "print('Test_mean_NDCG = ', np.array(test_scores).mean())"
   ]
  },
  {
   "cell_type": "markdown",
   "id": "9f42f5c8",
   "metadata": {},
   "source": [
    "### AUC_ROC"
   ]
  },
  {
   "cell_type": "code",
   "execution_count": 38,
   "id": "7fd82cff",
   "metadata": {},
   "outputs": [
    {
     "name": "stderr",
     "output_type": "stream",
     "text": [
      "100%|████████████████████████████████████████████████████████████████████████████████| 959/959 [09:35<00:00,  1.67it/s]\n"
     ]
    }
   ],
   "source": [
    "scores = dict()\n",
    "\n",
    "for s in np.linspace(100,200,20):\n",
    "    scores[s]={'train':[], 'test':[]}\n",
    "\n",
    "\n",
    "for user in tqdm(df_train['user_id'].unique()):\n",
    "    \n",
    "    user_tracks_train = set([x for x in df_train[df_train['user_id']==user]['track_id'].unique()])\n",
    "    user_tracks_test = set([x for x in df_test[df_test['user_id']==user]['track_id'].unique()])\n",
    "    \n",
    "    inner_user = int(np.where(user_features_id==user)[0][0])\n",
    "    recomended_tracks = sample_recommendation_score(model,interactions_train,inner_user)\n",
    "    \n",
    "    recomended_tracks['true_train'] = recomended_tracks['track_id'].apply(lambda x: 1 if x in user_tracks_train else 0)\n",
    "    recomended_tracks['true_test'] = recomended_tracks['track_id'].apply(lambda x: 1 if x in user_tracks_test else 0)\n",
    "    \n",
    "    for s in np.linspace(100,200,20):\n",
    "    \n",
    "        recomended_tracks['pred'] = recomended_tracks['score'].apply(lambda x : 1 if x<s else 0)\n",
    "        y_pred = recomended_tracks['pred'].values\n",
    "\n",
    "        y_true_train = recomended_tracks['true_train'].values\n",
    "        score = roc_auc_score(y_true_train, y_pred)  \n",
    "        scores[s]['train'].append(score)\n",
    "\n",
    "        y_true_test = recomended_tracks['true_test'].values\n",
    "        score = roc_auc_score(y_true_test, y_pred)\n",
    "        scores[s]['test'].append(score)"
   ]
  },
  {
   "cell_type": "code",
   "execution_count": 39,
   "id": "c36dbd4a",
   "metadata": {},
   "outputs": [
    {
     "data": {
      "image/png": "[encoded data removed]",
      "text/plain": [
       "<Figure size 1152x648 with 1 Axes>"
      ]
     },
     "metadata": {
      "needs_background": "light"
     },
     "output_type": "display_data"
    }
   ],
   "source": [
    "train_score = list()\n",
    "test_score = list()\n",
    "seuil = list()\n",
    "\n",
    "for key in scores.keys():\n",
    "    train_score.append(np.array(scores[key]['train']).mean())\n",
    "    test_score.append(np.array(scores[key]['test']).mean())\n",
    "    seuil.append(key)\n",
    "\n",
    "\n",
    "plt.figure(figsize=(16,9))\n",
    "plt.plot(seuil, train_score, label='Train')\n",
    "plt.plot(seuil, test_score, label='Test')\n",
    "plt.legend()\n",
    "\n",
    "plt.title('AUC_ROC score en fonciton du seuil')\n",
    "plt.xlabel('Seuil')\n",
    "plt.ylabel('AUC_ROC Score')\n",
    "plt.show\n",
    "\n",
    "plt.savefig(\"AUC_ROC score en fonction du seuil, lightFM\", dpi=300, pad_inches=0.1,bbox_inches='tight')"
   ]
  },
  {
   "cell_type": "code",
   "execution_count": 40,
   "id": "4c70ac44",
   "metadata": {},
   "outputs": [
    {
     "data": {
      "text/plain": [
       "array([1, 2, 0], dtype=int64)"
      ]
     },
     "execution_count": 40,
     "metadata": {},
     "output_type": "execute_result"
    }
   ],
   "source": [
    "x = np.array([3, 1, 2])\n",
    "np.argsort(x)"
   ]
  },
  {
   "cell_type": "code",
   "execution_count": 42,
   "id": "48004249",
   "metadata": {},
   "outputs": [
    {
     "data": {
      "text/plain": [
       "array([3, 2, 1])"
      ]
     },
     "execution_count": 42,
     "metadata": {},
     "output_type": "execute_result"
    }
   ],
   "source": [
    "x[np.argsort(-x)]"
   ]
  },
  {
   "cell_type": "code",
   "execution_count": 58,
   "id": "a7f4b5df",
   "metadata": {},
   "outputs": [
    {
     "data": {
      "text/html": [
       "<div>\n",
       "<style scoped>\n",
       "    .dataframe tbody tr th:only-of-type {\n",
       "        vertical-align: middle;\n",
       "    }\n",
       "\n",
       "    .dataframe tbody tr th {\n",
       "        vertical-align: top;\n",
       "    }\n",
       "\n",
       "    .dataframe thead th {\n",
       "        text-align: right;\n",
       "    }\n",
       "</style>\n",
       "<table border=\"1\" class=\"dataframe\">\n",
       "  <thead>\n",
       "    <tr style=\"text-align: right;\">\n",
       "      <th></th>\n",
       "      <th>track_id</th>\n",
       "      <th>score</th>\n",
       "    </tr>\n",
       "  </thead>\n",
       "  <tbody>\n",
       "    <tr>\n",
       "      <th>count</th>\n",
       "      <td>42304.000000</td>\n",
       "      <td>42304.000000</td>\n",
       "    </tr>\n",
       "    <tr>\n",
       "      <th>mean</th>\n",
       "      <td>38705.501678</td>\n",
       "      <td>-1508.991333</td>\n",
       "    </tr>\n",
       "    <tr>\n",
       "      <th>std</th>\n",
       "      <td>23338.682730</td>\n",
       "      <td>1.903972</td>\n",
       "    </tr>\n",
       "    <tr>\n",
       "      <th>min</th>\n",
       "      <td>0.000000</td>\n",
       "      <td>-1516.329590</td>\n",
       "    </tr>\n",
       "    <tr>\n",
       "      <th>25%</th>\n",
       "      <td>18283.750000</td>\n",
       "      <td>-1510.327393</td>\n",
       "    </tr>\n",
       "    <tr>\n",
       "      <th>50%</th>\n",
       "      <td>37755.500000</td>\n",
       "      <td>-1509.067322</td>\n",
       "    </tr>\n",
       "    <tr>\n",
       "      <th>75%</th>\n",
       "      <td>58759.250000</td>\n",
       "      <td>-1507.735474</td>\n",
       "    </tr>\n",
       "    <tr>\n",
       "      <th>max</th>\n",
       "      <td>80598.000000</td>\n",
       "      <td>-1501.702393</td>\n",
       "    </tr>\n",
       "  </tbody>\n",
       "</table>\n",
       "</div>"
      ],
      "text/plain": [
       "           track_id         score\n",
       "count  42304.000000  42304.000000\n",
       "mean   38705.501678  -1508.991333\n",
       "std    23338.682730      1.903972\n",
       "min        0.000000  -1516.329590\n",
       "25%    18283.750000  -1510.327393\n",
       "50%    37755.500000  -1509.067322\n",
       "75%    58759.250000  -1507.735474\n",
       "max    80598.000000  -1501.702393"
      ]
     },
     "execution_count": 58,
     "metadata": {},
     "output_type": "execute_result"
    }
   ],
   "source": [
    "sample_recommendation_score(model,interactions_train,89).describe()"
   ]
  },
  {
   "cell_type": "code",
   "execution_count": 54,
   "id": "a22e6397",
   "metadata": {},
   "outputs": [
    {
     "data": {
      "text/plain": [
       "array([-1000.        , -1010.52631579, -1021.05263158, -1031.57894737,\n",
       "       -1042.10526316, -1052.63157895, -1063.15789474, -1073.68421053,\n",
       "       -1084.21052632, -1094.73684211, -1105.26315789, -1115.78947368,\n",
       "       -1126.31578947, -1136.84210526, -1147.36842105, -1157.89473684,\n",
       "       -1168.42105263, -1178.94736842, -1189.47368421, -1200.        ])"
      ]
     },
     "execution_count": 54,
     "metadata": {},
     "output_type": "execute_result"
    }
   ],
   "source": [
    "np.linspace(-1000,-1200,20)"
   ]
  },
  {
   "cell_type": "code",
   "execution_count": null,
   "id": "5de600f1",
   "metadata": {},
   "outputs": [],
   "source": []
  }
 ],
 "metadata": {
  "kernelspec": {
   "display_name": "Python 3",
   "language": "python",
   "name": "python3"
  },
  "language_info": {
   "codemirror_mode": {
    "name": "ipython",
    "version": 3
   },
   "file_extension": ".py",
   "mimetype": "text/x-python",
   "name": "python",
   "nbconvert_exporter": "python",
   "pygments_lexer": "ipython3",
   "version": "3.9.7"
  }
 },
 "nbformat": 4,
 "nbformat_minor": 5
}
