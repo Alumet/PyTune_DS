{
 "cells": [
  {
   "cell_type": "markdown",
   "id": "78f7a593",
   "metadata": {},
   "source": [
    "# DATA PREPARATION LAST FM (Spotify API)"
   ]
  },
  {
   "cell_type": "markdown",
   "id": "fcd02cd9",
   "metadata": {},
   "source": [
    "### Imports "
   ]
  },
  {
   "cell_type": "code",
   "execution_count": 18,
   "id": "258b53e6",
   "metadata": {},
   "outputs": [],
   "source": [
    "import spotipy\n",
    "from spotipy.oauth2 import SpotifyClientCredentials\n",
    "from time import sleep\n",
    "import json\n",
    "\n",
    "import pandas as pd"
   ]
  },
  {
   "cell_type": "markdown",
   "id": "a4856288",
   "metadata": {},
   "source": [
    "### Class permetant de scraper l'API Spotify "
   ]
  },
  {
   "cell_type": "code",
   "execution_count": 9,
   "id": "626eab74",
   "metadata": {},
   "outputs": [],
   "source": [
    "class SpotifyScraper():\n",
    "    \n",
    "    '''\n",
    "    Class permetant de récuperer les features descriptives d'un track à partir du titre et du l'artiste\n",
    "    \n",
    "    Pour fonctionner un compte Spotify for Developpers est necessaire\n",
    "    '''\n",
    "    \n",
    "    def __init__(self, cid, secret):\n",
    "        \n",
    "        '''\n",
    "        Initialisation de la class\n",
    "        \n",
    "        cid --> identifiant du compre Spotify for Developpers\n",
    "        secret --> clée secrete generée pour l'application\n",
    "        \n",
    "        cf Spotify for Developpers\n",
    "        '''\n",
    "        \n",
    "        client_credentials_manager = SpotifyClientCredentials(client_id=cid, client_secret=secret)\n",
    "        self.spotify = spotipy.Spotify(client_credentials_manager = client_credentials_manager, requests_timeout=10)\n",
    "    \n",
    "    def get_features(self, song_id):\n",
    "        \n",
    "        '''\n",
    "        Récupére les feartures d'un titre à partir de son id Spotify \n",
    "        exemple id : '5ghIJDpPoe3CfHMGu71E6T'\n",
    "        \n",
    "        retourne un liste de features (float)\n",
    "        '''\n",
    "        \n",
    "        sleep(0.1) # Tenmps d'attente pour eviter de saturer l'API\n",
    "        \n",
    "        try:\n",
    "            features = ['danceability', 'energy', 'key', 'loudness', 'mode', 'speechiness',\n",
    "                        'acousticness', 'instrumentalness', 'liveness',\n",
    "                        'valence', 'tempo']\n",
    "\n",
    "            track = self.spotify.audio_features([song_id])\n",
    "            result = list()\n",
    "\n",
    "            for feature in features:\n",
    "                a = track[0][feature]\n",
    "                result.append(a)\n",
    "\n",
    "            return result\n",
    "    \n",
    "            \n",
    "        except:\n",
    "            return None\n",
    "    \n",
    "    def search_song(self, txt, artist=None):\n",
    "        \n",
    "        '''\n",
    "        recherhce un titre à partirt du titre de la chanson et d'un nom d'artise\n",
    "        retourne l'id track Spotify correspondant si il est trouvé\n",
    "        '''\n",
    "        \n",
    "        try:\n",
    "            ans = self.spotify.search(q='track:' + txt, type='track')\n",
    "            \n",
    "            if artist==None:\n",
    "                return ans['tracks']['items'][0]['id']\n",
    "\n",
    "            for tr in ans['tracks']['items']:\n",
    "                \n",
    "                if tr['name'].lower() in txt.lower():\n",
    "                    for art in tr['artists']:\n",
    "                        \n",
    "                        if artist.lower() in art['name'].lower():\n",
    "                            return tr['id'], art['name'], tr['name']\n",
    "            \n",
    "            return None\n",
    "        \n",
    "        except:\n",
    "            return None\n",
    "        \n",
    "    \n",
    "    def search_song_features(self, txt, artist=None):\n",
    "        \n",
    "        '''\n",
    "        recherhce un titre à partirt du titre de la chanson et d'un nom d'artise\n",
    "        puis récupère les features associées\n",
    "        retourne un dictionaire\n",
    "        '''\n",
    "        \n",
    "        sleep(0.1) # Tenmps d'attente pour eviter de saturer l'API\n",
    "        \n",
    "        try:\n",
    "            \n",
    "            id, name, artist = self.search_song(txt, artist)\n",
    "            features = self.get_features(id)\n",
    "        \n",
    "            return {'artist':artist, 'name': name, 'features': features}\n",
    "        \n",
    "        except:\n",
    "            return None\n",
    "        "
   ]
  },
  {
   "cell_type": "markdown",
   "id": "6c839f40",
   "metadata": {},
   "source": [
    "### Creation d'un scraper"
   ]
  },
  {
   "cell_type": "code",
   "execution_count": 10,
   "id": "94da66aa",
   "metadata": {},
   "outputs": [],
   "source": [
    "with open ('credential/Spotify_credential.json') as f:\n",
    "    credentials = json.load(f)"
   ]
  },
  {
   "cell_type": "code",
   "execution_count": 11,
   "id": "7d20c913",
   "metadata": {},
   "outputs": [],
   "source": [
    "# creation d'un scraper\n",
    "scraper = SpotifyScraper(credentials['cid'], credentials['secret'])"
   ]
  },
  {
   "cell_type": "code",
   "execution_count": 12,
   "id": "d688ba6e",
   "metadata": {},
   "outputs": [
    {
     "data": {
      "text/plain": [
       "[0.502, 0.912, 1, -4.556, 1, 0.0564, 2.55e-05, 0.000173, 0.106, 0.72, 116.761]"
      ]
     },
     "execution_count": 12,
     "metadata": {},
     "output_type": "execute_result"
    }
   ],
   "source": [
    "# test de la méthode get_features\n",
    "scraper.get_features('5ghIJDpPoe3CfHMGu71E6T')"
   ]
  },
  {
   "cell_type": "code",
   "execution_count": 13,
   "id": "01fd459e",
   "metadata": {},
   "outputs": [
    {
     "data": {
      "text/plain": [
       "{'artist': 'The Girl and the Robot',\n",
       " 'name': 'Röyksopp',\n",
       " 'features': [0.511,\n",
       "  0.899,\n",
       "  9,\n",
       "  -5.323,\n",
       "  0,\n",
       "  0.0601,\n",
       "  0.115,\n",
       "  0.000105,\n",
       "  0.107,\n",
       "  0.0773,\n",
       "  121.0]}"
      ]
     },
     "execution_count": 13,
     "metadata": {},
     "output_type": "execute_result"
    }
   ],
   "source": [
    "# test de la méthode search_song_features\n",
    "scraper.search_song_features('The Girl And The Robot', 'Röyksopp')"
   ]
  },
  {
   "cell_type": "markdown",
   "id": "4c5407a4",
   "metadata": {},
   "source": [
    "## Chargement du dataset "
   ]
  },
  {
   "cell_type": "code",
   "execution_count": 17,
   "id": "18238a42",
   "metadata": {},
   "outputs": [
    {
     "name": "stderr",
     "output_type": "stream",
     "text": [
      "C:\\Users\\Alumet\\anaconda3\\lib\\site-packages\\numpy\\lib\\arraysetops.py:583: FutureWarning: elementwise comparison failed; returning scalar instead, but in the future will perform elementwise comparison\n",
      "  mask |= (ar1 == a)\n"
     ]
    }
   ],
   "source": [
    "df = pd.read_csv('filtered data/filtered_fm_dataset.csv', index_col=0)\n",
    "df = df.groupby(['track_id']).first().reset_index()"
   ]
  },
  {
   "cell_type": "code",
   "execution_count": 19,
   "id": "1dcc9111",
   "metadata": {},
   "outputs": [],
   "source": [
    "track_names = df['track_name'].values\n",
    "artist_names = df['artist_name'].values\n",
    "track_ids = df['track_id'].values"
   ]
  },
  {
   "cell_type": "markdown",
   "id": "6b24ae55",
   "metadata": {},
   "source": [
    "## Creation de deux fichiers temporaire\n",
    "\n",
    "Le grand nombre de donnés et le temps de traitement (environ 10h) nous oblige à faire un fichier de dump <br/>\n",
    "Pour eviter d'être bannie, nous traiton les données en batch de 10k ~ 1h de traitement\n",
    "\n",
    "**Fichiers:**<br/>\n",
    "out.csv --> fichier txt où les features sont ajoutés les une aprés les autres <br/>\n",
    "ou_id.csv --> fichier regroupant les id déjà traités"
   ]
  },
  {
   "cell_type": "code",
   "execution_count": 22,
   "id": "8eeacf58",
   "metadata": {},
   "outputs": [],
   "source": [
    "col = ['artist_name','track_name','track_id','danceability', 'energy', 'key', 'loudness', 'mode', 'speechiness',\n",
    "                        'acousticness', 'instrumentalness', 'liveness',\n",
    "                        'valence', 'tempo']"
   ]
  },
  {
   "cell_type": "code",
   "execution_count": 23,
   "id": "ee5ad3dc",
   "metadata": {},
   "outputs": [],
   "source": [
    "with open('out.csv', 'w') as f:\n",
    "                f.write(';'.join(col)+'\\n')"
   ]
  },
  {
   "cell_type": "code",
   "execution_count": 24,
   "id": "81292a09",
   "metadata": {},
   "outputs": [],
   "source": [
    "try:\n",
    "    with open('id_out.csv', 'r') as f:\n",
    "        out_id = set([int (l) for l in f.readlines()])\n",
    "    print(out_id)\n",
    "except:\n",
    "    out_id=set()"
   ]
  },
  {
   "cell_type": "code",
   "execution_count": 25,
   "id": "f39f07d3",
   "metadata": {},
   "outputs": [
    {
     "name": "stderr",
     "output_type": "stream",
     "text": [
      "100it [00:29,  3.44it/s]\n"
     ]
    }
   ],
   "source": [
    "from tqdm import tqdm\n",
    "\n",
    "col = ['artist_name','track_name','track_id','danceability', 'energy', 'key', 'loudness', 'mode', 'speechiness',\n",
    "                        'acousticness', 'instrumentalness', 'liveness',\n",
    "                        'valence', 'tempo']\n",
    "\n",
    "# recuperation des tack_id déjà traités\n",
    "try:\n",
    "    with open('id_out.csv', 'r') as f:\n",
    "        out_id = set([int (l) for l in f.readlines()])\n",
    "except:\n",
    "    out_id=set()\n",
    "\n",
    "\n",
    "# taille du batch\n",
    "max=100\n",
    "\n",
    "for artist, track,id in tqdm(zip(artist_names, track_names, track_ids)) :\n",
    "    \n",
    "    if id not in out_id:\n",
    "        \n",
    "        if max==0:\n",
    "            break\n",
    "        \n",
    "        result = scraper.search_song_features(track, artist)\n",
    "        max-=1\n",
    "\n",
    "        try:\n",
    "            with open('id_out.csv', 'a+') as f:\n",
    "                f.write(str(id)+'\\n')\n",
    "            \n",
    "            line = f'{artist};{track};{id};'+';'.join([str(x) for x in result['features']])+'\\n'\n",
    "            with open('out.csv', 'a+') as f:\n",
    "                f.write(line)\n",
    "        except:\n",
    "                pass\n",
    "    else:\n",
    "        pass"
   ]
  },
  {
   "cell_type": "markdown",
   "id": "9e4454cd",
   "metadata": {},
   "source": [
    "## Performance "
   ]
  },
  {
   "cell_type": "code",
   "execution_count": 34,
   "id": "7f099b76",
   "metadata": {},
   "outputs": [
    {
     "name": "stdout",
     "output_type": "stream",
     "text": [
      "0.5283498759305211\n"
     ]
    }
   ],
   "source": [
    "with open('out.csv', 'r') as f:\n",
    "    aa = len(f.readlines())\n",
    "\n",
    "with open('id_out.csv', 'r') as f:\n",
    "    bb = len(f.readlines())\n",
    "\n",
    "print(aa/bb)"
   ]
  },
  {
   "cell_type": "markdown",
   "id": "0745b598",
   "metadata": {},
   "source": [
    "## Transformation du fichier dump out.csv en DataFrame"
   ]
  },
  {
   "cell_type": "code",
   "execution_count": 26,
   "id": "a415e5c5",
   "metadata": {},
   "outputs": [],
   "source": [
    "columns = ['artist_name','track_name','track_id','danceability', 'energy', 'key', 'loudness', 'mode', 'speechiness',\n",
    "                        'acousticness', 'instrumentalness', 'liveness',\n",
    "                        'valence', 'tempo']\n",
    "\n",
    "df_2 = pd.DataFrame(columns=columns)\n",
    "\n",
    "with open('out.csv', 'r') as f:\n",
    "    temp = dict()\n",
    "    for line in f.readlines()[1:]:\n",
    "        for col, val in zip(columns,line[:-1].split(';')):\n",
    "            temp[col] = val\n",
    "        df_2 = df_2.append(pd.DataFrame.from_dict([temp]))\n",
    "        "
   ]
  },
  {
   "cell_type": "code",
   "execution_count": 27,
   "id": "7aeac3f2",
   "metadata": {},
   "outputs": [
    {
     "data": {
      "text/html": [
       "<div>\n",
       "<style scoped>\n",
       "    .dataframe tbody tr th:only-of-type {\n",
       "        vertical-align: middle;\n",
       "    }\n",
       "\n",
       "    .dataframe tbody tr th {\n",
       "        vertical-align: top;\n",
       "    }\n",
       "\n",
       "    .dataframe thead th {\n",
       "        text-align: right;\n",
       "    }\n",
       "</style>\n",
       "<table border=\"1\" class=\"dataframe\">\n",
       "  <thead>\n",
       "    <tr style=\"text-align: right;\">\n",
       "      <th></th>\n",
       "      <th>artist_name</th>\n",
       "      <th>track_name</th>\n",
       "      <th>track_id</th>\n",
       "      <th>danceability</th>\n",
       "      <th>energy</th>\n",
       "      <th>key</th>\n",
       "      <th>loudness</th>\n",
       "      <th>mode</th>\n",
       "      <th>speechiness</th>\n",
       "      <th>acousticness</th>\n",
       "      <th>instrumentalness</th>\n",
       "      <th>liveness</th>\n",
       "      <th>valence</th>\n",
       "      <th>tempo</th>\n",
       "    </tr>\n",
       "  </thead>\n",
       "  <tbody>\n",
       "    <tr>\n",
       "      <th>0</th>\n",
       "      <td>Minus 8</td>\n",
       "      <td>Elysian Fields</td>\n",
       "      <td>0</td>\n",
       "      <td>0.627</td>\n",
       "      <td>0.871</td>\n",
       "      <td>9</td>\n",
       "      <td>-8.742</td>\n",
       "      <td>0</td>\n",
       "      <td>0.0328</td>\n",
       "      <td>0.0962</td>\n",
       "      <td>0.358</td>\n",
       "      <td>0.109</td>\n",
       "      <td>0.956</td>\n",
       "      <td>89.102</td>\n",
       "    </tr>\n",
       "    <tr>\n",
       "      <th>0</th>\n",
       "      <td>Beanfield</td>\n",
       "      <td>Planetary Deadlock</td>\n",
       "      <td>1</td>\n",
       "      <td>0.775</td>\n",
       "      <td>0.624</td>\n",
       "      <td>7</td>\n",
       "      <td>-9.454</td>\n",
       "      <td>1</td>\n",
       "      <td>0.0475</td>\n",
       "      <td>0.137</td>\n",
       "      <td>0.849</td>\n",
       "      <td>0.101</td>\n",
       "      <td>0.466</td>\n",
       "      <td>89.997</td>\n",
       "    </tr>\n",
       "    <tr>\n",
       "      <th>0</th>\n",
       "      <td>Alif Tree</td>\n",
       "      <td>Deadly Species</td>\n",
       "      <td>2</td>\n",
       "      <td>0.583</td>\n",
       "      <td>0.428</td>\n",
       "      <td>9</td>\n",
       "      <td>-12.336</td>\n",
       "      <td>0</td>\n",
       "      <td>0.0271</td>\n",
       "      <td>0.778</td>\n",
       "      <td>0.687</td>\n",
       "      <td>0.172</td>\n",
       "      <td>0.335</td>\n",
       "      <td>140.041</td>\n",
       "    </tr>\n",
       "    <tr>\n",
       "      <th>0</th>\n",
       "      <td>4Hero</td>\n",
       "      <td>Dedication To The Horse</td>\n",
       "      <td>6</td>\n",
       "      <td>0.567</td>\n",
       "      <td>0.812</td>\n",
       "      <td>8</td>\n",
       "      <td>-6.049</td>\n",
       "      <td>1</td>\n",
       "      <td>0.0296</td>\n",
       "      <td>1.48e-05</td>\n",
       "      <td>0.0226</td>\n",
       "      <td>0.215</td>\n",
       "      <td>0.599</td>\n",
       "      <td>127.968</td>\n",
       "    </tr>\n",
       "    <tr>\n",
       "      <th>0</th>\n",
       "      <td>4Hero</td>\n",
       "      <td>Why Don'T You Talk?</td>\n",
       "      <td>7</td>\n",
       "      <td>0.571</td>\n",
       "      <td>0.711</td>\n",
       "      <td>7</td>\n",
       "      <td>-5.893</td>\n",
       "      <td>1</td>\n",
       "      <td>0.0366</td>\n",
       "      <td>0.00965</td>\n",
       "      <td>0.761</td>\n",
       "      <td>0.435</td>\n",
       "      <td>0.655</td>\n",
       "      <td>141.877</td>\n",
       "    </tr>\n",
       "  </tbody>\n",
       "</table>\n",
       "</div>"
      ],
      "text/plain": [
       "  artist_name               track_name track_id danceability energy key  \\\n",
       "0     Minus 8           Elysian Fields        0        0.627  0.871   9   \n",
       "0   Beanfield       Planetary Deadlock        1        0.775  0.624   7   \n",
       "0   Alif Tree           Deadly Species        2        0.583  0.428   9   \n",
       "0       4Hero  Dedication To The Horse        6        0.567  0.812   8   \n",
       "0       4Hero      Why Don'T You Talk?        7        0.571  0.711   7   \n",
       "\n",
       "  loudness mode speechiness acousticness instrumentalness liveness valence  \\\n",
       "0   -8.742    0      0.0328       0.0962            0.358    0.109   0.956   \n",
       "0   -9.454    1      0.0475        0.137            0.849    0.101   0.466   \n",
       "0  -12.336    0      0.0271        0.778            0.687    0.172   0.335   \n",
       "0   -6.049    1      0.0296     1.48e-05           0.0226    0.215   0.599   \n",
       "0   -5.893    1      0.0366      0.00965            0.761    0.435   0.655   \n",
       "\n",
       "     tempo  \n",
       "0   89.102  \n",
       "0   89.997  \n",
       "0  140.041  \n",
       "0  127.968  \n",
       "0  141.877  "
      ]
     },
     "execution_count": 27,
     "metadata": {},
     "output_type": "execute_result"
    }
   ],
   "source": [
    "df_2.head()"
   ]
  },
  {
   "cell_type": "markdown",
   "id": "ed75f5b3",
   "metadata": {},
   "source": [
    "## Rectification des types des variables"
   ]
  },
  {
   "cell_type": "code",
   "execution_count": 28,
   "id": "7371c324",
   "metadata": {},
   "outputs": [],
   "source": [
    "columns = ['track_id', 'key', 'mode']\n",
    "\n",
    "for col in columns:\n",
    "    df_2[col] = df_2[col].astype('int')"
   ]
  },
  {
   "cell_type": "code",
   "execution_count": 29,
   "id": "8d633177",
   "metadata": {},
   "outputs": [],
   "source": [
    "columns = ['danceability', 'energy', 'loudness', 'speechiness',\n",
    "                        'acousticness', 'instrumentalness', 'liveness',\n",
    "                        'valence', 'tempo']\n",
    "\n",
    "for col in columns:\n",
    "        df_2[col] = df_2[col].apply(lambda x: x.replace(',','.'))"
   ]
  },
  {
   "cell_type": "code",
   "execution_count": 30,
   "id": "75e2c111",
   "metadata": {},
   "outputs": [],
   "source": [
    "columns = ['danceability', 'energy', 'loudness', 'speechiness',\n",
    "                        'acousticness', 'instrumentalness', 'liveness',\n",
    "                        'valence', 'tempo']\n",
    "\n",
    "for col in columns:\n",
    "    df_2[col] = df_2[col].astype('float')"
   ]
  },
  {
   "cell_type": "code",
   "execution_count": 31,
   "id": "c0f67931",
   "metadata": {},
   "outputs": [],
   "source": [
    "df_2 = df_2.reset_index().drop(columns=['index'])"
   ]
  },
  {
   "cell_type": "code",
   "execution_count": 32,
   "id": "f29e2687",
   "metadata": {},
   "outputs": [],
   "source": [
    "df_2.to_csv('filtered data/track_features_fm_dataset.csv')"
   ]
  },
  {
   "cell_type": "markdown",
   "id": "ba74a75c",
   "metadata": {},
   "source": [
    "## Verification du DataFrame"
   ]
  },
  {
   "cell_type": "code",
   "execution_count": 33,
   "id": "2e5e7780",
   "metadata": {},
   "outputs": [
    {
     "data": {
      "text/html": [
       "<div>\n",
       "<style scoped>\n",
       "    .dataframe tbody tr th:only-of-type {\n",
       "        vertical-align: middle;\n",
       "    }\n",
       "\n",
       "    .dataframe tbody tr th {\n",
       "        vertical-align: top;\n",
       "    }\n",
       "\n",
       "    .dataframe thead th {\n",
       "        text-align: right;\n",
       "    }\n",
       "</style>\n",
       "<table border=\"1\" class=\"dataframe\">\n",
       "  <thead>\n",
       "    <tr style=\"text-align: right;\">\n",
       "      <th></th>\n",
       "      <th>artist_name</th>\n",
       "      <th>track_name</th>\n",
       "      <th>track_id</th>\n",
       "      <th>danceability</th>\n",
       "      <th>energy</th>\n",
       "      <th>key</th>\n",
       "      <th>loudness</th>\n",
       "      <th>mode</th>\n",
       "      <th>speechiness</th>\n",
       "      <th>acousticness</th>\n",
       "      <th>instrumentalness</th>\n",
       "      <th>liveness</th>\n",
       "      <th>valence</th>\n",
       "      <th>tempo</th>\n",
       "    </tr>\n",
       "  </thead>\n",
       "  <tbody>\n",
       "    <tr>\n",
       "      <th>0</th>\n",
       "      <td>Minus 8</td>\n",
       "      <td>Elysian Fields</td>\n",
       "      <td>0</td>\n",
       "      <td>0.627</td>\n",
       "      <td>0.871</td>\n",
       "      <td>9</td>\n",
       "      <td>-8.742</td>\n",
       "      <td>0</td>\n",
       "      <td>0.0328</td>\n",
       "      <td>0.096200</td>\n",
       "      <td>0.358000</td>\n",
       "      <td>0.109</td>\n",
       "      <td>0.9560</td>\n",
       "      <td>89.102</td>\n",
       "    </tr>\n",
       "    <tr>\n",
       "      <th>1</th>\n",
       "      <td>Beanfield</td>\n",
       "      <td>Planetary Deadlock</td>\n",
       "      <td>1</td>\n",
       "      <td>0.775</td>\n",
       "      <td>0.624</td>\n",
       "      <td>7</td>\n",
       "      <td>-9.454</td>\n",
       "      <td>1</td>\n",
       "      <td>0.0475</td>\n",
       "      <td>0.137000</td>\n",
       "      <td>0.849000</td>\n",
       "      <td>0.101</td>\n",
       "      <td>0.4660</td>\n",
       "      <td>89.997</td>\n",
       "    </tr>\n",
       "    <tr>\n",
       "      <th>2</th>\n",
       "      <td>Alif Tree</td>\n",
       "      <td>Deadly Species</td>\n",
       "      <td>2</td>\n",
       "      <td>0.583</td>\n",
       "      <td>0.428</td>\n",
       "      <td>9</td>\n",
       "      <td>-12.336</td>\n",
       "      <td>0</td>\n",
       "      <td>0.0271</td>\n",
       "      <td>0.778000</td>\n",
       "      <td>0.687000</td>\n",
       "      <td>0.172</td>\n",
       "      <td>0.3350</td>\n",
       "      <td>140.041</td>\n",
       "    </tr>\n",
       "    <tr>\n",
       "      <th>3</th>\n",
       "      <td>4Hero</td>\n",
       "      <td>Dedication To The Horse</td>\n",
       "      <td>6</td>\n",
       "      <td>0.567</td>\n",
       "      <td>0.812</td>\n",
       "      <td>8</td>\n",
       "      <td>-6.049</td>\n",
       "      <td>1</td>\n",
       "      <td>0.0296</td>\n",
       "      <td>0.000015</td>\n",
       "      <td>0.022600</td>\n",
       "      <td>0.215</td>\n",
       "      <td>0.5990</td>\n",
       "      <td>127.968</td>\n",
       "    </tr>\n",
       "    <tr>\n",
       "      <th>4</th>\n",
       "      <td>4Hero</td>\n",
       "      <td>Why Don'T You Talk?</td>\n",
       "      <td>7</td>\n",
       "      <td>0.571</td>\n",
       "      <td>0.711</td>\n",
       "      <td>7</td>\n",
       "      <td>-5.893</td>\n",
       "      <td>1</td>\n",
       "      <td>0.0366</td>\n",
       "      <td>0.009650</td>\n",
       "      <td>0.761000</td>\n",
       "      <td>0.435</td>\n",
       "      <td>0.6550</td>\n",
       "      <td>141.877</td>\n",
       "    </tr>\n",
       "    <tr>\n",
       "      <th>5</th>\n",
       "      <td>Röyksopp</td>\n",
       "      <td>The Girl And The Robot</td>\n",
       "      <td>10</td>\n",
       "      <td>0.511</td>\n",
       "      <td>0.899</td>\n",
       "      <td>9</td>\n",
       "      <td>-5.323</td>\n",
       "      <td>0</td>\n",
       "      <td>0.0601</td>\n",
       "      <td>0.115000</td>\n",
       "      <td>0.000105</td>\n",
       "      <td>0.107</td>\n",
       "      <td>0.0773</td>\n",
       "      <td>121.000</td>\n",
       "    </tr>\n",
       "    <tr>\n",
       "      <th>6</th>\n",
       "      <td>Röyksopp</td>\n",
       "      <td>Vision One</td>\n",
       "      <td>11</td>\n",
       "      <td>0.515</td>\n",
       "      <td>0.950</td>\n",
       "      <td>8</td>\n",
       "      <td>-6.025</td>\n",
       "      <td>0</td>\n",
       "      <td>0.0652</td>\n",
       "      <td>0.054800</td>\n",
       "      <td>0.213000</td>\n",
       "      <td>0.420</td>\n",
       "      <td>0.6800</td>\n",
       "      <td>93.082</td>\n",
       "    </tr>\n",
       "    <tr>\n",
       "      <th>7</th>\n",
       "      <td>Röyksopp</td>\n",
       "      <td>Happy Up Here</td>\n",
       "      <td>12</td>\n",
       "      <td>0.676</td>\n",
       "      <td>0.877</td>\n",
       "      <td>10</td>\n",
       "      <td>-3.847</td>\n",
       "      <td>1</td>\n",
       "      <td>0.1330</td>\n",
       "      <td>0.010200</td>\n",
       "      <td>0.186000</td>\n",
       "      <td>0.255</td>\n",
       "      <td>0.6850</td>\n",
       "      <td>103.538</td>\n",
       "    </tr>\n",
       "    <tr>\n",
       "      <th>8</th>\n",
       "      <td>Röyksopp</td>\n",
       "      <td>You Don'T Have A Clue</td>\n",
       "      <td>16</td>\n",
       "      <td>0.563</td>\n",
       "      <td>0.857</td>\n",
       "      <td>10</td>\n",
       "      <td>-4.700</td>\n",
       "      <td>0</td>\n",
       "      <td>0.0740</td>\n",
       "      <td>0.020000</td>\n",
       "      <td>0.187000</td>\n",
       "      <td>0.189</td>\n",
       "      <td>0.6210</td>\n",
       "      <td>116.106</td>\n",
       "    </tr>\n",
       "    <tr>\n",
       "      <th>9</th>\n",
       "      <td>Röyksopp</td>\n",
       "      <td>Miss It So Much</td>\n",
       "      <td>18</td>\n",
       "      <td>0.636</td>\n",
       "      <td>0.851</td>\n",
       "      <td>1</td>\n",
       "      <td>-5.488</td>\n",
       "      <td>0</td>\n",
       "      <td>0.0372</td>\n",
       "      <td>0.009620</td>\n",
       "      <td>0.817000</td>\n",
       "      <td>0.363</td>\n",
       "      <td>0.8050</td>\n",
       "      <td>134.003</td>\n",
       "    </tr>\n",
       "  </tbody>\n",
       "</table>\n",
       "</div>"
      ],
      "text/plain": [
       "  artist_name               track_name  track_id  danceability  energy  key  \\\n",
       "0     Minus 8           Elysian Fields         0         0.627   0.871    9   \n",
       "1   Beanfield       Planetary Deadlock         1         0.775   0.624    7   \n",
       "2   Alif Tree           Deadly Species         2         0.583   0.428    9   \n",
       "3       4Hero  Dedication To The Horse         6         0.567   0.812    8   \n",
       "4       4Hero      Why Don'T You Talk?         7         0.571   0.711    7   \n",
       "5    Röyksopp   The Girl And The Robot        10         0.511   0.899    9   \n",
       "6    Röyksopp               Vision One        11         0.515   0.950    8   \n",
       "7    Röyksopp            Happy Up Here        12         0.676   0.877   10   \n",
       "8    Röyksopp    You Don'T Have A Clue        16         0.563   0.857   10   \n",
       "9    Röyksopp          Miss It So Much        18         0.636   0.851    1   \n",
       "\n",
       "   loudness  mode  speechiness  acousticness  instrumentalness  liveness  \\\n",
       "0    -8.742     0       0.0328      0.096200          0.358000     0.109   \n",
       "1    -9.454     1       0.0475      0.137000          0.849000     0.101   \n",
       "2   -12.336     0       0.0271      0.778000          0.687000     0.172   \n",
       "3    -6.049     1       0.0296      0.000015          0.022600     0.215   \n",
       "4    -5.893     1       0.0366      0.009650          0.761000     0.435   \n",
       "5    -5.323     0       0.0601      0.115000          0.000105     0.107   \n",
       "6    -6.025     0       0.0652      0.054800          0.213000     0.420   \n",
       "7    -3.847     1       0.1330      0.010200          0.186000     0.255   \n",
       "8    -4.700     0       0.0740      0.020000          0.187000     0.189   \n",
       "9    -5.488     0       0.0372      0.009620          0.817000     0.363   \n",
       "\n",
       "   valence    tempo  \n",
       "0   0.9560   89.102  \n",
       "1   0.4660   89.997  \n",
       "2   0.3350  140.041  \n",
       "3   0.5990  127.968  \n",
       "4   0.6550  141.877  \n",
       "5   0.0773  121.000  \n",
       "6   0.6800   93.082  \n",
       "7   0.6850  103.538  \n",
       "8   0.6210  116.106  \n",
       "9   0.8050  134.003  "
      ]
     },
     "execution_count": 33,
     "metadata": {},
     "output_type": "execute_result"
    }
   ],
   "source": [
    "df_2 = pd.read_csv('filtered data/track_features_fm_dataset.csv', index_col=0)\n",
    "df_2.head(10)"
   ]
  },
  {
   "cell_type": "code",
   "execution_count": 34,
   "id": "7202051a",
   "metadata": {},
   "outputs": [
    {
     "data": {
      "text/plain": [
       "(58, 14)"
      ]
     },
     "execution_count": 34,
     "metadata": {},
     "output_type": "execute_result"
    }
   ],
   "source": [
    "df_2.shape"
   ]
  },
  {
   "cell_type": "code",
   "execution_count": 35,
   "id": "2dcb8891",
   "metadata": {},
   "outputs": [
    {
     "name": "stdout",
     "output_type": "stream",
     "text": [
      "<class 'pandas.core.frame.DataFrame'>\n",
      "Int64Index: 58 entries, 0 to 57\n",
      "Data columns (total 14 columns):\n",
      " #   Column            Non-Null Count  Dtype  \n",
      "---  ------            --------------  -----  \n",
      " 0   artist_name       58 non-null     object \n",
      " 1   track_name        58 non-null     object \n",
      " 2   track_id          58 non-null     int64  \n",
      " 3   danceability      58 non-null     float64\n",
      " 4   energy            58 non-null     float64\n",
      " 5   key               58 non-null     int64  \n",
      " 6   loudness          58 non-null     float64\n",
      " 7   mode              58 non-null     int64  \n",
      " 8   speechiness       58 non-null     float64\n",
      " 9   acousticness      58 non-null     float64\n",
      " 10  instrumentalness  58 non-null     float64\n",
      " 11  liveness          58 non-null     float64\n",
      " 12  valence           58 non-null     float64\n",
      " 13  tempo             58 non-null     float64\n",
      "dtypes: float64(9), int64(3), object(2)\n",
      "memory usage: 6.8+ KB\n"
     ]
    }
   ],
   "source": [
    "df_2.info()"
   ]
  }
 ],
 "metadata": {
  "kernelspec": {
   "display_name": "Python 3 (ipykernel)",
   "language": "python",
   "name": "python3"
  },
  "language_info": {
   "codemirror_mode": {
    "name": "ipython",
    "version": 3
   },
   "file_extension": ".py",
   "mimetype": "text/x-python",
   "name": "python",
   "nbconvert_exporter": "python",
   "pygments_lexer": "ipython3",
   "version": "3.9.13"
  }
 },
 "nbformat": 4,
 "nbformat_minor": 5
}
