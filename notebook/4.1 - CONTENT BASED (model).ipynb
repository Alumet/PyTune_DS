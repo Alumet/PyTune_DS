{
 "cells": [
  {
   "cell_type": "markdown",
   "id": "d9a23f4b",
   "metadata": {},
   "source": [
    "# CONTENT BASED RECOMENDATION\n",
    "\n",
    "Exploration des models content based\n",
    "- User based\n",
    "- Item based"
   ]
  },
  {
   "cell_type": "markdown",
   "id": "36f6fbf6",
   "metadata": {},
   "source": [
    "## Imports"
   ]
  },
  {
   "cell_type": "code",
   "execution_count": 1,
   "id": "5821d390",
   "metadata": {},
   "outputs": [],
   "source": [
    "import numpy as np \n",
    "import pandas as pd\n",
    "\n",
    "from sklearn.metrics.pairwise import cosine_similarity\n",
    "from sklearn.metrics import roc_auc_score\n",
    "\n",
    "from tqdm import tqdm\n",
    "\n",
    "import matplotlib.pyplot as plt"
   ]
  },
  {
   "cell_type": "markdown",
   "id": "6ac4bc78",
   "metadata": {},
   "source": [
    "## Data Import"
   ]
  },
  {
   "cell_type": "code",
   "execution_count": 2,
   "id": "ec3bd0e1",
   "metadata": {},
   "outputs": [
    {
     "name": "stderr",
     "output_type": "stream",
     "text": [
      "C:\\Users\\Alumet\\anaconda3\\lib\\site-packages\\numpy\\lib\\arraysetops.py:583: FutureWarning: elementwise comparison failed; returning scalar instead, but in the future will perform elementwise comparison\n",
      "  mask |= (ar1 == a)\n"
     ]
    }
   ],
   "source": [
    "df_train = pd.read_csv('filtered data/filtered_rating_fm_dataset_train.csv', index_col=0)\n",
    "df_test = pd.read_csv('filtered data/filtered_rating_fm_dataset_test.csv', index_col=0)"
   ]
  },
  {
   "cell_type": "code",
   "execution_count": 3,
   "id": "b502c27c",
   "metadata": {},
   "outputs": [],
   "source": [
    "df_track = pd.read_csv('filtered data/track_features_fm_dataset.csv', index_col=0)"
   ]
  },
  {
   "cell_type": "markdown",
   "id": "b8f2798e",
   "metadata": {},
   "source": [
    "## Data preparation"
   ]
  },
  {
   "cell_type": "markdown",
   "id": "82039fc9",
   "metadata": {},
   "source": [
    "#### On ne garde que les track_id présent dans le df_track"
   ]
  },
  {
   "cell_type": "code",
   "execution_count": 4,
   "id": "d85b3fbb",
   "metadata": {},
   "outputs": [],
   "source": [
    "track_ids = set(df_track['track_id'].unique())"
   ]
  },
  {
   "cell_type": "code",
   "execution_count": 5,
   "id": "9fd7a36f",
   "metadata": {},
   "outputs": [],
   "source": [
    "filter = df_train['track_id'].apply(lambda x: x in track_ids)\n",
    "df_train= df_train[filter]"
   ]
  },
  {
   "cell_type": "code",
   "execution_count": 6,
   "id": "06986ea4",
   "metadata": {},
   "outputs": [],
   "source": [
    "filter = df_test['track_id'].apply(lambda x: x in track_ids)\n",
    "df_test = df_test[filter]"
   ]
  },
  {
   "cell_type": "markdown",
   "id": "1e6d0846",
   "metadata": {},
   "source": [
    "#### Normalistion et vectorissation des track features"
   ]
  },
  {
   "cell_type": "code",
   "execution_count": 7,
   "id": "8b1b2216",
   "metadata": {},
   "outputs": [],
   "source": [
    "df_track = pd.concat([df_track,pd.get_dummies(df_track['key'], 'key')], axis=1)\n",
    "df_track.drop(columns=['key'], inplace=True)"
   ]
  },
  {
   "cell_type": "code",
   "execution_count": 8,
   "id": "275ff647",
   "metadata": {},
   "outputs": [],
   "source": [
    "df_track['loudness'] = (df_track['loudness']-df_track['loudness'].min())/(df_track['loudness'].max()-df_track['loudness'].min())"
   ]
  },
  {
   "cell_type": "code",
   "execution_count": 9,
   "id": "67e99478",
   "metadata": {},
   "outputs": [],
   "source": [
    "df_track['tempo'] = (df_track['tempo']-df_track['tempo'].min())/(df_track['tempo'].max()-df_track['tempo'].min())"
   ]
  },
  {
   "cell_type": "code",
   "execution_count": 10,
   "id": "7cc104ad",
   "metadata": {},
   "outputs": [],
   "source": [
    "df_track['vector'] = df_track.drop(columns=['track_id','artist_name','track_name']).apply(lambda r: tuple(r), axis=1).apply(np.array).values"
   ]
  },
  {
   "cell_type": "code",
   "execution_count": 11,
   "id": "98b99dbb",
   "metadata": {},
   "outputs": [
    {
     "data": {
      "text/html": [
       "<div>\n",
       "<style scoped>\n",
       "    .dataframe tbody tr th:only-of-type {\n",
       "        vertical-align: middle;\n",
       "    }\n",
       "\n",
       "    .dataframe tbody tr th {\n",
       "        vertical-align: top;\n",
       "    }\n",
       "\n",
       "    .dataframe thead th {\n",
       "        text-align: right;\n",
       "    }\n",
       "</style>\n",
       "<table border=\"1\" class=\"dataframe\">\n",
       "  <thead>\n",
       "    <tr style=\"text-align: right;\">\n",
       "      <th></th>\n",
       "      <th>artist_name</th>\n",
       "      <th>track_name</th>\n",
       "      <th>track_id</th>\n",
       "      <th>danceability</th>\n",
       "      <th>energy</th>\n",
       "      <th>loudness</th>\n",
       "      <th>mode</th>\n",
       "      <th>speechiness</th>\n",
       "      <th>acousticness</th>\n",
       "      <th>instrumentalness</th>\n",
       "      <th>...</th>\n",
       "      <th>key_3</th>\n",
       "      <th>key_4</th>\n",
       "      <th>key_5</th>\n",
       "      <th>key_6</th>\n",
       "      <th>key_7</th>\n",
       "      <th>key_8</th>\n",
       "      <th>key_9</th>\n",
       "      <th>key_10</th>\n",
       "      <th>key_11</th>\n",
       "      <th>vector</th>\n",
       "    </tr>\n",
       "  </thead>\n",
       "  <tbody>\n",
       "    <tr>\n",
       "      <th>0</th>\n",
       "      <td>Minus 8</td>\n",
       "      <td>Elysian Fields</td>\n",
       "      <td>0</td>\n",
       "      <td>0.627</td>\n",
       "      <td>0.871</td>\n",
       "      <td>0.809418</td>\n",
       "      <td>0</td>\n",
       "      <td>0.0328</td>\n",
       "      <td>0.0962</td>\n",
       "      <td>0.358</td>\n",
       "      <td>...</td>\n",
       "      <td>0</td>\n",
       "      <td>0</td>\n",
       "      <td>0</td>\n",
       "      <td>0</td>\n",
       "      <td>0</td>\n",
       "      <td>0</td>\n",
       "      <td>1</td>\n",
       "      <td>0</td>\n",
       "      <td>0</td>\n",
       "      <td>[0.627, 0.871, 0.8094177838836515, 0.0, 0.0328...</td>\n",
       "    </tr>\n",
       "    <tr>\n",
       "      <th>1</th>\n",
       "      <td>Beanfield</td>\n",
       "      <td>Planetary Deadlock</td>\n",
       "      <td>1</td>\n",
       "      <td>0.775</td>\n",
       "      <td>0.624</td>\n",
       "      <td>0.798175</td>\n",
       "      <td>1</td>\n",
       "      <td>0.0475</td>\n",
       "      <td>0.1370</td>\n",
       "      <td>0.849</td>\n",
       "      <td>...</td>\n",
       "      <td>0</td>\n",
       "      <td>0</td>\n",
       "      <td>0</td>\n",
       "      <td>0</td>\n",
       "      <td>1</td>\n",
       "      <td>0</td>\n",
       "      <td>0</td>\n",
       "      <td>0</td>\n",
       "      <td>0</td>\n",
       "      <td>[0.775, 0.624, 0.798174554297535, 1.0, 0.0475,...</td>\n",
       "    </tr>\n",
       "  </tbody>\n",
       "</table>\n",
       "<p>2 rows × 26 columns</p>\n",
       "</div>"
      ],
      "text/plain": [
       "  artist_name          track_name  track_id  danceability  energy  loudness  \\\n",
       "0     Minus 8      Elysian Fields         0         0.627   0.871  0.809418   \n",
       "1   Beanfield  Planetary Deadlock         1         0.775   0.624  0.798175   \n",
       "\n",
       "   mode  speechiness  acousticness  instrumentalness  ...  key_3  key_4  \\\n",
       "0     0       0.0328        0.0962             0.358  ...      0      0   \n",
       "1     1       0.0475        0.1370             0.849  ...      0      0   \n",
       "\n",
       "   key_5  key_6  key_7  key_8  key_9  key_10  key_11  \\\n",
       "0      0      0      0      0      1       0       0   \n",
       "1      0      0      1      0      0       0       0   \n",
       "\n",
       "                                              vector  \n",
       "0  [0.627, 0.871, 0.8094177838836515, 0.0, 0.0328...  \n",
       "1  [0.775, 0.624, 0.798174554297535, 1.0, 0.0475,...  \n",
       "\n",
       "[2 rows x 26 columns]"
      ]
     },
     "execution_count": 11,
     "metadata": {},
     "output_type": "execute_result"
    }
   ],
   "source": [
    "df_track.head(2)"
   ]
  },
  {
   "cell_type": "markdown",
   "id": "e09c137b",
   "metadata": {},
   "source": [
    "#### Creation d'un vecteur utilisateur"
   ]
  },
  {
   "cell_type": "code",
   "execution_count": 12,
   "id": "5e7c34a4",
   "metadata": {},
   "outputs": [],
   "source": [
    "df_gb = df_train.groupby(['user_id','track_id']).mean().reset_index()\n",
    "df_gb = df_gb[['user_id','track_id']]"
   ]
  },
  {
   "cell_type": "code",
   "execution_count": 13,
   "id": "c515a417",
   "metadata": {},
   "outputs": [],
   "source": [
    "df_user = df_gb.merge(df_track, left_on='track_id', right_on='track_id')\n",
    "df_user = df_user.drop(columns=['track_id', 'artist_name', 'track_name']).groupby('user_id').agg('mean').reset_index()"
   ]
  },
  {
   "cell_type": "code",
   "execution_count": 14,
   "id": "4761f24e",
   "metadata": {},
   "outputs": [],
   "source": [
    "df_user['vector'] = df_user.drop(columns=['user_id']).apply(lambda r: tuple(r), axis=1).apply(np.array).values"
   ]
  },
  {
   "cell_type": "code",
   "execution_count": 15,
   "id": "cb357780",
   "metadata": {},
   "outputs": [
    {
     "data": {
      "text/html": [
       "<div>\n",
       "<style scoped>\n",
       "    .dataframe tbody tr th:only-of-type {\n",
       "        vertical-align: middle;\n",
       "    }\n",
       "\n",
       "    .dataframe tbody tr th {\n",
       "        vertical-align: top;\n",
       "    }\n",
       "\n",
       "    .dataframe thead th {\n",
       "        text-align: right;\n",
       "    }\n",
       "</style>\n",
       "<table border=\"1\" class=\"dataframe\">\n",
       "  <thead>\n",
       "    <tr style=\"text-align: right;\">\n",
       "      <th></th>\n",
       "      <th>user_id</th>\n",
       "      <th>danceability</th>\n",
       "      <th>energy</th>\n",
       "      <th>loudness</th>\n",
       "      <th>mode</th>\n",
       "      <th>speechiness</th>\n",
       "      <th>acousticness</th>\n",
       "      <th>instrumentalness</th>\n",
       "      <th>liveness</th>\n",
       "      <th>valence</th>\n",
       "      <th>...</th>\n",
       "      <th>key_3</th>\n",
       "      <th>key_4</th>\n",
       "      <th>key_5</th>\n",
       "      <th>key_6</th>\n",
       "      <th>key_7</th>\n",
       "      <th>key_8</th>\n",
       "      <th>key_9</th>\n",
       "      <th>key_10</th>\n",
       "      <th>key_11</th>\n",
       "      <th>vector</th>\n",
       "    </tr>\n",
       "  </thead>\n",
       "  <tbody>\n",
       "    <tr>\n",
       "      <th>0</th>\n",
       "      <td>1</td>\n",
       "      <td>0.532538</td>\n",
       "      <td>0.615229</td>\n",
       "      <td>0.786647</td>\n",
       "      <td>0.566343</td>\n",
       "      <td>0.075930</td>\n",
       "      <td>0.291969</td>\n",
       "      <td>0.428167</td>\n",
       "      <td>0.189321</td>\n",
       "      <td>0.416327</td>\n",
       "      <td>...</td>\n",
       "      <td>0.02589</td>\n",
       "      <td>0.071197</td>\n",
       "      <td>0.058252</td>\n",
       "      <td>0.093851</td>\n",
       "      <td>0.100324</td>\n",
       "      <td>0.048544</td>\n",
       "      <td>0.097087</td>\n",
       "      <td>0.080906</td>\n",
       "      <td>0.080906</td>\n",
       "      <td>[0.5325381877022655, 0.6152288025889967, 0.786...</td>\n",
       "    </tr>\n",
       "    <tr>\n",
       "      <th>1</th>\n",
       "      <td>2</td>\n",
       "      <td>0.494137</td>\n",
       "      <td>0.654593</td>\n",
       "      <td>0.825662</td>\n",
       "      <td>0.709108</td>\n",
       "      <td>0.057996</td>\n",
       "      <td>0.255986</td>\n",
       "      <td>0.100821</td>\n",
       "      <td>0.193513</td>\n",
       "      <td>0.474405</td>\n",
       "      <td>...</td>\n",
       "      <td>0.02881</td>\n",
       "      <td>0.096654</td>\n",
       "      <td>0.068309</td>\n",
       "      <td>0.052045</td>\n",
       "      <td>0.118959</td>\n",
       "      <td>0.042286</td>\n",
       "      <td>0.141729</td>\n",
       "      <td>0.038569</td>\n",
       "      <td>0.091543</td>\n",
       "      <td>[0.49413661710037177, 0.654593401626394, 0.825...</td>\n",
       "    </tr>\n",
       "  </tbody>\n",
       "</table>\n",
       "<p>2 rows × 24 columns</p>\n",
       "</div>"
      ],
      "text/plain": [
       "   user_id  danceability    energy  loudness      mode  speechiness  \\\n",
       "0        1      0.532538  0.615229  0.786647  0.566343     0.075930   \n",
       "1        2      0.494137  0.654593  0.825662  0.709108     0.057996   \n",
       "\n",
       "   acousticness  instrumentalness  liveness   valence  ...    key_3     key_4  \\\n",
       "0      0.291969          0.428167  0.189321  0.416327  ...  0.02589  0.071197   \n",
       "1      0.255986          0.100821  0.193513  0.474405  ...  0.02881  0.096654   \n",
       "\n",
       "      key_5     key_6     key_7     key_8     key_9    key_10    key_11  \\\n",
       "0  0.058252  0.093851  0.100324  0.048544  0.097087  0.080906  0.080906   \n",
       "1  0.068309  0.052045  0.118959  0.042286  0.141729  0.038569  0.091543   \n",
       "\n",
       "                                              vector  \n",
       "0  [0.5325381877022655, 0.6152288025889967, 0.786...  \n",
       "1  [0.49413661710037177, 0.654593401626394, 0.825...  \n",
       "\n",
       "[2 rows x 24 columns]"
      ]
     },
     "execution_count": 15,
     "metadata": {},
     "output_type": "execute_result"
    }
   ],
   "source": [
    "df_user.head(2)"
   ]
  },
  {
   "cell_type": "markdown",
   "id": "7d81c893",
   "metadata": {},
   "source": [
    "## Class de metrique"
   ]
  },
  {
   "cell_type": "code",
   "execution_count": 16,
   "id": "ccbe932d",
   "metadata": {},
   "outputs": [],
   "source": [
    "class k_best():\n",
    "    def __init__(self, user_tracks, recomended_tracks):\n",
    "        self.user_tracks = user_tracks\n",
    "        self.recomended_tracks = recomended_tracks\n",
    "    \n",
    "    def CG(self):\n",
    "        \n",
    "        return len(set(self.recomended_tracks).intersection(set(self.user_tracks)))\n",
    "    \n",
    "    def DCG(self):\n",
    "        \n",
    "        result = 0\n",
    "        for i,id in enumerate(self.recomended_tracks):\n",
    "            \n",
    "            if id in self.user_tracks:\n",
    "                result+=1/np.log2(i+2)\n",
    "\n",
    "        return result\n",
    "    \n",
    "    def IDCG(self):\n",
    "        \n",
    "        a = self.CG()\n",
    "        result=0\n",
    "        \n",
    "        for i in range (a):\n",
    "            result+=1/np.log2(i+2)\n",
    "        \n",
    "        return result\n",
    "    \n",
    "    def NDCG(self):\n",
    "        if self.IDCG()!=0:\n",
    "            result = self.DCG()/self.IDCG()\n",
    "        else:\n",
    "            result=0\n",
    "            \n",
    "        return result\n",
    "    \n",
    "    def P_at_k(self):\n",
    "        \n",
    "        return self.CG()/len(self.recomended_tracks)\n",
    "\n",
    "    \n",
    "    def __str__(self):\n",
    "        \n",
    "        result = 'K_best ressults: \\n'\n",
    "        result+= f'CG = {self.CG()}\\n'\n",
    "        result+= f'DCG = {self.DCG()}\\n'\n",
    "        result+= f'NDCG = {self.NDCG()}\\n'\n",
    "        result+= f'P@K = {self.P_at_k()}\\n'\n",
    "        \n",
    "        return result\n",
    "        "
   ]
  },
  {
   "cell_type": "markdown",
   "id": "d4d9632a",
   "metadata": {},
   "source": [
    "## User based recomendation"
   ]
  },
  {
   "cell_type": "markdown",
   "id": "dac48845",
   "metadata": {},
   "source": [
    "#### Test de la fonction cosine_similarity"
   ]
  },
  {
   "cell_type": "code",
   "execution_count": 17,
   "id": "1b1f4451",
   "metadata": {},
   "outputs": [
    {
     "data": {
      "text/plain": [
       "array([[1.]])"
      ]
     },
     "execution_count": 17,
     "metadata": {},
     "output_type": "execute_result"
    }
   ],
   "source": [
    "# Sur la même vecteur on devrais avoir une cosine_similarity de 1\n",
    "cosine_similarity([df_track['vector'].iloc[0]], [df_track['vector'].iloc[0]])"
   ]
  },
  {
   "cell_type": "code",
   "execution_count": 18,
   "id": "59bf39cd",
   "metadata": {},
   "outputs": [],
   "source": [
    "# Retourne les n meilleur recommendation en tutilisant la cosine_similarity\n",
    "def get_reco(vec, n=50):\n",
    "    \n",
    "    track_vec = np.array([x for x in df_track['vector']])\n",
    "    res = cosine_similarity(vec,track_vec)[0]\n",
    "    \n",
    "    df_res = pd.DataFrame()\n",
    "    df_res['track_id'] = df_track['track_id']\n",
    "    df_res['cosine_similarity'] = res\n",
    "    \n",
    "    if n>=0:\n",
    "        df_res = df_res.sort_values(by=['cosine_similarity'], ascending=False).iloc[0:n]\n",
    "    \n",
    "    return df_res"
   ]
  },
  {
   "cell_type": "code",
   "execution_count": 19,
   "id": "2e536f49",
   "metadata": {},
   "outputs": [
    {
     "data": {
      "text/html": [
       "<div>\n",
       "<style scoped>\n",
       "    .dataframe tbody tr th:only-of-type {\n",
       "        vertical-align: middle;\n",
       "    }\n",
       "\n",
       "    .dataframe tbody tr th {\n",
       "        vertical-align: top;\n",
       "    }\n",
       "\n",
       "    .dataframe thead th {\n",
       "        text-align: right;\n",
       "    }\n",
       "</style>\n",
       "<table border=\"1\" class=\"dataframe\">\n",
       "  <thead>\n",
       "    <tr style=\"text-align: right;\">\n",
       "      <th></th>\n",
       "      <th>track_id</th>\n",
       "      <th>cosine_similarity</th>\n",
       "    </tr>\n",
       "  </thead>\n",
       "  <tbody>\n",
       "    <tr>\n",
       "      <th>38608</th>\n",
       "      <td>72369</td>\n",
       "      <td>0.901985</td>\n",
       "    </tr>\n",
       "    <tr>\n",
       "      <th>20022</th>\n",
       "      <td>35565</td>\n",
       "      <td>0.899898</td>\n",
       "    </tr>\n",
       "    <tr>\n",
       "      <th>10851</th>\n",
       "      <td>18780</td>\n",
       "      <td>0.898213</td>\n",
       "    </tr>\n",
       "    <tr>\n",
       "      <th>23725</th>\n",
       "      <td>42573</td>\n",
       "      <td>0.897887</td>\n",
       "    </tr>\n",
       "    <tr>\n",
       "      <th>3651</th>\n",
       "      <td>6107</td>\n",
       "      <td>0.897527</td>\n",
       "    </tr>\n",
       "  </tbody>\n",
       "</table>\n",
       "</div>"
      ],
      "text/plain": [
       "       track_id  cosine_similarity\n",
       "38608     72369           0.901985\n",
       "20022     35565           0.899898\n",
       "10851     18780           0.898213\n",
       "23725     42573           0.897887\n",
       "3651       6107           0.897527"
      ]
     },
     "execution_count": 19,
     "metadata": {},
     "output_type": "execute_result"
    }
   ],
   "source": [
    "get_reco([df_user['vector'].iloc[0]]).head()"
   ]
  },
  {
   "cell_type": "markdown",
   "id": "8d55bd65",
   "metadata": {},
   "source": [
    "### Essais sur un utilissateur"
   ]
  },
  {
   "cell_type": "code",
   "execution_count": 20,
   "id": "f6783c06",
   "metadata": {},
   "outputs": [],
   "source": [
    "user = 1\n",
    "\n",
    "vect = df_user[df_user['user_id']==user]['vector'].values # On recupére le veteur de notre utilisateur\n",
    "recomended_tracks = set(get_reco([vect[0]])['track_id'].values) # On calcule les n=50 meilleurs recomendations"
   ]
  },
  {
   "cell_type": "code",
   "execution_count": 21,
   "id": "7df87f7b",
   "metadata": {},
   "outputs": [],
   "source": [
    "user_tracks_train = set([x for x in df_train[df_train['user_id']==user]['track_id'].unique()]) # track_id dans le dataset train\n",
    "user_tracks_test = set([x for x in df_test[df_test['user_id']==user]['track_id'].unique()])# track_id dans le dataset test"
   ]
  },
  {
   "cell_type": "markdown",
   "id": "9c3dc55b",
   "metadata": {},
   "source": [
    "#### Metrique K_best"
   ]
  },
  {
   "cell_type": "code",
   "execution_count": 22,
   "id": "2f512279",
   "metadata": {},
   "outputs": [
    {
     "name": "stdout",
     "output_type": "stream",
     "text": [
      "K_best ressults: \n",
      "CG = 1\n",
      "DCG = 0.22424382421757544\n",
      "NDCG = 0.22424382421757544\n",
      "P@K = 0.02\n",
      "\n"
     ]
    }
   ],
   "source": [
    "# Calcule des metriques sur train\n",
    "k = k_best(user_tracks_train, recomended_tracks)\n",
    "print(k)"
   ]
  },
  {
   "cell_type": "code",
   "execution_count": 23,
   "id": "25a4643e",
   "metadata": {},
   "outputs": [
    {
     "name": "stdout",
     "output_type": "stream",
     "text": [
      "K_best ressults: \n",
      "CG = 1\n",
      "DCG = 0.17718382013555792\n",
      "NDCG = 0.17718382013555792\n",
      "P@K = 0.02\n",
      "\n"
     ]
    }
   ],
   "source": [
    "# Calcule des metriques sur test\n",
    "k = k_best(user_tracks_test, recomended_tracks)\n",
    "print(k)"
   ]
  },
  {
   "cell_type": "markdown",
   "id": "61ebdad3",
   "metadata": {},
   "source": [
    "#### Metrique AUC_ROC"
   ]
  },
  {
   "cell_type": "code",
   "execution_count": 24,
   "id": "9349c27b",
   "metadata": {},
   "outputs": [],
   "source": [
    "recomended_tracks = get_reco([vect[0]])\n",
    "recomended_tracks['true_train'] = recomended_tracks['track_id'].apply(lambda x: 1 if x in user_tracks_train else 0)\n",
    "recomended_tracks['true_test'] = recomended_tracks['track_id'].apply(lambda x: 1 if x in user_tracks_test else 0)"
   ]
  },
  {
   "cell_type": "code",
   "execution_count": 25,
   "id": "509cf199",
   "metadata": {},
   "outputs": [],
   "source": [
    "recomended_tracks['pred'] = recomended_tracks['cosine_similarity'].apply(lambda x : 1 if x>0.5 else 0)"
   ]
  },
  {
   "cell_type": "code",
   "execution_count": 26,
   "id": "ba988c76",
   "metadata": {},
   "outputs": [
    {
     "data": {
      "text/plain": [
       "0.5"
      ]
     },
     "execution_count": 26,
     "metadata": {},
     "output_type": "execute_result"
    }
   ],
   "source": [
    "# Calcule des metriques sur train\n",
    "y_pred = recomended_tracks['pred'].values\n",
    "y_true = recomended_tracks['true_train'].values\n",
    "\n",
    "roc_auc_score(y_true, y_pred)"
   ]
  },
  {
   "cell_type": "code",
   "execution_count": 27,
   "id": "3873f3d6",
   "metadata": {},
   "outputs": [
    {
     "data": {
      "text/plain": [
       "0.5"
      ]
     },
     "execution_count": 27,
     "metadata": {},
     "output_type": "execute_result"
    }
   ],
   "source": [
    "# Calcule des metriques sur test\n",
    "y_pred = recomended_tracks['pred'].values\n",
    "y_true = recomended_tracks['true_test'].values\n",
    "\n",
    "roc_auc_score(y_true, y_pred)"
   ]
  },
  {
   "cell_type": "markdown",
   "id": "39158acc",
   "metadata": {},
   "source": [
    "### Evaluation du model sur l'ensemble des utilisateurs"
   ]
  },
  {
   "cell_type": "markdown",
   "id": "4261475a",
   "metadata": {},
   "source": [
    "### K_best"
   ]
  },
  {
   "cell_type": "code",
   "execution_count": 29,
   "id": "c990ae44",
   "metadata": {},
   "outputs": [
    {
     "name": "stderr",
     "output_type": "stream",
     "text": [
      "100%|████████████████████████████████████████████████████████████████████████████████| 959/959 [00:50<00:00, 18.97it/s]\n"
     ]
    }
   ],
   "source": [
    "train_scores = list()\n",
    "test_scores = list()\n",
    "user_id = list()\n",
    "\n",
    "for user in tqdm(df_train['user_id'].unique()):\n",
    "    user_tracks_train = set([x for x in df_train[df_train['user_id']==user]['track_id'].unique()])\n",
    "    user_tracks_test = set([x for x in df_test[df_test['user_id']==user]['track_id'].unique()])\n",
    "   \n",
    "    vect = df_user[df_user['user_id']==user]['vector'].values\n",
    "    recomended_tracks = set(get_reco([vect[0]])['track_id'].values)\n",
    "    \n",
    "    k = k_best(user_tracks_train, recomended_tracks)\n",
    "    train_scores.append(k.NDCG())\n",
    "    \n",
    "    if len(user_tracks_test)!=0:\n",
    "        k = k_best(user_tracks_test, recomended_tracks)\n",
    "        test_scores.append(k.NDCG())\n",
    "    else:\n",
    "        test_scores.append(1)\n",
    "    \n",
    "    user_id.append(user)"
   ]
  },
  {
   "cell_type": "code",
   "execution_count": 30,
   "id": "45170b0a",
   "metadata": {},
   "outputs": [
    {
     "name": "stdout",
     "output_type": "stream",
     "text": [
      "Train_mean_NDCG =  0.24037640037098376\n",
      "Test_mean_NDCG =  0.1385809024652225\n"
     ]
    }
   ],
   "source": [
    "print('Train_mean_NDCG = ', np.array(train_scores).mean())\n",
    "print('Test_mean_NDCG = ', np.array(test_scores).mean())"
   ]
  },
  {
   "cell_type": "markdown",
   "id": "a241d4d0",
   "metadata": {},
   "source": [
    "### AUC_ROC"
   ]
  },
  {
   "cell_type": "code",
   "execution_count": 31,
   "id": "4047fdb5",
   "metadata": {},
   "outputs": [
    {
     "name": "stderr",
     "output_type": "stream",
     "text": [
      "100%|████████████████████████████████████████████████████████████████████████████████| 959/959 [08:38<00:00,  1.85it/s]\n"
     ]
    }
   ],
   "source": [
    "scores = dict()\n",
    "\n",
    "for s in np.linspace(0.5,1,16):\n",
    "    scores[s]={'train':[], 'test':[]}\n",
    "\n",
    "\n",
    "for user in tqdm(df_train['user_id'].unique()):\n",
    "    \n",
    "    user_tracks_train = set([x for x in df_train[df_train['user_id']==user]['track_id'].unique()])\n",
    "    user_tracks_test = set([x for x in df_test[df_test['user_id']==user]['track_id'].unique()])\n",
    "    \n",
    "    vect = df_user[df_user['user_id']==user]['vector'].values\n",
    "    recomended_tracks = get_reco([vect[0]], n=-1)\n",
    "    \n",
    "    recomended_tracks['true_train'] = recomended_tracks['track_id'].apply(lambda x: 1 if x in user_tracks_train else 0)\n",
    "    recomended_tracks['true_test'] = recomended_tracks['track_id'].apply(lambda x: 1 if x in user_tracks_test else 0)\n",
    "    \n",
    "    for s in np.linspace(0.5,1,16):\n",
    "    \n",
    "        recomended_tracks['pred'] = recomended_tracks['cosine_similarity'].apply(lambda x : 1 if x>s else 0)\n",
    "        y_pred = recomended_tracks['pred'].values\n",
    "\n",
    "        y_true_train = recomended_tracks['true_train'].values\n",
    "        score = roc_auc_score(y_true_train, y_pred)  \n",
    "        scores[s]['train'].append(score)\n",
    "\n",
    "        y_true_test = recomended_tracks['true_test'].values\n",
    "        score = roc_auc_score(y_true_test, y_pred)\n",
    "        scores[s]['test'].append(score)\n",
    "        \n",
    "    \n",
    "    "
   ]
  },
  {
   "cell_type": "code",
   "execution_count": 102,
   "id": "58d2bd9f",
   "metadata": {},
   "outputs": [
    {
     "data": {
      "image/png": "[encoded data removed]",
      "text/plain": [
       "<Figure size 1152x648 with 1 Axes>"
      ]
     },
     "metadata": {
      "needs_background": "light"
     },
     "output_type": "display_data"
    }
   ],
   "source": [
    "train_score = list()\n",
    "test_score = list()\n",
    "seuil = list()\n",
    "\n",
    "for key in scores.keys():\n",
    "    train_score.append(np.array(scores[key]['train']).mean())\n",
    "    test_score.append(np.array(scores[key]['test']).mean())\n",
    "    seuil.append(key)\n",
    "\n",
    "\n",
    "plt.figure(figsize=(16,9))\n",
    "plt.plot(seuil, train_score, label='Train')\n",
    "plt.plot(seuil, test_score, label='Test')\n",
    "plt.legend()\n",
    "\n",
    "plt.title('AUC_ROC score en fonciton du seuil')\n",
    "plt.xlabel('Seuil')\n",
    "plt.ylabel('AUC_ROC Score')\n",
    "plt.show\n",
    "\n",
    "plt.savefig(\"AUC_ROC score en fonction du seuil, content based\", dpi=300, pad_inches=0.1,bbox_inches='tight')"
   ]
  },
  {
   "cell_type": "code",
   "execution_count": 33,
   "id": "a6dc1b94",
   "metadata": {},
   "outputs": [
    {
     "name": "stdout",
     "output_type": "stream",
     "text": [
      "Seuil = 0.8333333333333333\n",
      "Train_mean_ROC = 0.5370241901526518\n",
      "Train_mean_ROC = 0.5336104673311515\n"
     ]
    }
   ],
   "source": [
    "i = np.array(train_score).argmax()\n",
    "\n",
    "print(f'Seuil = {seuil[i]}')\n",
    "print(f'Train_mean_AUC_ROC = {train_score[i]}')\n",
    "print(f'Train_mean_AUC_ROC = {test_score[i]}')"
   ]
  },
  {
   "cell_type": "markdown",
   "id": "87d6f3db",
   "metadata": {},
   "source": [
    "## Item based recomendation"
   ]
  },
  {
   "cell_type": "code",
   "execution_count": 37,
   "id": "9907c0b3",
   "metadata": {},
   "outputs": [],
   "source": [
    "def get_reco_from_traklist(user_track_vector_list, n=50):\n",
    "    \n",
    "    reco_full = pd.DataFrame({'track_id': [], 'cosine_similarity': []})\n",
    "\n",
    "    for track_vec in user_track_vector_list:\n",
    "        try:\n",
    "            if n>=0:\n",
    "                reco = get_reco([track_vec],50)\n",
    "            else:\n",
    "                reco = get_reco([track_vec],-1)\n",
    "                \n",
    "            reco_full = pd.concat([reco_full,reco.iloc[1:]])\n",
    "        except:\n",
    "            pass\n",
    "    if n>=0:\n",
    "        return reco_full.sort_values(by=['cosine_similarity'], ascending=False).iloc[0:n]\n",
    "    else:\n",
    "        return reco_full.groupby(['track_id']).mean().reset_index()"
   ]
  },
  {
   "cell_type": "code",
   "execution_count": 63,
   "id": "f89f8146",
   "metadata": {},
   "outputs": [],
   "source": [
    "def top_user_music(user_id, n=10):\n",
    "    a = df_train[df_train['user_id']==user_id]\n",
    "    l = a['track_id']\n",
    "    return set(l.value_counts()[:n].index)"
   ]
  },
  {
   "cell_type": "markdown",
   "id": "f5ae3a3b",
   "metadata": {},
   "source": [
    "### Essais sur un utilissateur"
   ]
  },
  {
   "cell_type": "code",
   "execution_count": 76,
   "id": "1dc2ed32",
   "metadata": {},
   "outputs": [],
   "source": [
    "user = 1"
   ]
  },
  {
   "cell_type": "code",
   "execution_count": 77,
   "id": "32637b32",
   "metadata": {},
   "outputs": [],
   "source": [
    "user_tracks_train = set([x for x in df_train[df_train['user_id']==user]['track_id'].unique()])\n",
    "user_track_list = pd.DataFrame({'track_id': list(top_user_music(user,10))})\n",
    "vector_list = pd.merge(user_track_list, df_track, how='left', left_on=['track_id'], right_on = ['track_id'])['vector'].values"
   ]
  },
  {
   "cell_type": "code",
   "execution_count": 78,
   "id": "5cb6ac0a",
   "metadata": {},
   "outputs": [],
   "source": [
    "recomended_tracks = set(get_reco_from_traklist(vector_list,50)['track_id'].values)"
   ]
  },
  {
   "cell_type": "markdown",
   "id": "3a3b3f8d",
   "metadata": {},
   "source": [
    "#### Metrique K_best"
   ]
  },
  {
   "cell_type": "code",
   "execution_count": 79,
   "id": "0d47cfba",
   "metadata": {},
   "outputs": [
    {
     "name": "stdout",
     "output_type": "stream",
     "text": [
      "K_best ressults: \n",
      "CG = 2\n",
      "DCG = 0.550873790152367\n",
      "NDCG = 0.3377667179999921\n",
      "P@K = 0.04\n",
      "\n"
     ]
    }
   ],
   "source": [
    "k = k_best(user_tracks_train, recomended_tracks)\n",
    "print(k)"
   ]
  },
  {
   "cell_type": "code",
   "execution_count": 80,
   "id": "a462b473",
   "metadata": {},
   "outputs": [
    {
     "name": "stdout",
     "output_type": "stream",
     "text": [
      "K_best ressults: \n",
      "CG = 2\n",
      "DCG = 0.5875854002677814\n",
      "NDCG = 0.36027633868415837\n",
      "P@K = 0.04\n",
      "\n"
     ]
    }
   ],
   "source": [
    "k = k_best(user_tracks_test, recomended_tracks)\n",
    "print(k)"
   ]
  },
  {
   "cell_type": "markdown",
   "id": "2f1aa48b",
   "metadata": {},
   "source": [
    "#### Metrique AUC_ROC"
   ]
  },
  {
   "cell_type": "code",
   "execution_count": 85,
   "id": "ce58099e",
   "metadata": {},
   "outputs": [],
   "source": [
    "recomended_tracks = get_reco_from_traklist(vector_list,50)\n",
    "recomended_tracks['true_train'] = recomended_tracks['track_id'].apply(lambda x: 1 if x in user_tracks_train else 0)\n",
    "recomended_tracks['true_test'] = recomended_tracks['track_id'].apply(lambda x: 1 if x in user_tracks_test else 0)"
   ]
  },
  {
   "cell_type": "code",
   "execution_count": 94,
   "id": "3bae55d2",
   "metadata": {},
   "outputs": [],
   "source": [
    "recomended_tracks['pred'] = recomended_tracks['cosine_similarity'].apply(lambda x : 1 if x>0.5 else 0)"
   ]
  },
  {
   "cell_type": "code",
   "execution_count": 95,
   "id": "c5b0d1d0",
   "metadata": {},
   "outputs": [
    {
     "data": {
      "text/plain": [
       "0.5"
      ]
     },
     "execution_count": 95,
     "metadata": {},
     "output_type": "execute_result"
    }
   ],
   "source": [
    "# Calcule des metriques sur train\n",
    "y_pred = recomended_tracks['pred'].values\n",
    "y_true = recomended_tracks['true_train'].values\n",
    "\n",
    "roc_auc_score(y_true, y_pred)"
   ]
  },
  {
   "cell_type": "code",
   "execution_count": 96,
   "id": "e681077f",
   "metadata": {},
   "outputs": [
    {
     "data": {
      "text/plain": [
       "0.5"
      ]
     },
     "execution_count": 96,
     "metadata": {},
     "output_type": "execute_result"
    }
   ],
   "source": [
    "# Calcule des metriques sur test\n",
    "y_pred = recomended_tracks['pred'].values\n",
    "y_true = recomended_tracks['true_test'].values\n",
    "\n",
    "roc_auc_score(y_true, y_pred)"
   ]
  },
  {
   "cell_type": "markdown",
   "id": "cccfead2",
   "metadata": {},
   "source": [
    "### Evaluation du model sur l'ensemble des utilisateurs"
   ]
  },
  {
   "cell_type": "markdown",
   "id": "a1bd4212",
   "metadata": {},
   "source": [
    "### K_best"
   ]
  },
  {
   "cell_type": "code",
   "execution_count": 97,
   "id": "761082c0",
   "metadata": {},
   "outputs": [
    {
     "name": "stderr",
     "output_type": "stream",
     "text": [
      "100%|████████████████████████████████████████████████████████████████████████████████| 959/959 [07:22<00:00,  2.17it/s]\n"
     ]
    }
   ],
   "source": [
    "train_scores = list()\n",
    "test_scores = list()\n",
    "user_id = list()\n",
    "\n",
    "for user in tqdm(df_train['user_id'].unique()):\n",
    "    user_tracks_train = set([x for x in df_train[df_train['user_id']==user]['track_id'].unique()])\n",
    "    user_tracks_test = set([x for x in df_test[df_test['user_id']==user]['track_id'].unique()])\n",
    "    \n",
    "    \n",
    "    user_track_list = pd.DataFrame({'track_id': list(top_user_music(user,10))})\n",
    "    vector_list = pd.merge(user_track_list, df_track, how='left', left_on=['track_id'], right_on = ['track_id'])['vector'].values\n",
    "    recomended_tracks = set(get_reco_from_traklist(vector_list)['track_id'].values)\n",
    "    \n",
    "    k = k_best(user_tracks_train, recomended_tracks)\n",
    "    train_scores.append(k.NDCG())\n",
    "    \n",
    "    if len(user_tracks_test)!=0:\n",
    "        k = k_best(user_tracks_test, recomended_tracks)\n",
    "        test_scores.append(k.NDCG())\n",
    "    else:\n",
    "        test_scores.append(1)\n",
    "    \n",
    "    user_id.append(user)"
   ]
  },
  {
   "cell_type": "code",
   "execution_count": 98,
   "id": "49c0564a",
   "metadata": {},
   "outputs": [
    {
     "name": "stdout",
     "output_type": "stream",
     "text": [
      "train =  0.22765694395054947\n",
      "test =  0.12947280169865108\n"
     ]
    }
   ],
   "source": [
    "print('Train_mean_NDCG = ', np.array(train_scores).mean())\n",
    "print('Test_mean_NDCG = ', np.array(test_scores).mean())"
   ]
  },
  {
   "cell_type": "markdown",
   "id": "e574190a",
   "metadata": {},
   "source": [
    "### AUC_ROC"
   ]
  },
  {
   "cell_type": "code",
   "execution_count": 99,
   "id": "abab35e3",
   "metadata": {},
   "outputs": [
    {
     "name": "stderr",
     "output_type": "stream",
     "text": [
      "100%|████████████████████████████████████████████████████████████████████████████████| 959/959 [08:34<00:00,  1.86it/s]\n"
     ]
    }
   ],
   "source": [
    "train_scores = list()\n",
    "test_scores = list()\n",
    "user_id = list()\n",
    "\n",
    "s=0.83\n",
    "\n",
    "for user in tqdm(df_train['user_id'].unique()):\n",
    "    user_tracks_train = set([x for x in df_train[df_train['user_id']==user]['track_id'].unique()])\n",
    "    user_tracks_test = set([x for x in df_test[df_test['user_id']==user]['track_id'].unique()])\n",
    "    \n",
    "    user_track_list = pd.DataFrame({'track_id': list(top_user_music(user,10))})\n",
    "    vector_list = pd.merge(user_track_list, df_track, how='left', left_on=['track_id'], right_on = ['track_id'])['vector'].values\n",
    "    recomended_tracks = get_reco_from_traklist(vector_list,-1)\n",
    "    \n",
    "    recomended_tracks['pred'] = recomended_tracks['cosine_similarity'].apply(lambda x : 1 if x>s else 0)\n",
    "    recomended_tracks['true_train'] = recomended_tracks['track_id'].apply(lambda x: 1 if x in user_tracks_train else 0)\n",
    "    recomended_tracks['true_test'] = recomended_tracks['track_id'].apply(lambda x: 1 if x in user_tracks_test else 0)\n",
    "    \n",
    "    try:\n",
    "        y_pred = recomended_tracks['pred'].values\n",
    "\n",
    "        y_true_train = recomended_tracks['true_train'].values\n",
    "        score = roc_auc_score(y_true_train, y_pred)  \n",
    "\n",
    "\n",
    "        y_true_test = recomended_tracks['true_test'].values\n",
    "        score = roc_auc_score(y_true_test, y_pred)\n",
    "\n",
    "        train_scores.append(score)\n",
    "        test_scores.append(score)\n",
    "        user_id.append(user)\n",
    "    except:\n",
    "        pass"
   ]
  },
  {
   "cell_type": "code",
   "execution_count": 101,
   "id": "1d9a4b34",
   "metadata": {},
   "outputs": [
    {
     "name": "stdout",
     "output_type": "stream",
     "text": [
      "Train_mean_ROC =: 0.5000733419243163\n",
      "Test_mean_ROC =: 0.5000733419243163\n"
     ]
    }
   ],
   "source": [
    "print(f'Train_mean_AUC_ROC =: {np.array(train_scores).mean()}')\n",
    "print(f'Test_mean_AUC_ROC =: {np.array(test_scores).mean()}')"
   ]
  },
  {
   "cell_type": "code",
   "execution_count": null,
   "id": "d86c40fb",
   "metadata": {},
   "outputs": [],
   "source": []
  }
 ],
 "metadata": {
  "kernelspec": {
   "display_name": "Python 3",
   "language": "python",
   "name": "python3"
  },
  "language_info": {
   "codemirror_mode": {
    "name": "ipython",
    "version": 3
   },
   "file_extension": ".py",
   "mimetype": "text/x-python",
   "name": "python",
   "nbconvert_exporter": "python",
   "pygments_lexer": "ipython3",
   "version": "3.9.7"
  }
 },
 "nbformat": 4,
 "nbformat_minor": 5
}
