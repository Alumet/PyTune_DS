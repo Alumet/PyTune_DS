{
 "cells": [
  {
   "cell_type": "markdown",
   "id": "c5201c8e",
   "metadata": {},
   "source": [
    "# COLLABORATIV FILTERING (implicit)\n",
    "\n",
    "Exploration du module implicit permetant la gestion des données implicites"
   ]
  },
  {
   "cell_type": "markdown",
   "id": "4acf9f81",
   "metadata": {},
   "source": [
    "## Imports"
   ]
  },
  {
   "cell_type": "code",
   "execution_count": 1,
   "id": "c09bb041",
   "metadata": {},
   "outputs": [],
   "source": [
    "import numpy as np\n",
    "import pandas as pd\n",
    "import matplotlib.pyplot as plt\n",
    "\n",
    "from scipy.sparse import coo_matrix\n",
    "\n",
    "from sklearn.metrics import roc_auc_score\n",
    "\n",
    "import itertools\n",
    "\n",
    "from tqdm import tqdm"
   ]
  },
  {
   "cell_type": "markdown",
   "id": "74d4fd49",
   "metadata": {},
   "source": [
    "## Data import"
   ]
  },
  {
   "cell_type": "code",
   "execution_count": 2,
   "id": "ba8271ce",
   "metadata": {},
   "outputs": [],
   "source": [
    "df_train = pd.read_csv('filtered data/filtered_rating_fm_dataset_train.csv', index_col=0)"
   ]
  },
  {
   "cell_type": "code",
   "execution_count": 3,
   "id": "5db606c6",
   "metadata": {},
   "outputs": [],
   "source": [
    "df_test = pd.read_csv('filtered data/filtered_rating_fm_dataset_test.csv', index_col=0)"
   ]
  },
  {
   "cell_type": "markdown",
   "id": "d1c319bc",
   "metadata": {},
   "source": [
    "## Data preparation"
   ]
  },
  {
   "cell_type": "code",
   "execution_count": 4,
   "id": "485d5fea",
   "metadata": {},
   "outputs": [],
   "source": [
    "df_gb = df_train.groupby(['user_id','track_id']).mean().reset_index()"
   ]
  },
  {
   "cell_type": "code",
   "execution_count": 5,
   "id": "a356001e",
   "metadata": {},
   "outputs": [],
   "source": [
    "item = np.array(df_gb[['track_id']].values).T[0]\n",
    "user = np.array(df_gb[['user_id']].values).T[0]\n",
    "weight = np.array(df_gb[['rating']].values).T[0]"
   ]
  },
  {
   "cell_type": "code",
   "execution_count": 6,
   "id": "9dd34eec",
   "metadata": {},
   "outputs": [
    {
     "data": {
      "text/plain": [
       "(80600, 1001)"
      ]
     },
     "execution_count": 6,
     "metadata": {},
     "output_type": "execute_result"
    }
   ],
   "source": [
    "mat_music = coo_matrix((weight,(item, user)))\n",
    "mat_music.shape"
   ]
  },
  {
   "cell_type": "markdown",
   "id": "404e396d",
   "metadata": {},
   "source": [
    "## Class métrique K_best"
   ]
  },
  {
   "cell_type": "code",
   "execution_count": 7,
   "id": "932bddc4",
   "metadata": {},
   "outputs": [],
   "source": [
    "class k_best():\n",
    "    def __init__(self, user_tracks, recomended_tracks):\n",
    "        self.user_tracks = user_tracks\n",
    "        self.recomended_tracks = recomended_tracks\n",
    "    \n",
    "    def CG(self):\n",
    "        \n",
    "        return len(set(self.recomended_tracks).intersection(set(self.user_tracks)))\n",
    "    \n",
    "    def DCG(self):\n",
    "        \n",
    "        result = 0\n",
    "        for i,id in enumerate(self.recomended_tracks):\n",
    "            \n",
    "            if id in self.user_tracks:\n",
    "                result+=1/np.log2(i+2)\n",
    "\n",
    "        return result\n",
    "    \n",
    "    def IDCG(self):\n",
    "        \n",
    "        a = self.CG()\n",
    "        result=0\n",
    "        \n",
    "        for i in range (a):\n",
    "            result+=1/np.log2(i+2)\n",
    "        \n",
    "        return result\n",
    "    \n",
    "    def NDCG(self):\n",
    "        if self.IDCG()!=0:\n",
    "            result = self.DCG()/self.IDCG()\n",
    "        else:\n",
    "            result=0\n",
    "            \n",
    "        return result\n",
    "    \n",
    "    def P_at_k(self):\n",
    "        \n",
    "        return self.CG()/len(self.recomended_tracks)\n",
    "\n",
    "    \n",
    "    def __str__(self):\n",
    "        \n",
    "        result = 'K_best ressults: \\n'\n",
    "        result+= f'CG = {self.CG()}\\n'\n",
    "        result+= f'DCG = {self.DCG()}\\n'\n",
    "        result+= f'NDCG = {self.NDCG()}\\n'\n",
    "        result+= f'P@K = {self.P_at_k()}\\n'\n",
    "        \n",
    "        return result"
   ]
  },
  {
   "cell_type": "markdown",
   "id": "7b223c65",
   "metadata": {},
   "source": [
    "## Premier Modèle"
   ]
  },
  {
   "cell_type": "code",
   "execution_count": 8,
   "id": "73e32ea3",
   "metadata": {},
   "outputs": [
    {
     "name": "stderr",
     "output_type": "stream",
     "text": [
      "F:\\anaconda3\\lib\\site-packages\\implicit\\utils.py:33: UserWarning: Intel MKL BLAS detected. Its highly recommend to set the environment variable 'export MKL_NUM_THREADS=1' to disable its internal multithreading\n",
      "  warnings.warn(\n",
      "F:\\anaconda3\\lib\\site-packages\\implicit\\utils.py:138: ParameterWarning: Method expects CSR input, and was passed coo_matrix instead. Converting to CSR took 0.006001472473144531 seconds\n",
      "  warnings.warn(\n"
     ]
    },
    {
     "data": {
      "application/vnd.jupyter.widget-view+json": {
       "model_id": "b19dbb7e4aeb4079916b1e742a23d75a",
       "version_major": 2,
       "version_minor": 0
      },
      "text/plain": [
       "  0%|          | 0/30 [00:00<?, ?it/s]"
      ]
     },
     "metadata": {},
     "output_type": "display_data"
    }
   ],
   "source": [
    "import implicit\n",
    "\n",
    "# Initialisation du modèle\n",
    "model_music = implicit.als.AlternatingLeastSquares(factors=100,\n",
    "                                                   use_native=True, \n",
    "                                                   use_cg=True, \n",
    "                                                   calculate_training_loss=True, \n",
    "                                                   num_threads=1, \n",
    "                                                   iterations=30)\n",
    "\n",
    "# Entrainemt du model item/user/confidence weights\n",
    "model_music.fit(mat_music.T)"
   ]
  },
  {
   "cell_type": "code",
   "execution_count": 9,
   "id": "f7484057",
   "metadata": {},
   "outputs": [
    {
     "name": "stdout",
     "output_type": "stream",
     "text": [
      "0.6.1\n",
      "implicit\n"
     ]
    }
   ],
   "source": [
    "import implicit\n",
    "print(implicit.__version__)\n",
    "print(implicit.__name__)"
   ]
  },
  {
   "cell_type": "markdown",
   "id": "b7a98ad4",
   "metadata": {},
   "source": [
    "### Test sur un utilisateur"
   ]
  },
  {
   "cell_type": "code",
   "execution_count": 36,
   "id": "34f2001e",
   "metadata": {},
   "outputs": [],
   "source": [
    "user = 5\n",
    "\n",
    "user_tracks_train = set([x for x in df_train[df_train['user_id']==user]['track_id'].unique()])\n",
    "user_tracks_test = set([x for x in df_test[df_test['user_id']==user]['track_id'].unique()])\n",
    "\n",
    "recomended_tracks = set([x[0] for x in model_music.recommend(user, mat_music.tocsr()[user+1], 50)])\n",
    "#recomended_tracks_filtered = set([x[0] for x in model_music.recommend(user, mat_music[user].T.tocsr(), 50, filter_items=user_tracks_train)])"
   ]
  },
  {
   "cell_type": "code",
   "execution_count": 37,
   "id": "35caf31e",
   "metadata": {},
   "outputs": [
    {
     "data": {
      "text/plain": [
       "(80600, 1)"
      ]
     },
     "execution_count": 37,
     "metadata": {},
     "output_type": "execute_result"
    }
   ],
   "source": [
    "mat_music.T.tocsr()[user].T.shape"
   ]
  },
  {
   "cell_type": "code",
   "execution_count": 38,
   "id": "92720605",
   "metadata": {},
   "outputs": [
    {
     "name": "stdout",
     "output_type": "stream",
     "text": [
      "train:  495\n",
      "test:  238\n"
     ]
    }
   ],
   "source": [
    "print('train: ',len(user_tracks_train))\n",
    "print('test: ',len(user_tracks_test))"
   ]
  },
  {
   "cell_type": "markdown",
   "id": "32aeaabb",
   "metadata": {},
   "source": [
    "### K_best"
   ]
  },
  {
   "cell_type": "code",
   "execution_count": 39,
   "id": "bfed4f3d",
   "metadata": {},
   "outputs": [
    {
     "name": "stdout",
     "output_type": "stream",
     "text": [
      "K_best ressults: \n",
      "CG = 1\n",
      "DCG = 0.6309297535714575\n",
      "NDCG = 0.6309297535714575\n",
      "P@K = 0.5\n",
      "\n"
     ]
    }
   ],
   "source": [
    "# Calcule des metriques sur train\n",
    "k = k_best(user_tracks_train, recomended_tracks)\n",
    "print(k)"
   ]
  },
  {
   "cell_type": "code",
   "execution_count": 40,
   "id": "54264a99",
   "metadata": {},
   "outputs": [
    {
     "name": "stdout",
     "output_type": "stream",
     "text": [
      "K_best ressults: \n",
      "CG = 0\n",
      "DCG = 0\n",
      "NDCG = 0\n",
      "P@K = 0.0\n",
      "\n"
     ]
    }
   ],
   "source": [
    "# Calcule des metriques sur test\n",
    "k = k_best(user_tracks_test, recomended_tracks)\n",
    "print(k)"
   ]
  },
  {
   "cell_type": "code",
   "execution_count": 27,
   "id": "1108cc5b",
   "metadata": {},
   "outputs": [
    {
     "name": "stdout",
     "output_type": "stream",
     "text": [
      "K_best ressults: \n",
      "CG = 12\n",
      "DCG = 2.7562086632238274\n",
      "NDCG = 0.5412034437427492\n",
      "P@K = 0.24\n",
      "\n"
     ]
    }
   ],
   "source": [
    "# Calcule des metriques sur test (recomendation filtrées des item déjà écoutés)\n",
    "k = k_best(user_tracks_test, recomended_tracks_filtered)\n",
    "print(k)"
   ]
  },
  {
   "cell_type": "markdown",
   "id": "d9ef909b",
   "metadata": {},
   "source": [
    "### AUC_ROC"
   ]
  },
  {
   "cell_type": "code",
   "execution_count": 29,
   "id": "51cba9ac",
   "metadata": {},
   "outputs": [],
   "source": [
    "full_ranking=model_music.rank_items(user,mat_music.tocsr().T,list(set(item)))\n",
    "\n",
    "id = [x[0] for x in full_ranking]\n",
    "score = [x[1] for x in full_ranking]\n",
    "\n",
    "df_temp = pd.DataFrame({'id': id, 'score': score})"
   ]
  },
  {
   "cell_type": "code",
   "execution_count": 38,
   "id": "c780ec72",
   "metadata": {},
   "outputs": [],
   "source": [
    "df_temp['train'] = df_temp['id'].apply(lambda x: 1 if x in user_tracks_train else 0)\n",
    "df_temp['test'] = df_temp['id'].apply(lambda x: 1 if x in user_tracks_test else 0)"
   ]
  },
  {
   "cell_type": "code",
   "execution_count": 39,
   "id": "12ebf261",
   "metadata": {},
   "outputs": [],
   "source": [
    "y_pred = [1 if x>0 else 0 for x in df_temp['score']]"
   ]
  },
  {
   "cell_type": "code",
   "execution_count": 43,
   "id": "3ed7f5a1",
   "metadata": {},
   "outputs": [
    {
     "name": "stdout",
     "output_type": "stream",
     "text": [
      "Train_ROC =  0.7216952848207034\n",
      "Test_ROC =  0.657645635667834\n"
     ]
    }
   ],
   "source": [
    "roc_train = roc_auc_score(df_temp['train'],y_pred)\n",
    "roc_test = roc_auc_score(df_temp['test'],y_pred)\n",
    "\n",
    "print('Train_AUC_ROC = ', roc_train)\n",
    "print('Test_AUC_ROC = ', roc_test)"
   ]
  },
  {
   "cell_type": "markdown",
   "id": "6db6f9ac",
   "metadata": {},
   "source": [
    "## Grid serch (optimisation des paramètres)"
   ]
  },
  {
   "cell_type": "code",
   "execution_count": 45,
   "id": "9c191dbc",
   "metadata": {},
   "outputs": [],
   "source": [
    "factors = [20,30,40,50]\n",
    "iterations = [10,30,40,50]\n",
    "\n",
    "iter = itertools.product(factors,iterations)"
   ]
  },
  {
   "cell_type": "code",
   "execution_count": 47,
   "id": "541def4e",
   "metadata": {},
   "outputs": [
    {
     "name": "stdout",
     "output_type": "stream",
     "text": [
      "model with n_facror=20, n_iteration=30\n"
     ]
    },
    {
     "data": {
      "application/vnd.jupyter.widget-view+json": {
       "model_id": "668ebedf72964a988cf01f4f935647aa",
       "version_major": 2,
       "version_minor": 0
      },
      "text/plain": [
       "  0%|          | 0/30 [00:00<?, ?it/s]"
      ]
     },
     "metadata": {},
     "output_type": "display_data"
    },
    {
     "name": "stdout",
     "output_type": "stream",
     "text": [
      "train = 0.7518156497817303\n",
      "test = 0.47131494601095303\n",
      "###############################################################################\n",
      "\n",
      "\n",
      "model with n_facror=20, n_iteration=40\n"
     ]
    },
    {
     "data": {
      "application/vnd.jupyter.widget-view+json": {
       "model_id": "e4700d63e3ff4d9b923fbf1e5e7b6f56",
       "version_major": 2,
       "version_minor": 0
      },
      "text/plain": [
       "  0%|          | 0/40 [00:00<?, ?it/s]"
      ]
     },
     "metadata": {},
     "output_type": "display_data"
    },
    {
     "name": "stdout",
     "output_type": "stream",
     "text": [
      "train = 0.7507808984088699\n",
      "test = 0.4677122299164186\n",
      "###############################################################################\n",
      "\n",
      "\n",
      "model with n_facror=20, n_iteration=50\n"
     ]
    },
    {
     "data": {
      "application/vnd.jupyter.widget-view+json": {
       "model_id": "b83a1e97fdd640d7b2d78eae9943c3e3",
       "version_major": 2,
       "version_minor": 0
      },
      "text/plain": [
       "  0%|          | 0/50 [00:00<?, ?it/s]"
      ]
     },
     "metadata": {},
     "output_type": "display_data"
    },
    {
     "name": "stdout",
     "output_type": "stream",
     "text": [
      "train = 0.7487801690360968\n",
      "test = 0.472487289088797\n",
      "###############################################################################\n",
      "\n",
      "\n",
      "model with n_facror=30, n_iteration=10\n"
     ]
    },
    {
     "data": {
      "application/vnd.jupyter.widget-view+json": {
       "model_id": "ee6639c54e2848fd89bb3c1a4c899b58",
       "version_major": 2,
       "version_minor": 0
      },
      "text/plain": [
       "  0%|          | 0/10 [00:00<?, ?it/s]"
      ]
     },
     "metadata": {},
     "output_type": "display_data"
    },
    {
     "name": "stdout",
     "output_type": "stream",
     "text": [
      "train = 0.7868759737008172\n",
      "test = 0.4689005813779506\n",
      "###############################################################################\n",
      "\n",
      "\n",
      "model with n_facror=30, n_iteration=30\n"
     ]
    },
    {
     "data": {
      "application/vnd.jupyter.widget-view+json": {
       "model_id": "f7e2f0bfb0b0405c8ae0322e2cb9ae15",
       "version_major": 2,
       "version_minor": 0
      },
      "text/plain": [
       "  0%|          | 0/30 [00:00<?, ?it/s]"
      ]
     },
     "metadata": {},
     "output_type": "display_data"
    },
    {
     "name": "stdout",
     "output_type": "stream",
     "text": [
      "train = 0.7858838601631221\n",
      "test = 0.4733195624485075\n",
      "###############################################################################\n",
      "\n",
      "\n",
      "model with n_facror=30, n_iteration=40\n"
     ]
    },
    {
     "data": {
      "application/vnd.jupyter.widget-view+json": {
       "model_id": "2021b532bd7a477baa449ed67df81466",
       "version_major": 2,
       "version_minor": 0
      },
      "text/plain": [
       "  0%|          | 0/40 [00:00<?, ?it/s]"
      ]
     },
     "metadata": {},
     "output_type": "display_data"
    },
    {
     "name": "stdout",
     "output_type": "stream",
     "text": [
      "train = 0.7851940893509768\n",
      "test = 0.4701335909269173\n",
      "###############################################################################\n",
      "\n",
      "\n",
      "model with n_facror=30, n_iteration=50\n"
     ]
    },
    {
     "data": {
      "application/vnd.jupyter.widget-view+json": {
       "model_id": "0f360f9c52354bda9cb9173ec5c06f97",
       "version_major": 2,
       "version_minor": 0
      },
      "text/plain": [
       "  0%|          | 0/50 [00:00<?, ?it/s]"
      ]
     },
     "metadata": {},
     "output_type": "display_data"
    },
    {
     "name": "stdout",
     "output_type": "stream",
     "text": [
      "train = 0.7858348811803609\n",
      "test = 0.47103264518429167\n",
      "###############################################################################\n",
      "\n",
      "\n",
      "model with n_facror=40, n_iteration=10\n"
     ]
    },
    {
     "data": {
      "application/vnd.jupyter.widget-view+json": {
       "model_id": "ff6091af63ba4aa1ad6ef5f1f523b14c",
       "version_major": 2,
       "version_minor": 0
      },
      "text/plain": [
       "  0%|          | 0/10 [00:00<?, ?it/s]"
      ]
     },
     "metadata": {},
     "output_type": "display_data"
    },
    {
     "name": "stdout",
     "output_type": "stream",
     "text": [
      "train = 0.8142820059458624\n",
      "test = 0.4661127739369801\n",
      "###############################################################################\n",
      "\n",
      "\n",
      "model with n_facror=40, n_iteration=30\n"
     ]
    },
    {
     "data": {
      "application/vnd.jupyter.widget-view+json": {
       "model_id": "fb4ce2bb88d6445eaa2f0092b445e661",
       "version_major": 2,
       "version_minor": 0
      },
      "text/plain": [
       "  0%|          | 0/30 [00:00<?, ?it/s]"
      ]
     },
     "metadata": {},
     "output_type": "display_data"
    },
    {
     "name": "stdout",
     "output_type": "stream",
     "text": [
      "train = 0.8152503403215032\n",
      "test = 0.47611190605141\n",
      "###############################################################################\n",
      "\n",
      "\n",
      "model with n_facror=40, n_iteration=40\n"
     ]
    },
    {
     "data": {
      "application/vnd.jupyter.widget-view+json": {
       "model_id": "9392e242e71143c69fb7b9a6848cf8bf",
       "version_major": 2,
       "version_minor": 0
      },
      "text/plain": [
       "  0%|          | 0/40 [00:00<?, ?it/s]"
      ]
     },
     "metadata": {},
     "output_type": "display_data"
    },
    {
     "name": "stdout",
     "output_type": "stream",
     "text": [
      "train = 0.8118912969094572\n",
      "test = 0.47113163512574835\n",
      "###############################################################################\n",
      "\n",
      "\n",
      "model with n_facror=40, n_iteration=50\n"
     ]
    },
    {
     "data": {
      "application/vnd.jupyter.widget-view+json": {
       "model_id": "2c7091d505b4455291db9b4216ee093b",
       "version_major": 2,
       "version_minor": 0
      },
      "text/plain": [
       "  0%|          | 0/50 [00:00<?, ?it/s]"
      ]
     },
     "metadata": {},
     "output_type": "display_data"
    },
    {
     "name": "stdout",
     "output_type": "stream",
     "text": [
      "train = 0.8137061131267838\n",
      "test = 0.4705080955050482\n",
      "###############################################################################\n",
      "\n",
      "\n",
      "model with n_facror=50, n_iteration=10\n"
     ]
    },
    {
     "data": {
      "application/vnd.jupyter.widget-view+json": {
       "model_id": "8db06192bc73406b98a01409e2e7f2b8",
       "version_major": 2,
       "version_minor": 0
      },
      "text/plain": [
       "  0%|          | 0/10 [00:00<?, ?it/s]"
      ]
     },
     "metadata": {},
     "output_type": "display_data"
    },
    {
     "name": "stdout",
     "output_type": "stream",
     "text": [
      "train = 0.8384186488339679\n",
      "test = 0.4585721762181163\n",
      "###############################################################################\n",
      "\n",
      "\n",
      "model with n_facror=50, n_iteration=30\n"
     ]
    },
    {
     "data": {
      "application/vnd.jupyter.widget-view+json": {
       "model_id": "a42370a3492f46e3979a5a9b51dd117d",
       "version_major": 2,
       "version_minor": 0
      },
      "text/plain": [
       "  0%|          | 0/30 [00:00<?, ?it/s]"
      ]
     },
     "metadata": {},
     "output_type": "display_data"
    },
    {
     "name": "stdout",
     "output_type": "stream",
     "text": [
      "train = 0.8346186916111844\n",
      "test = 0.46570431802381645\n",
      "###############################################################################\n",
      "\n",
      "\n",
      "model with n_facror=50, n_iteration=40\n"
     ]
    },
    {
     "data": {
      "application/vnd.jupyter.widget-view+json": {
       "model_id": "d9943efa196747eb956b5e0a8602b77b",
       "version_major": 2,
       "version_minor": 0
      },
      "text/plain": [
       "  0%|          | 0/40 [00:00<?, ?it/s]"
      ]
     },
     "metadata": {},
     "output_type": "display_data"
    },
    {
     "name": "stdout",
     "output_type": "stream",
     "text": [
      "train = 0.8361396594760138\n",
      "test = 0.46397797966303955\n",
      "###############################################################################\n",
      "\n",
      "\n",
      "model with n_facror=50, n_iteration=50\n"
     ]
    },
    {
     "data": {
      "application/vnd.jupyter.widget-view+json": {
       "model_id": "98faa2d616194c67b12f1beb7ff8e934",
       "version_major": 2,
       "version_minor": 0
      },
      "text/plain": [
       "  0%|          | 0/50 [00:00<?, ?it/s]"
      ]
     },
     "metadata": {},
     "output_type": "display_data"
    },
    {
     "name": "stdout",
     "output_type": "stream",
     "text": [
      "train = 0.8353658654280485\n",
      "test = 0.4576279921724669\n",
      "###############################################################################\n",
      "\n",
      "\n"
     ]
    }
   ],
   "source": [
    "result = list()\n",
    "\n",
    "for fac,it in iter:\n",
    "    \n",
    "    print(f'model with n_facror={fac}, n_iteration={it}')\n",
    "\n",
    "    model_music = implicit.als.AlternatingLeastSquares(factors=fac,\n",
    "                                                 use_native=True, \n",
    "                                                 use_cg=True, \n",
    "                                                 calculate_training_loss=True, \n",
    "                                                 num_threads=1, \n",
    "                                                 iterations=it)\n",
    "\n",
    "    model_music.fit(mat_music)\n",
    "    \n",
    "    train_scores = list()\n",
    "    test_scores = list()\n",
    "    user_id = list()\n",
    "\n",
    "    for user in df_train['user_id'].unique():\n",
    "        user_tracks_train = set([x for x in df_train[df_train['user_id']==user]['track_id'].unique()])\n",
    "        user_tracks_test = set([x for x in df_test[df_test['user_id']==user]['track_id'].unique()])\n",
    "        recomended_tracks = set([x[0] for x in model_music.recommend(user, mat_music.tocsr().T, 50)])\n",
    "\n",
    "        k = k_best(user_tracks_train, recomended_tracks)\n",
    "        train_scores.append(k.NDCG())\n",
    "\n",
    "        if len(user_tracks_test)!=0:\n",
    "            k = k_best(user_tracks_test, recomended_tracks)\n",
    "            test_scores.append(k.NDCG())\n",
    "        else:\n",
    "            test_scores.append(0)\n",
    "    \n",
    "    \n",
    "    result.append([f'model with n_facror={fac}, n_iteration={it}',\n",
    "                  np.array(train_scores).mean(),\n",
    "                  np.array(test_scores).mean()])\n",
    "    \n",
    "    \n",
    "    print(f'train = {np.array(train_scores).mean()}')\n",
    "    print(f'test = {np.array(test_scores).mean()}')\n",
    "    print('###############################################################################\\n\\n')"
   ]
  },
  {
   "cell_type": "code",
   "execution_count": 49,
   "id": "0438b5df",
   "metadata": {},
   "outputs": [
    {
     "data": {
      "text/plain": [
       "['model with n_facror=40, n_iteration=30',\n",
       " 0.8152503403215032,\n",
       " 0.47611190605141]"
      ]
     },
     "execution_count": 49,
     "metadata": {},
     "output_type": "execute_result"
    }
   ],
   "source": [
    "sorted(result, key = lambda x: x[2], reverse=True)[0]"
   ]
  },
  {
   "cell_type": "markdown",
   "id": "52f5103d",
   "metadata": {},
   "source": [
    "## Entrainement du meilleur modèle"
   ]
  },
  {
   "cell_type": "code",
   "execution_count": 50,
   "id": "f81efa4e",
   "metadata": {},
   "outputs": [
    {
     "data": {
      "application/vnd.jupyter.widget-view+json": {
       "model_id": "a10b15e89a6545619f51f2ec6d522b14",
       "version_major": 2,
       "version_minor": 0
      },
      "text/plain": [
       "  0%|          | 0/30 [00:00<?, ?it/s]"
      ]
     },
     "metadata": {},
     "output_type": "display_data"
    }
   ],
   "source": [
    "import implicit\n",
    "\n",
    "# Initialisation du modèle\n",
    "model_music = implicit.als.AlternatingLeastSquares(factors=40,\n",
    "                                                   use_native=True, \n",
    "                                                   use_cg=True, \n",
    "                                                   calculate_training_loss=True, \n",
    "                                                   num_threads=1, \n",
    "                                                   iterations=30)\n",
    "\n",
    "# Entrainemt du model item/user/confidence weights\n",
    "model_music.fit(mat_music)"
   ]
  },
  {
   "cell_type": "markdown",
   "id": "b8450f39",
   "metadata": {},
   "source": [
    "## Evaluation sur tous les utilisateurs "
   ]
  },
  {
   "cell_type": "markdown",
   "id": "6f0386d2",
   "metadata": {},
   "source": [
    "### K_best"
   ]
  },
  {
   "cell_type": "code",
   "execution_count": 51,
   "id": "111118b5",
   "metadata": {},
   "outputs": [
    {
     "name": "stderr",
     "output_type": "stream",
     "text": [
      "100%|████████████████████████████████████████████████████████████████████████████████| 959/959 [01:32<00:00, 10.33it/s]\n"
     ]
    }
   ],
   "source": [
    "train_scores = list()\n",
    "test_scores = list()\n",
    "test_scores_filtered = list()\n",
    "user_id = list()\n",
    "\n",
    "for user in tqdm(df_train['user_id'].unique()):\n",
    "    user_tracks_train = set([x for x in df_train[df_train['user_id']==user]['track_id'].unique()])\n",
    "    user_tracks_test = set([x for x in df_test[df_test['user_id']==user]['track_id'].unique()])\n",
    "    recomended_tracks = set([x[0] for x in model_music.recommend(user, mat_music.tocsr().T, 50)])\n",
    "    recomended_tracks_filtered = set([x[0] for x in model_music.recommend(user, mat_music.tocsr().T, 50, filter_items=user_tracks_train)])\n",
    "    \n",
    "    k = k_best(user_tracks_train, recomended_tracks)\n",
    "    train_scores.append(k.NDCG())\n",
    "    \n",
    "    if len(user_tracks_test)!=0:\n",
    "        k = k_best(user_tracks_test, recomended_tracks)\n",
    "        test_scores.append(k.NDCG())\n",
    "        \n",
    "        k = k_best(user_tracks_test, recomended_tracks_filtered)\n",
    "        test_scores_filtered.append(k.NDCG())\n",
    "        \n",
    "    else:\n",
    "        test_scores.append(0)\n",
    "    \n",
    "    user_id.append(user)\n",
    "    "
   ]
  },
  {
   "cell_type": "code",
   "execution_count": 52,
   "id": "79f50786",
   "metadata": {},
   "outputs": [
    {
     "name": "stdout",
     "output_type": "stream",
     "text": [
      "Train_mean_NDCG =  0.8151113252189947\n",
      "Test_mean_NDCG =  0.47042436405232707\n",
      "Test_filtered_mean_NDCG =  0.6366227831237973\n"
     ]
    }
   ],
   "source": [
    "# best n_fact=40, it=30\n",
    "print('Train_mean_NDCG = ', np.array(train_scores).mean())\n",
    "print('Test_mean_NDCG = ', np.array(test_scores).mean())\n",
    "print('Test_filtered_mean_NDCG = ', np.array(test_scores_filtered).mean())"
   ]
  },
  {
   "cell_type": "markdown",
   "id": "ae3bc1e5",
   "metadata": {},
   "source": [
    "### AUC_ROC"
   ]
  },
  {
   "cell_type": "code",
   "execution_count": 53,
   "id": "91a70afb",
   "metadata": {},
   "outputs": [],
   "source": [
    "def auc_score(df_train, df_test, model, mat, seuils=[0]):\n",
    "    \n",
    "    ids = df_train['user_id'].unique()\n",
    "    \n",
    "    recomendations = dict()\n",
    "    \n",
    "    auc_train_all=dict()\n",
    "    auc_test_all=dict()\n",
    "    \n",
    "    for user in tqdm(ids):\n",
    "        a=model.rank_items(user,mat.tocsr().T,list(set(item)))\n",
    "        \n",
    "        id = [x[0] for x in a]\n",
    "        score = [x[1] for x in a]\n",
    "        \n",
    "        df_temp = pd.DataFrame({'id': id, 'score': score})\n",
    "        \n",
    "        user_tracks_train = set([x for x in df_train[df_train['user_id']==user]['track_id'].unique()])\n",
    "        user_tracks_test = set([x for x in df_test[df_test['user_id']==user]['track_id'].unique()])\n",
    "        \n",
    "        df_temp['train'] = df_temp['id'].apply(lambda x: 1 if x in user_tracks_train else 0)\n",
    "        df_temp['test'] = df_temp['id'].apply(lambda x: 1 if x in user_tracks_test else 0)\n",
    "        \n",
    "        \n",
    "        y_true_test = df_temp['test']\n",
    "        y_true_train = df_temp['train']\n",
    "        \n",
    "        \n",
    "        for s in seuils:\n",
    "            \n",
    "            try:\n",
    "\n",
    "\n",
    "                y_pred = [1 if x>s else 0 for x in df_temp['score']]\n",
    "\n",
    "                auc_test = roc_auc_score(y_true_test, y_pred)\n",
    "                auc_train = roc_auc_score(y_true_train, y_pred)\n",
    "                \n",
    "                try:\n",
    "                    auc_train_all[s].append(auc_train)\n",
    "                    auc_test_all[s].append(auc_test)\n",
    "                except:\n",
    "                    auc_train_all[s] = [auc_train]\n",
    "                    auc_test_all[s] = [auc_test]\n",
    "                \n",
    "            except:\n",
    "                pass\n",
    "        \n",
    "\n",
    "    return auc_train_all, auc_test_all"
   ]
  },
  {
   "cell_type": "markdown",
   "id": "adf701ea",
   "metadata": {},
   "source": [
    "### Seuil de 0"
   ]
  },
  {
   "cell_type": "code",
   "execution_count": 55,
   "id": "25edd37f",
   "metadata": {},
   "outputs": [
    {
     "name": "stderr",
     "output_type": "stream",
     "text": [
      "100%|████████████████████████████████████████████████████████████████████████████████| 959/959 [06:36<00:00,  2.42it/s]\n"
     ]
    }
   ],
   "source": [
    "auc_train_all_zero, auc_test_all_zero = auc_score(df_train, df_test, model_music, mat_music)"
   ]
  },
  {
   "cell_type": "code",
   "execution_count": 56,
   "id": "4bed40cb",
   "metadata": {},
   "outputs": [
    {
     "name": "stdout",
     "output_type": "stream",
     "text": [
      "Train_ROC =  0.6870953055322718\n",
      "Test_ROC =  0.6639864849287203\n"
     ]
    }
   ],
   "source": [
    "roc_train = np.array([x for x in auc_train_all_zero[0]]).mean()\n",
    "roc_test = np.array([x for x in auc_test_all_zero[0]]).mean()\n",
    "\n",
    "print('Train_AUC_ROC = ', roc_train)\n",
    "print('Test_AUC_ROC = ', roc_test)"
   ]
  },
  {
   "cell_type": "markdown",
   "id": "1fc380a3",
   "metadata": {},
   "source": [
    "### Recherche du meilleur seuil"
   ]
  },
  {
   "cell_type": "code",
   "execution_count": 58,
   "id": "f938e77f",
   "metadata": {},
   "outputs": [
    {
     "name": "stderr",
     "output_type": "stream",
     "text": [
      "100%|████████████████████████████████████████████████████████████████████████████████| 959/959 [22:55<00:00,  1.43s/it]\n"
     ]
    }
   ],
   "source": [
    "auc_train_all, auc_test_all = auc_score(df_train, df_test, model_music, mat_music, np.linspace(-0.25,1,26))"
   ]
  },
  {
   "cell_type": "code",
   "execution_count": 59,
   "id": "c63bc0c2",
   "metadata": {},
   "outputs": [
    {
     "data": {
      "text/plain": [
       "Text(0.5, 0, 'Seuil')"
      ]
     },
     "execution_count": 59,
     "metadata": {},
     "output_type": "execute_result"
    },
    {
     "data": {
      "image/png": "[encoded data removed]",
      "text/plain": [
       "<Figure size 432x288 with 1 Axes>"
      ]
     },
     "metadata": {
      "needs_background": "light"
     },
     "output_type": "display_data"
    }
   ],
   "source": [
    "x=list()\n",
    "y_a=list()\n",
    "y_b=list()\n",
    "    \n",
    "for key in auc_train_all.keys():\n",
    "    score_train = np.array([x for x in auc_train_all[key]]).mean()\n",
    "    score_test = np.array([x for x in auc_test_all[key]]).mean()\n",
    "    \n",
    "    x.append(key)\n",
    "    y_a.append(score_train)\n",
    "    y_b.append(score_test)\n",
    "\n",
    "\n",
    "plt.plot(x,y_a, label='train')\n",
    "plt.plot(x,y_b, label='test')\n",
    "plt.legend()\n",
    "plt.title('AUC score en fonction du seuil')\n",
    "plt.ylabel('AUC score')\n",
    "plt.xlabel('Seuil')\n",
    "\n",
    "plt.savefig(\"ROC score en fonction du seuil, implicit\", dpi=300, pad_inches=0.1,bbox_inches='tight')"
   ]
  },
  {
   "cell_type": "code",
   "execution_count": 67,
   "id": "4c92542e",
   "metadata": {},
   "outputs": [
    {
     "name": "stdout",
     "output_type": "stream",
     "text": [
      "Train_best_AUC_ROC =  0.802\n",
      "Test_best_AUC_ROC =  0.743\n",
      "Seuil_best =  0.1\n"
     ]
    }
   ],
   "source": [
    "i = np.array(y_b).argmax()\n",
    "\n",
    "print('Train_best_AUC_ROC = ', round(y_a[i],3))\n",
    "print('Test_best_AUC_ROC = ', round(y_b[i],3))\n",
    "print('Seuil_best = ', round(x[i],3))\n"
   ]
  }
 ],
 "metadata": {
  "kernelspec": {
   "display_name": "Python 3 (ipykernel)",
   "language": "python",
   "name": "python3"
  },
  "language_info": {
   "codemirror_mode": {
    "name": "ipython",
    "version": 3
   },
   "file_extension": ".py",
   "mimetype": "text/x-python",
   "name": "python",
   "nbconvert_exporter": "python",
   "pygments_lexer": "ipython3",
   "version": "3.9.13"
  }
 },
 "nbformat": 4,
 "nbformat_minor": 5
}
