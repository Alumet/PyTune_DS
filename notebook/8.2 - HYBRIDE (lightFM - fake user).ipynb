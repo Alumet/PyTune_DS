{
 "cells": [
  {
   "cell_type": "markdown",
   "id": "df20f988",
   "metadata": {},
   "source": [
    "# Hybride (lightFM)\n",
    "\n",
    "Exploration du module lightFM, modèle hybride combinant content_based et collaborative filtering"
   ]
  },
  {
   "cell_type": "markdown",
   "id": "5809c3e4",
   "metadata": {},
   "source": [
    "## Imports"
   ]
  },
  {
   "cell_type": "code",
   "execution_count": 1,
   "id": "3f01cadf",
   "metadata": {},
   "outputs": [
    {
     "name": "stderr",
     "output_type": "stream",
     "text": [
      "C:\\Users\\Alumet\\anaconda3\\lib\\site-packages\\lightfm\\_lightfm_fast.py:9: UserWarning: LightFM was compiled without OpenMP support. Only a single thread will be used.\n",
      "  warnings.warn(\n"
     ]
    }
   ],
   "source": [
    "import numpy as np\n",
    "import pandas as pd\n",
    "\n",
    "from tqdm import tqdm\n",
    "\n",
    "# all lightfm imports \n",
    "from lightfm.data import Dataset\n",
    "from lightfm import LightFM\n",
    "from lightfm import cross_validation\n",
    "from lightfm.evaluation import precision_at_k\n",
    "from lightfm.evaluation import auc_score\n",
    "\n",
    "# imports re for text cleaning \n",
    "import re\n",
    "from datetime import datetime, timedelta\n",
    "\n",
    "# we will ignore pandas warning \n",
    "import warnings\n",
    "warnings.filterwarnings('ignore')\n",
    "\n",
    "#others\n",
    "import itertools\n",
    "\n",
    "from sklearn.metrics import roc_auc_score\n",
    "import matplotlib.pyplot as plt"
   ]
  },
  {
   "cell_type": "markdown",
   "id": "59a2dd99",
   "metadata": {},
   "source": [
    "## Data import"
   ]
  },
  {
   "cell_type": "code",
   "execution_count": 2,
   "id": "24cfb515",
   "metadata": {},
   "outputs": [],
   "source": [
    "#### import tous les donées##########\n",
    "base_path = 'filtered data/'\n",
    "\n",
    "df_train = pd.read_csv(base_path + 'filtered_rating_fm_dataset_train.csv', index_col=0)\n",
    "\n",
    "df_user_features = pd.read_csv(base_path+'user_features_fm_dataset.csv', index_col=0)\n",
    "\n",
    "df_track_features = pd.read_csv(base_path + 'track_features_fm_dataset_normalized.csv', index_col=0)"
   ]
  },
  {
   "cell_type": "code",
   "execution_count": 3,
   "id": "4d50602f",
   "metadata": {},
   "outputs": [],
   "source": [
    "files = ['last_fm_fake_user(1001)_jazz.csv',\n",
    "         'last_fm_fake_user(1002)_classic.csv',\n",
    "         'last_fm_fake_user(1003)_pop.csv',\n",
    "         'last_fm_fake_user(1004)_rock.csv',\n",
    "         'last_fm_fake_user(1005)_rap.csv']\n",
    "\n",
    "for file in files:\n",
    "    df_temp = pd.read_csv(f'filtered data/fake_user/{file}', index_col=0)\n",
    "    df_temp['rating']=100 # a revoir\n",
    "    df_train = pd.concat([df_train, df_temp])\n",
    "    \n",
    "    user_id= int(file[18:22])\n",
    "    df_temp = pd.DataFrame({'user_id':[user_id],\n",
    "                          'gender':['m'],\n",
    "                          'country':['United States'],\n",
    "                          'region':['North America'],\n",
    "                          'registered':[2006.0]})\n",
    "    \n",
    "    df_user_features = pd.concat([df_user_features, df_temp])\n",
    "    \n",
    "    "
   ]
  },
  {
   "cell_type": "markdown",
   "id": "97b1d0f5",
   "metadata": {},
   "source": [
    "## Fonctions"
   ]
  },
  {
   "cell_type": "code",
   "execution_count": 4,
   "id": "fb54cac9",
   "metadata": {},
   "outputs": [],
   "source": [
    "##################################################\n",
    "# tous les functions utiles\n",
    "#################################################\n",
    "def create_features(dataframe, features_name, id_col_name):\n",
    "    \"\"\"\n",
    "    Generate features that will be ready for feeding into lightfm\n",
    "\n",
    "    Parameters\n",
    "    ----------\n",
    "    dataframe: Dataframe\n",
    "        Pandas Dataframe which contains features\n",
    "    features_name : List\n",
    "        List of feature columns name avaiable in dataframe\n",
    "    id_col_name: String\n",
    "        Column name which contains id of the question or\n",
    "        answer that the features will map to.\n",
    "        There are two possible values for this variable.\n",
    "        1. questions_id_num\n",
    "        2. professionals_id_num\n",
    "\n",
    "    Returns\n",
    "    -------\n",
    "    Pandas Series\n",
    "        A pandas series containing process features\n",
    "        that are ready for feed into lightfm.\n",
    "        The format of each value\n",
    "        will be (user_id, ['feature_1', 'feature_2', 'feature_3'])\n",
    "        Ex. -> (1, ['military', 'army', '5'])\n",
    "    \"\"\"\n",
    "\n",
    "    features = dataframe[features_name].apply(\n",
    "        lambda x: ','.join(x.map(str)), axis=1)\n",
    "    features = features.str.split(',')\n",
    "    features = list(zip(dataframe[id_col_name], features))\n",
    "    return features\n",
    "\n",
    "\n",
    "\n",
    "def generate_feature_list(dataframe, features_name):\n",
    "    \"\"\"\n",
    "    Generate features list for mapping \n",
    "\n",
    "    Parameters\n",
    "    ----------\n",
    "    dataframe: Dataframe\n",
    "        Pandas Dataframe for Users or Q&A. \n",
    "    features_name : List\n",
    "        List of feature columns name avaiable in dataframe. \n",
    "        \n",
    "    Returns\n",
    "    -------\n",
    "    List of all features for mapping \n",
    "    \"\"\"\n",
    "    features = dataframe[features_name].apply(\n",
    "        lambda x: ','.join(x.map(str)), axis=1)\n",
    "    features = features.str.split(',')\n",
    "    features = features.apply(pd.Series).stack().reset_index(drop=True)\n",
    "    return features\n",
    "\n",
    "\n",
    "def calculate_auc_score(lightfm_model, interactions_matrix, \n",
    "                        track_features, user_features): \n",
    "    \"\"\"\n",
    "    Measure the ROC AUC metric for a model. \n",
    "    A perfect score is 1.0.\n",
    "\n",
    "    Parameters\n",
    "    ----------\n",
    "    lightfm_model: LightFM model \n",
    "        A fitted lightfm model \n",
    "    interactions_matrix : \n",
    "        A lightfm interactions matrix \n",
    "    question_features, professional_features: \n",
    "        Lightfm features \n",
    "        \n",
    "    Returns\n",
    "    -------\n",
    "    String containing AUC score \n",
    "    \"\"\"\n",
    "    score = auc_score( \n",
    "        lightfm_model, interactions_matrix, \n",
    "        item_features=track_features, \n",
    "        user_features=user_features,\n",
    "        num_threads=3).mean()\n",
    "    return score"
   ]
  },
  {
   "cell_type": "code",
   "execution_count": 5,
   "id": "93ecc9ac",
   "metadata": {},
   "outputs": [],
   "source": [
    "class k_best():\n",
    "    def __init__(self, user_tracks, recomended_tracks):\n",
    "        self.user_tracks = user_tracks\n",
    "        self.recomended_tracks = recomended_tracks\n",
    "    \n",
    "    def CG(self):\n",
    "        \n",
    "        return len(set(self.recomended_tracks).intersection(set(self.user_tracks)))\n",
    "    \n",
    "    def DCG(self):\n",
    "        \n",
    "        result = 0\n",
    "        for i,id in enumerate(self.recomended_tracks):\n",
    "            \n",
    "            if id in self.user_tracks:\n",
    "                result+=1/np.log2(i+2)\n",
    "\n",
    "        return result\n",
    "    \n",
    "    def IDCG(self):\n",
    "        \n",
    "        a = self.CG()\n",
    "        result=0\n",
    "        \n",
    "        for i in range (a):\n",
    "            result+=1/np.log2(i+2)\n",
    "        \n",
    "        return result\n",
    "    \n",
    "    def NDCG(self):\n",
    "        if self.IDCG()!=0:\n",
    "            result = self.DCG()/self.IDCG()\n",
    "        else:\n",
    "            result=0\n",
    "            \n",
    "        return result\n",
    "    \n",
    "    def P_at_k(self):\n",
    "        \n",
    "        return self.CG()/len(self.recomended_tracks)\n",
    "\n",
    "    \n",
    "    def __str__(self):\n",
    "        \n",
    "        result = 'K_best ressults: \\n'\n",
    "        result+= f'CG = {self.CG()}\\n'\n",
    "        result+= f'DCG = {self.DCG()}\\n'\n",
    "        result+= f'NDCG = {self.NDCG()}\\n'\n",
    "        result+= f'P@K = {self.P_at_k()}\\n'\n",
    "        \n",
    "        return result"
   ]
  },
  {
   "cell_type": "markdown",
   "id": "78585c13",
   "metadata": {},
   "source": [
    "## Data preparation"
   ]
  },
  {
   "cell_type": "code",
   "execution_count": 6,
   "id": "f9040888",
   "metadata": {},
   "outputs": [],
   "source": [
    "df_train['weights'] = df_train['rating']+1"
   ]
  },
  {
   "cell_type": "markdown",
   "id": "1f14fdc1",
   "metadata": {},
   "source": [
    "### Filtre des Track_id"
   ]
  },
  {
   "cell_type": "code",
   "execution_count": 7,
   "id": "c4e7ba49",
   "metadata": {},
   "outputs": [],
   "source": [
    "track_id_to_keep_tack = set(df_track_features['track_id'].unique())\n",
    "track_id_to_keep_train = set(df_train['track_id'].unique())\n",
    "\n",
    "track_id_to_keep = track_id_to_keep_tack.intersection(track_id_to_keep_train)"
   ]
  },
  {
   "cell_type": "code",
   "execution_count": 8,
   "id": "42750bd8",
   "metadata": {},
   "outputs": [],
   "source": [
    "filter = df_train['track_id'].apply(lambda x: x in track_id_to_keep)\n",
    "df_train = df_train[filter]"
   ]
  },
  {
   "cell_type": "code",
   "execution_count": 9,
   "id": "44dc5881",
   "metadata": {},
   "outputs": [],
   "source": [
    "filter = df_track_features['track_id'].apply(lambda x: x in track_id_to_keep)\n",
    "df_track_features = df_track_features[filter]"
   ]
  },
  {
   "cell_type": "markdown",
   "id": "609173ee",
   "metadata": {},
   "source": [
    "### Filtre des user_id"
   ]
  },
  {
   "cell_type": "code",
   "execution_count": 10,
   "id": "d95219c4",
   "metadata": {},
   "outputs": [],
   "source": [
    "user_id_to_keep_user = set(df_user_features['user_id'].unique())\n",
    "user_id_to_keep_train = set(df_train['user_id'].unique())\n",
    "\n",
    "user_id_to_keep = user_id_to_keep_user.intersection(user_id_to_keep_train)"
   ]
  },
  {
   "cell_type": "code",
   "execution_count": 11,
   "id": "b7101c3c",
   "metadata": {},
   "outputs": [],
   "source": [
    "filter = df_train['user_id'].apply(lambda x: x in user_id_to_keep)\n",
    "df_train = df_train[filter]"
   ]
  },
  {
   "cell_type": "code",
   "execution_count": 12,
   "id": "b6ca044f",
   "metadata": {},
   "outputs": [],
   "source": [
    "filter = df_user_features['user_id'].apply(lambda x: x in user_id_to_keep)\n",
    "df_user_features = df_user_features[filter]"
   ]
  },
  {
   "cell_type": "markdown",
   "id": "a0601c06",
   "metadata": {},
   "source": [
    "### Verification"
   ]
  },
  {
   "cell_type": "code",
   "execution_count": 13,
   "id": "ad68b8a2",
   "metadata": {},
   "outputs": [
    {
     "name": "stdout",
     "output_type": "stream",
     "text": [
      "train nb track:  42304\n",
      "track_features nb track:  42304\n"
     ]
    }
   ],
   "source": [
    "print('train nb track: ', df_train['track_id'].nunique())\n",
    "print('track_features nb track: ', df_track_features['track_id'].nunique())"
   ]
  },
  {
   "cell_type": "code",
   "execution_count": 14,
   "id": "b943cd41",
   "metadata": {},
   "outputs": [
    {
     "name": "stdout",
     "output_type": "stream",
     "text": [
      "train nb user:  964\n",
      "user_features nb user:  964\n"
     ]
    }
   ],
   "source": [
    "print('train nb user: ', df_train['user_id'].nunique())\n",
    "print('user_features nb user: ', df_user_features['user_id'].nunique())"
   ]
  },
  {
   "cell_type": "markdown",
   "id": "cd1297c2",
   "metadata": {},
   "source": [
    "### Creation des tags (user et item)"
   ]
  },
  {
   "cell_type": "markdown",
   "id": "f1cb433c",
   "metadata": {},
   "source": [
    "### User"
   ]
  },
  {
   "cell_type": "code",
   "execution_count": 15,
   "id": "e05ce875",
   "metadata": {},
   "outputs": [],
   "source": [
    "df_user_features['user_tags'] = df_user_features[df_user_features.columns[1:5]].apply(lambda x: ','.join(x.dropna().astype(str)),axis=1)"
   ]
  },
  {
   "cell_type": "code",
   "execution_count": 16,
   "id": "75088303",
   "metadata": {},
   "outputs": [],
   "source": [
    "user_features_list = generate_feature_list(df_user_features,['user_tags'])"
   ]
  },
  {
   "cell_type": "code",
   "execution_count": 17,
   "id": "c4e75054",
   "metadata": {},
   "outputs": [],
   "source": [
    "df_user_features['user_features'] = create_features(df_user_features, ['user_tags'], 'user_id')"
   ]
  },
  {
   "cell_type": "markdown",
   "id": "d856fa04",
   "metadata": {},
   "source": [
    "### Item"
   ]
  },
  {
   "cell_type": "code",
   "execution_count": 18,
   "id": "a72b90e2",
   "metadata": {},
   "outputs": [],
   "source": [
    "df_track_features['item_tags'] = df_track_features[df_track_features.columns[3:25]].apply(lambda x: ','.join(x.dropna().astype(str)),axis=1)"
   ]
  },
  {
   "cell_type": "code",
   "execution_count": 19,
   "id": "54508a5f",
   "metadata": {},
   "outputs": [],
   "source": [
    "item_features_list = generate_feature_list(df_track_features,['item_tags'])"
   ]
  },
  {
   "cell_type": "code",
   "execution_count": 20,
   "id": "3bd474f2",
   "metadata": {},
   "outputs": [],
   "source": [
    "df_track_features['item_features'] = create_features(df_track_features, ['item_tags'], 'track_id')"
   ]
  },
  {
   "cell_type": "markdown",
   "id": "93beac9a",
   "metadata": {},
   "source": [
    "## Dataset build"
   ]
  },
  {
   "cell_type": "code",
   "execution_count": 21,
   "id": "e6971847",
   "metadata": {},
   "outputs": [],
   "source": [
    "user_features_id = df_user_features['user_id'].unique()\n",
    "track_features_id =  df_track_features['track_id'].unique()"
   ]
  },
  {
   "cell_type": "code",
   "execution_count": 22,
   "id": "8819498e",
   "metadata": {},
   "outputs": [],
   "source": [
    "########################\n",
    "# Train Dataset building for lightfm\n",
    "########################\n",
    "\n",
    "\n",
    "dataset = Dataset()\n",
    "dataset.fit(\n",
    "    user_features_id, \n",
    "    track_features_id,\n",
    "    item_features = item_features_list, \n",
    "    user_features = user_features_list)"
   ]
  },
  {
   "cell_type": "code",
   "execution_count": 23,
   "id": "1840c2e6",
   "metadata": {},
   "outputs": [],
   "source": [
    "track_features = dataset.build_item_features(df_track_features['item_features'])\n",
    "user_features = dataset.build_user_features(df_user_features['user_features'])"
   ]
  },
  {
   "cell_type": "markdown",
   "id": "cd76cb1a",
   "metadata": {},
   "source": [
    "### Train"
   ]
  },
  {
   "cell_type": "code",
   "execution_count": 24,
   "id": "c40f30ef",
   "metadata": {},
   "outputs": [],
   "source": [
    "df_train['user_track_id_tuple'] = list(zip(df_train.user_id, df_train.track_id, df_train.weights))\n",
    "\n",
    "interactions_train, weights_train = dataset.build_interactions(df_train['user_track_id_tuple'])"
   ]
  },
  {
   "cell_type": "markdown",
   "id": "1e3b3689",
   "metadata": {},
   "source": [
    "### Modèle"
   ]
  },
  {
   "cell_type": "code",
   "execution_count": 25,
   "id": "a0a352a6",
   "metadata": {},
   "outputs": [
    {
     "name": "stderr",
     "output_type": "stream",
     "text": [
      "Epoch: 100%|████████████████████████████████████████████████████████████████████████████| 5/5 [11:02<00:00, 132.59s/it]\n"
     ]
    },
    {
     "data": {
      "text/plain": [
       "<lightfm.lightfm.LightFM at 0x213fea183d0>"
      ]
     },
     "execution_count": 25,
     "metadata": {},
     "output_type": "execute_result"
    }
   ],
   "source": [
    "################################\n",
    "# Model building part\n",
    "################################\n",
    "\n",
    "# define lightfm model by specifying hyper-parametre\n",
    "# then fit the model with ineteractions matrix, item and user features \n",
    "model = LightFM(\n",
    "    no_components=80,\n",
    "    learning_rate=0.95,\n",
    "    learning_schedule='adagrad',\n",
    "    loss='warp',\n",
    "    max_sampled=7,\n",
    "    random_state=42)\n",
    "\n",
    "model.fit(\n",
    "    interactions_train,\n",
    "    item_features = track_features,\n",
    "    user_features = user_features, sample_weight = weights_train,\n",
    "    epochs=5, num_threads=3, verbose=True)"
   ]
  },
  {
   "cell_type": "markdown",
   "id": "846eb1e4",
   "metadata": {},
   "source": [
    "## Evaluation"
   ]
  },
  {
   "cell_type": "code",
   "execution_count": 62,
   "id": "65272572",
   "metadata": {},
   "outputs": [],
   "source": [
    "labels = np.array(df_track_features['artist_name']+'--'+df_track_features['track_name'])\n",
    "id = np.array(df_track_features['track_id'])"
   ]
  },
  {
   "cell_type": "code",
   "execution_count": 72,
   "id": "47be2544",
   "metadata": {},
   "outputs": [],
   "source": [
    "def sample_recommendation(model, data, user_id, filter=[]):\n",
    "    \n",
    "    n_users, n_items = data.shape\n",
    "\n",
    "    scores = model.predict(user_id,np.arange(n_items),track_features,user_features)\n",
    "        \n",
    "    top_items_for_user = labels[np.argsort(-scores)]\n",
    "    top_items_filter = [True if x not in filter else False for x in id[np.argsort(-scores)]]\n",
    "    \n",
    "    top_items_for_user = top_items_for_user[top_items_filter]\n",
    "    \n",
    "    print(\"Top Recommended tracks For User: \", user_id)\n",
    "    for x in top_items_for_user[:10]:\n",
    "        print(\"     %s\" % x)\n",
    "\n",
    "   "
   ]
  },
  {
   "cell_type": "markdown",
   "id": "f561a58a",
   "metadata": {},
   "source": [
    "### Utilisateur Jazz 1001"
   ]
  },
  {
   "cell_type": "code",
   "execution_count": 73,
   "id": "23250ba9",
   "metadata": {},
   "outputs": [
    {
     "name": "stdout",
     "output_type": "stream",
     "text": [
      "Top Recommended tracks For User:  959\n",
      "     Etta James--At Last\n",
      "     Chet Baker--My Funny Valentine\n",
      "     Aaron Goldberg--Oam'S Blues\n",
      "     Billie Holiday--Solitude\n",
      "     Bob Marley & The Wailers--Lively Up Yourself\n",
      "     Shirley Horn--Here'S To Life\n",
      "     Billie Holiday--Fine And Mellow\n",
      "     Dexter Gordon--I Guess I'Ll Hang My Tears Out To Dry\n",
      "     Benny Goodman--King Porter Stomp\n",
      "     Billie Holiday--Good Morning Heartache\n"
     ]
    }
   ],
   "source": [
    "user = 1001\n",
    "\n",
    "inner_user = int(np.where(user_features_id==user)[0][0])\n",
    "recommendation = sample_recommendation(model,interactions_train,inner_user)"
   ]
  },
  {
   "cell_type": "code",
   "execution_count": 74,
   "id": "533f1bdc",
   "metadata": {},
   "outputs": [
    {
     "name": "stdout",
     "output_type": "stream",
     "text": [
      "Top Recommended tracks For User:  959\n",
      "     Etta James--At Last\n",
      "     Chet Baker--My Funny Valentine\n",
      "     Aaron Goldberg--Oam'S Blues\n",
      "     Billie Holiday--Solitude\n",
      "     Bob Marley & The Wailers--Lively Up Yourself\n",
      "     Shirley Horn--Here'S To Life\n",
      "     Billie Holiday--Fine And Mellow\n",
      "     Dexter Gordon--I Guess I'Ll Hang My Tears Out To Dry\n",
      "     Billie Holiday--Good Morning Heartache\n",
      "     João Gilberto--De Conversa Em Conversa\n"
     ]
    }
   ],
   "source": [
    "user = 1001\n",
    "\n",
    "user_tracks_train = set([x for x in df_train[df_train['user_id']==user]['track_id'].unique()])\n",
    "recommendation = sample_recommendation(model,interactions_train,inner_user,user_tracks_train)"
   ]
  },
  {
   "cell_type": "markdown",
   "id": "813e34c0",
   "metadata": {},
   "source": [
    "### Utilisateur classic 1002"
   ]
  },
  {
   "cell_type": "code",
   "execution_count": 47,
   "id": "fdc46a4b",
   "metadata": {},
   "outputs": [
    {
     "name": "stdout",
     "output_type": "stream",
     "text": [
      "Top Recommended tracks For User:  960\n",
      "     Gnarls Barkley--Crazy\n",
      "     Queen--Bohemian Rhapsody\n",
      "     Moby--Porcelain\n",
      "     Michael Jackson--Beat It\n",
      "     Gorillaz--Dare\n",
      "     A-Ha--Take On Me\n",
      "     Wolfgang Amadeus Mozart--Lacrimosa\n",
      "     The Beatles--Hey Jude\n",
      "     Moby--In This World\n",
      "     Madonna--Hung Up\n"
     ]
    }
   ],
   "source": [
    "user = 1002\n",
    "\n",
    "inner_user = int(np.where(user_features_id==user)[0][0])\n",
    "recommendation = sample_recommendation(model,interactions_train,inner_user)"
   ]
  },
  {
   "cell_type": "code",
   "execution_count": 77,
   "id": "32497e94",
   "metadata": {},
   "outputs": [
    {
     "name": "stdout",
     "output_type": "stream",
     "text": [
      "Top Recommended tracks For User:  960\n",
      "     Gnarls Barkley--Crazy\n",
      "     Queen--Bohemian Rhapsody\n",
      "     Moby--Porcelain\n",
      "     Michael Jackson--Beat It\n",
      "     Gorillaz--Dare\n",
      "     A-Ha--Take On Me\n",
      "     The Beatles--Hey Jude\n",
      "     Moby--In This World\n",
      "     Madonna--Hung Up\n",
      "     Alanis Morissette--You Oughta Know\n"
     ]
    }
   ],
   "source": [
    "user = 1002\n",
    "\n",
    "inner_user = int(np.where(user_features_id==user)[0][0])\n",
    "user_tracks_train = set([x for x in df_train[df_train['user_id']==user]['track_id'].unique()])\n",
    "recommendation = sample_recommendation(model,interactions_train,inner_user,user_tracks_train)"
   ]
  },
  {
   "cell_type": "markdown",
   "id": "2d402358",
   "metadata": {},
   "source": [
    "### Utilisateur pop 1003"
   ]
  },
  {
   "cell_type": "code",
   "execution_count": 48,
   "id": "6c263573",
   "metadata": {},
   "outputs": [
    {
     "name": "stdout",
     "output_type": "stream",
     "text": [
      "Top Recommended tracks For User:  961\n",
      "     Britney Spears--Circus\n",
      "     P!Nk--So What\n",
      "     Christina Aguilera--Keeps Gettin' Better\n",
      "     Ne-Yo--Closer\n",
      "     Maroon 5--Wake Up Call\n",
      "     Britney Spears--Hot As Ice\n",
      "     Jennifer Lopez--Do It Well\n",
      "     Katy Perry--Hot N Cold\n",
      "     Nelly Furtado--Say It Right\n",
      "     Britney Spears--Womanizer\n"
     ]
    }
   ],
   "source": [
    "user = 1003\n",
    "\n",
    "inner_user = int(np.where(user_features_id==user)[0][0])\n",
    "recommendation = sample_recommendation(model,interactions_train,inner_user)"
   ]
  },
  {
   "cell_type": "code",
   "execution_count": 78,
   "id": "e99081a3",
   "metadata": {},
   "outputs": [
    {
     "name": "stdout",
     "output_type": "stream",
     "text": [
      "Top Recommended tracks For User:  961\n",
      "     Britney Spears--Circus\n",
      "     P!Nk--So What\n",
      "     Christina Aguilera--Keeps Gettin' Better\n",
      "     Ne-Yo--Closer\n",
      "     Maroon 5--Wake Up Call\n",
      "     Jennifer Lopez--Do It Well\n",
      "     Nelly Furtado--Say It Right\n",
      "     Britney Spears--Womanizer\n",
      "     Gwen Stefani--Wind It Up\n",
      "     Destiny'S Child--Bootylicious\n"
     ]
    }
   ],
   "source": [
    "user = 1003\n",
    "\n",
    "inner_user = int(np.where(user_features_id==user)[0][0])\n",
    "user_tracks_train = set([x for x in df_train[df_train['user_id']==user]['track_id'].unique()])\n",
    "recommendation = sample_recommendation(model,interactions_train,inner_user,user_tracks_train)"
   ]
  },
  {
   "cell_type": "markdown",
   "id": "1e384750",
   "metadata": {},
   "source": [
    "### Utilisateur rock 1004"
   ]
  },
  {
   "cell_type": "code",
   "execution_count": 49,
   "id": "50071a75",
   "metadata": {},
   "outputs": [
    {
     "name": "stdout",
     "output_type": "stream",
     "text": [
      "Top Recommended tracks For User:  962\n",
      "     System Of A Down--B.Y.O.B.\n",
      "     System Of A Down--Cigaro\n",
      "     System Of A Down--Tentative\n",
      "     System Of A Down--Atwa\n",
      "     System Of A Down--Violent Pornography\n",
      "     System Of A Down--Old School Hollywood\n",
      "     System Of A Down--Deer Dance\n",
      "     System Of A Down--Toxicity\n",
      "     System Of A Down--Science\n",
      "     Rammstein--Keine Lust\n"
     ]
    }
   ],
   "source": [
    "user = 1004\n",
    "\n",
    "inner_user = int(np.where(user_features_id==user)[0][0])\n",
    "recommendation = sample_recommendation(model,interactions_train,inner_user)"
   ]
  },
  {
   "cell_type": "code",
   "execution_count": 79,
   "id": "6c43b63f",
   "metadata": {},
   "outputs": [
    {
     "name": "stdout",
     "output_type": "stream",
     "text": [
      "Top Recommended tracks For User:  962\n",
      "     System Of A Down--B.Y.O.B.\n",
      "     System Of A Down--Cigaro\n",
      "     System Of A Down--Tentative\n",
      "     System Of A Down--Atwa\n",
      "     System Of A Down--Violent Pornography\n",
      "     System Of A Down--Old School Hollywood\n",
      "     System Of A Down--Deer Dance\n",
      "     System Of A Down--Toxicity\n",
      "     System Of A Down--Science\n",
      "     Rammstein--Keine Lust\n"
     ]
    }
   ],
   "source": [
    "user = 1004\n",
    "\n",
    "inner_user = int(np.where(user_features_id==user)[0][0])\n",
    "user_tracks_train = set([x for x in df_train[df_train['user_id']==user]['track_id'].unique()])\n",
    "recommendation = sample_recommendation(model,interactions_train,inner_user,user_tracks_train)"
   ]
  },
  {
   "cell_type": "markdown",
   "id": "808d812e",
   "metadata": {},
   "source": [
    "### Utilisateur rap 1005"
   ]
  },
  {
   "cell_type": "code",
   "execution_count": 50,
   "id": "091d26d5",
   "metadata": {},
   "outputs": [
    {
     "name": "stdout",
     "output_type": "stream",
     "text": [
      "Top Recommended tracks For User:  963\n",
      "     Eminem--Kim\n",
      "     2Pac--Changes\n",
      "     Cypress Hill--Hits From The Bong\n",
      "     Dr. Dre--Forgot About Dre\n",
      "     Sean Kingston--Beautiful Girls\n",
      "     2Pac--Temptations\n",
      "     Lil Wayne--Go Dj\n",
      "     Paramore--Misery Business\n",
      "     Eminem--Mosh\n",
      "     Eminem--Just Don'T Give A Fuck\n"
     ]
    }
   ],
   "source": [
    "user = 1005\n",
    "\n",
    "inner_user = int(np.where(user_features_id==user)[0][0])\n",
    "recommendation = sample_recommendation(model,interactions_train,inner_user)"
   ]
  },
  {
   "cell_type": "code",
   "execution_count": 81,
   "id": "09deb184",
   "metadata": {},
   "outputs": [
    {
     "name": "stdout",
     "output_type": "stream",
     "text": [
      "Top Recommended tracks For User:  963\n",
      "     2Pac--Changes\n",
      "     Cypress Hill--Hits From The Bong\n",
      "     Dr. Dre--Forgot About Dre\n",
      "     Sean Kingston--Beautiful Girls\n",
      "     Lil Wayne--Go Dj\n",
      "     Paramore--Misery Business\n",
      "     Eminem--Mosh\n",
      "     Eminem--Just Don'T Give A Fuck\n",
      "     Lupe Fiasco--Streets On Fire\n",
      "     Kanye West--Through The Wire\n"
     ]
    }
   ],
   "source": [
    "user = 1005\n",
    "\n",
    "inner_user = int(np.where(user_features_id==user)[0][0])\n",
    "user_tracks_train = set([x for x in df_train[df_train['user_id']==user]['track_id'].unique()])\n",
    "recommendation = sample_recommendation(model,interactions_train,inner_user,user_tracks_train)"
   ]
  }
 ],
 "metadata": {
  "kernelspec": {
   "display_name": "Python 3 (ipykernel)",
   "language": "python",
   "name": "python3"
  },
  "language_info": {
   "codemirror_mode": {
    "name": "ipython",
    "version": 3
   },
   "file_extension": ".py",
   "mimetype": "text/x-python",
   "name": "python",
   "nbconvert_exporter": "python",
   "pygments_lexer": "ipython3",
   "version": "3.9.7"
  }
 },
 "nbformat": 4,
 "nbformat_minor": 5
}
