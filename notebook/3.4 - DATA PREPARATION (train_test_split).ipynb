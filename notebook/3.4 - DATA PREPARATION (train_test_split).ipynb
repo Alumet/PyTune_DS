{
 "cells": [
  {
   "cell_type": "markdown",
   "id": "ba335c98",
   "metadata": {},
   "source": [
    "# DATA PREPARATION Train_test_split\n",
    "\n",
    "FICHIER: *'filtered_rating_fm_dataset.csv'*"
   ]
  },
  {
   "cell_type": "markdown",
   "id": "9d0cba11",
   "metadata": {},
   "source": [
    "## Imports"
   ]
  },
  {
   "cell_type": "code",
   "execution_count": 3,
   "id": "596ce4ef",
   "metadata": {},
   "outputs": [],
   "source": [
    "import random\n",
    "import numpy as np\n",
    "import pandas as pd\n",
    "import matplotlib.pyplot as plt"
   ]
  },
  {
   "cell_type": "markdown",
   "id": "47e09368",
   "metadata": {},
   "source": [
    "## Data imports"
   ]
  },
  {
   "cell_type": "code",
   "execution_count": 4,
   "id": "af743db5",
   "metadata": {},
   "outputs": [
    {
     "data": {
      "text/html": [
       "<div>\n",
       "<style scoped>\n",
       "    .dataframe tbody tr th:only-of-type {\n",
       "        vertical-align: middle;\n",
       "    }\n",
       "\n",
       "    .dataframe tbody tr th {\n",
       "        vertical-align: top;\n",
       "    }\n",
       "\n",
       "    .dataframe thead th {\n",
       "        text-align: right;\n",
       "    }\n",
       "</style>\n",
       "<table border=\"1\" class=\"dataframe\">\n",
       "  <thead>\n",
       "    <tr style=\"text-align: right;\">\n",
       "      <th></th>\n",
       "      <th>user_id</th>\n",
       "      <th>time_stamp</th>\n",
       "      <th>artist_id</th>\n",
       "      <th>artist_name</th>\n",
       "      <th>track_id</th>\n",
       "      <th>track_name</th>\n",
       "      <th>rating</th>\n",
       "    </tr>\n",
       "  </thead>\n",
       "  <tbody>\n",
       "    <tr>\n",
       "      <th>0</th>\n",
       "      <td>1</td>\n",
       "      <td>2009-05-03T15:10:18Z</td>\n",
       "      <td>4</td>\n",
       "      <td>Minus 8</td>\n",
       "      <td>0</td>\n",
       "      <td>Elysian Fields</td>\n",
       "      <td>9</td>\n",
       "    </tr>\n",
       "    <tr>\n",
       "      <th>1</th>\n",
       "      <td>1</td>\n",
       "      <td>2009-05-03T15:04:31Z</td>\n",
       "      <td>5</td>\n",
       "      <td>Beanfield</td>\n",
       "      <td>1</td>\n",
       "      <td>Planetary Deadlock</td>\n",
       "      <td>11</td>\n",
       "    </tr>\n",
       "    <tr>\n",
       "      <th>2</th>\n",
       "      <td>1</td>\n",
       "      <td>2009-05-03T14:50:51Z</td>\n",
       "      <td>7</td>\n",
       "      <td>Alif Tree</td>\n",
       "      <td>2</td>\n",
       "      <td>Deadly Species</td>\n",
       "      <td>11</td>\n",
       "    </tr>\n",
       "    <tr>\n",
       "      <th>3</th>\n",
       "      <td>1</td>\n",
       "      <td>2009-05-03T14:46:29Z</td>\n",
       "      <td>4</td>\n",
       "      <td>Minus 8</td>\n",
       "      <td>3</td>\n",
       "      <td>Cold Fusion</td>\n",
       "      <td>9</td>\n",
       "    </tr>\n",
       "    <tr>\n",
       "      <th>4</th>\n",
       "      <td>1</td>\n",
       "      <td>2009-05-02T15:00:59Z</td>\n",
       "      <td>14</td>\n",
       "      <td>4Hero</td>\n",
       "      <td>4</td>\n",
       "      <td>Look Inside</td>\n",
       "      <td>8</td>\n",
       "    </tr>\n",
       "  </tbody>\n",
       "</table>\n",
       "</div>"
      ],
      "text/plain": [
       "   user_id            time_stamp  artist_id artist_name  track_id  \\\n",
       "0        1  2009-05-03T15:10:18Z          4     Minus 8         0   \n",
       "1        1  2009-05-03T15:04:31Z          5   Beanfield         1   \n",
       "2        1  2009-05-03T14:50:51Z          7   Alif Tree         2   \n",
       "3        1  2009-05-03T14:46:29Z          4     Minus 8         3   \n",
       "4        1  2009-05-02T15:00:59Z         14       4Hero         4   \n",
       "\n",
       "           track_name  rating  \n",
       "0      Elysian Fields       9  \n",
       "1  Planetary Deadlock      11  \n",
       "2      Deadly Species      11  \n",
       "3         Cold Fusion       9  \n",
       "4         Look Inside       8  "
      ]
     },
     "execution_count": 4,
     "metadata": {},
     "output_type": "execute_result"
    }
   ],
   "source": [
    "df = pd.read_csv('filtered data/filtered_rating_fm_dataset.csv')\n",
    "df.head()"
   ]
  },
  {
   "cell_type": "markdown",
   "id": "ceedda50",
   "metadata": {},
   "source": [
    "## Creation d'une matrice d'interaction Item/user/weight"
   ]
  },
  {
   "cell_type": "code",
   "execution_count": 5,
   "id": "5b234916",
   "metadata": {},
   "outputs": [],
   "source": [
    "df_gb = df.groupby(['user_id','track_id']).mean().reset_index()"
   ]
  },
  {
   "cell_type": "code",
   "execution_count": 6,
   "id": "045c8115",
   "metadata": {},
   "outputs": [],
   "source": [
    "item = np.array(df_gb[['track_id']].values).T[0]\n",
    "user = np.array(df_gb[['user_id']].values).T[0]\n",
    "weight = np.array(df_gb[['rating']].values).T[0]"
   ]
  },
  {
   "cell_type": "code",
   "execution_count": 7,
   "id": "6a62cf36",
   "metadata": {},
   "outputs": [],
   "source": [
    "from scipy.sparse import csr_matrix\n",
    "mat_music = csr_matrix((weight,(item, user)))"
   ]
  },
  {
   "cell_type": "markdown",
   "id": "da534a63",
   "metadata": {},
   "source": [
    "## Train_test_split"
   ]
  },
  {
   "cell_type": "code",
   "execution_count": 9,
   "id": "7087f2af",
   "metadata": {},
   "outputs": [],
   "source": [
    "def select(x, samples):\n",
    "    pair = (x['track_id'],x['user_id'])\n",
    "    return pair in samples"
   ]
  },
  {
   "cell_type": "code",
   "execution_count": 10,
   "id": "4a9609e4",
   "metadata": {},
   "outputs": [],
   "source": [
    "def make_train(df, ratings, pct_test = 0.2):\n",
    "    '''\n",
    "    \n",
    "    parameters: \n",
    "    \n",
    "    ratings - the original ratings matrix from which you want to generate a train/test set. Test is just a complete\n",
    "    copy of the original set. This is in the form of a sparse csr_matrix. \n",
    "    \n",
    "    pct_test - The percentage of user-item interactions where an interaction took place that you want to mask in the \n",
    "    training set for later comparison to the test set, which contains all of the original ratings. \n",
    "    \n",
    "    returns:\n",
    "    \n",
    "    samples - une liste d'intercation à séparer \n",
    "    '''\n",
    "    test_set = ratings.copy() # Make a copy of the original set to be the test set.\n",
    "    #test_set[test_set != 0] = 1 # Store the test set as a binary preference matrix\n",
    "    \n",
    "    training_set = ratings.copy() # Make a copy of the original data we can alter as our training set. \n",
    "    nonzero_inds = training_set.nonzero() # Find the indices in the ratings data where an interaction exists\n",
    "    nonzero_pairs = list(zip(nonzero_inds[0], nonzero_inds[1])) # Zip these pairs together of user,item index into list\n",
    "    \n",
    "    random.seed(0) # Set the random seed to zero for reproducibility\n",
    "    num_samples = int(np.ceil(pct_test*len(nonzero_pairs))) # Round the number of samples needed to the nearest integer\n",
    "    samples = random.sample(nonzero_pairs, num_samples) # Sample a random number of user-item pairs without replacement\n",
    "    samples = set(samples)\n",
    "    \n",
    "    filtre = df.apply(lambda row: select(row, samples) ,axis = 1)\n",
    "    \n",
    "    train_df = df[filtre==False]\n",
    "    test_df = df[filtre]\n",
    "    \n",
    "    return train_df, test_df"
   ]
  },
  {
   "cell_type": "code",
   "execution_count": 41,
   "id": "cfa91b2c",
   "metadata": {},
   "outputs": [],
   "source": [
    "train_df, test_df =  make_train(df, mat_music, pct_test=0.3)"
   ]
  },
  {
   "cell_type": "markdown",
   "id": "cec43527",
   "metadata": {},
   "source": [
    "### Filtre des track_id\n",
    "les models mixte colaborativ filtering + content base necessitent un nombre de track_id homogéne entre le train et le test"
   ]
  },
  {
   "cell_type": "code",
   "execution_count": 42,
   "id": "f93676ec",
   "metadata": {},
   "outputs": [
    {
     "name": "stdout",
     "output_type": "stream",
     "text": [
      "df nb track_id 80600\n",
      "df_train nb track_id 80600\n",
      "df_test nb track_id 80021\n"
     ]
    }
   ],
   "source": [
    "print('df nb track_id', df['track_id'].nunique())\n",
    "print('df_train nb track_id', train_df['track_id'].nunique())\n",
    "print('df_test nb track_id', test_df['track_id'].nunique())"
   ]
  },
  {
   "cell_type": "code",
   "execution_count": 43,
   "id": "70f17ce6",
   "metadata": {},
   "outputs": [],
   "source": [
    "track_to_keep = set(test_df['track_id'].unique())\n",
    "filter = train_df['track_id'].apply(lambda x: x in track_to_keep)\n",
    "train_df = train_df[filter]"
   ]
  },
  {
   "cell_type": "code",
   "execution_count": 44,
   "id": "1870ea3e",
   "metadata": {},
   "outputs": [
    {
     "name": "stdout",
     "output_type": "stream",
     "text": [
      "df nb track_id 80600\n",
      "df_train nb track_id 80021\n",
      "df_test nb track_id 80021\n"
     ]
    }
   ],
   "source": [
    "print('df nb track_id', df['track_id'].nunique())\n",
    "print('df_train nb track_id', train_df['track_id'].nunique())\n",
    "print('df_test nb track_id', test_df['track_id'].nunique())"
   ]
  },
  {
   "cell_type": "markdown",
   "id": "3180c3ed",
   "metadata": {},
   "source": [
    "### Verification User_id"
   ]
  },
  {
   "cell_type": "code",
   "execution_count": 45,
   "id": "eeb1b26d",
   "metadata": {},
   "outputs": [
    {
     "name": "stdout",
     "output_type": "stream",
     "text": [
      "df nb user_id 959\n",
      "df_train nb user_id 959\n",
      "df_test nb user_id 959\n"
     ]
    }
   ],
   "source": [
    "print('df nb user_id', df['user_id'].nunique())\n",
    "print('df_train nb user_id', train_df['user_id'].nunique())\n",
    "print('df_test nb user_id', test_df['user_id'].nunique())"
   ]
  },
  {
   "cell_type": "markdown",
   "id": "9fd3d212",
   "metadata": {},
   "source": [
    "### Verification Artist_id"
   ]
  },
  {
   "cell_type": "code",
   "execution_count": 46,
   "id": "1a2b985b",
   "metadata": {},
   "outputs": [
    {
     "name": "stdout",
     "output_type": "stream",
     "text": [
      "df nb artist_id 6336\n",
      "df_train nb artist_id 6307\n",
      "df_test nb artist_id 6303\n"
     ]
    }
   ],
   "source": [
    "print('df nb artist_id', df['artist_id'].nunique())\n",
    "print('df_train nb artist_id', train_df['artist_id'].nunique())\n",
    "print('df_test nb artist_id', test_df['artist_id'].nunique())"
   ]
  },
  {
   "cell_type": "markdown",
   "id": "3f13b779",
   "metadata": {},
   "source": [
    "## Sauvegarde"
   ]
  },
  {
   "cell_type": "code",
   "execution_count": 25,
   "id": "673cff52",
   "metadata": {},
   "outputs": [],
   "source": [
    "train_df.to_csv('filtered data/filtered_rating_fm_dataset_train.csv')"
   ]
  },
  {
   "cell_type": "code",
   "execution_count": 26,
   "id": "00a1aaf5",
   "metadata": {},
   "outputs": [],
   "source": [
    "test_df.to_csv('filtered data/filtered_rating_fm_dataset_test.csv')"
   ]
  },
  {
   "cell_type": "code",
   "execution_count": 27,
   "id": "5a2bb42a",
   "metadata": {},
   "outputs": [
    {
     "data": {
      "text/html": [
       "<div>\n",
       "<style scoped>\n",
       "    .dataframe tbody tr th:only-of-type {\n",
       "        vertical-align: middle;\n",
       "    }\n",
       "\n",
       "    .dataframe tbody tr th {\n",
       "        vertical-align: top;\n",
       "    }\n",
       "\n",
       "    .dataframe thead th {\n",
       "        text-align: right;\n",
       "    }\n",
       "</style>\n",
       "<table border=\"1\" class=\"dataframe\">\n",
       "  <thead>\n",
       "    <tr style=\"text-align: right;\">\n",
       "      <th></th>\n",
       "      <th>user_id</th>\n",
       "      <th>time_stamp</th>\n",
       "      <th>artist_id</th>\n",
       "      <th>artist_name</th>\n",
       "      <th>track_id</th>\n",
       "      <th>track_name</th>\n",
       "      <th>rating</th>\n",
       "    </tr>\n",
       "  </thead>\n",
       "  <tbody>\n",
       "    <tr>\n",
       "      <th>3</th>\n",
       "      <td>0</td>\n",
       "      <td>2009-05-03T14:46:29Z</td>\n",
       "      <td>0</td>\n",
       "      <td>Minus 8</td>\n",
       "      <td>3</td>\n",
       "      <td>Cold Fusion</td>\n",
       "      <td>9</td>\n",
       "    </tr>\n",
       "    <tr>\n",
       "      <th>8</th>\n",
       "      <td>0</td>\n",
       "      <td>2009-04-30T17:42:39Z</td>\n",
       "      <td>3</td>\n",
       "      <td>4Hero</td>\n",
       "      <td>6</td>\n",
       "      <td>Dedication To The Horse</td>\n",
       "      <td>1</td>\n",
       "    </tr>\n",
       "    <tr>\n",
       "      <th>16</th>\n",
       "      <td>0</td>\n",
       "      <td>2009-04-28T13:25:52Z</td>\n",
       "      <td>0</td>\n",
       "      <td>Minus 8</td>\n",
       "      <td>3</td>\n",
       "      <td>Cold Fusion</td>\n",
       "      <td>9</td>\n",
       "    </tr>\n",
       "    <tr>\n",
       "      <th>18</th>\n",
       "      <td>0</td>\n",
       "      <td>2009-04-27T12:29:01Z</td>\n",
       "      <td>4</td>\n",
       "      <td>Röyksopp</td>\n",
       "      <td>10</td>\n",
       "      <td>The Girl And The Robot</td>\n",
       "      <td>25</td>\n",
       "    </tr>\n",
       "    <tr>\n",
       "      <th>21</th>\n",
       "      <td>0</td>\n",
       "      <td>2009-04-27T12:24:32Z</td>\n",
       "      <td>4</td>\n",
       "      <td>Röyksopp</td>\n",
       "      <td>10</td>\n",
       "      <td>The Girl And The Robot</td>\n",
       "      <td>25</td>\n",
       "    </tr>\n",
       "  </tbody>\n",
       "</table>\n",
       "</div>"
      ],
      "text/plain": [
       "    user_id            time_stamp  artist_id artist_name  track_id  \\\n",
       "3         0  2009-05-03T14:46:29Z          0     Minus 8         3   \n",
       "8         0  2009-04-30T17:42:39Z          3       4Hero         6   \n",
       "16        0  2009-04-28T13:25:52Z          0     Minus 8         3   \n",
       "18        0  2009-04-27T12:29:01Z          4    Röyksopp        10   \n",
       "21        0  2009-04-27T12:24:32Z          4    Röyksopp        10   \n",
       "\n",
       "                 track_name  rating  \n",
       "3               Cold Fusion       9  \n",
       "8   Dedication To The Horse       1  \n",
       "16              Cold Fusion       9  \n",
       "18   The Girl And The Robot      25  \n",
       "21   The Girl And The Robot      25  "
      ]
     },
     "execution_count": 27,
     "metadata": {},
     "output_type": "execute_result"
    }
   ],
   "source": [
    "test_df.head()"
   ]
  },
  {
   "cell_type": "code",
   "execution_count": null,
   "id": "da22b037",
   "metadata": {},
   "outputs": [],
   "source": []
  }
 ],
 "metadata": {
  "kernelspec": {
   "display_name": "Python 3",
   "language": "python",
   "name": "python3"
  },
  "language_info": {
   "codemirror_mode": {
    "name": "ipython",
    "version": 3
   },
   "file_extension": ".py",
   "mimetype": "text/x-python",
   "name": "python",
   "nbconvert_exporter": "python",
   "pygments_lexer": "ipython3",
   "version": "3.9.7"
  }
 },
 "nbformat": 4,
 "nbformat_minor": 5
}
