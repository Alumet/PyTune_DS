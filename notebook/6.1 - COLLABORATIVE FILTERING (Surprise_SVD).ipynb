{
 "cells": [
  {
   "cell_type": "markdown",
   "id": "9ce1fd9d",
   "metadata": {},
   "source": [
    "### COLLABORATIVE FILTERING (Surprise SVD)\n",
    "\n",
    "Exploration du module Surprise modèle SVD"
   ]
  },
  {
   "cell_type": "markdown",
   "id": "5bdb7bec",
   "metadata": {},
   "source": [
    "### Imports "
   ]
  },
  {
   "cell_type": "code",
   "execution_count": 2,
   "id": "99a5c7a6",
   "metadata": {},
   "outputs": [],
   "source": [
    "import numpy as np\n",
    "import pandas as pd\n",
    "import matplotlib.pyplot as plt\n",
    "from tqdm import tqdm\n",
    "\n",
    "from surprise import Dataset\n",
    "from surprise import Reader\n",
    "\n",
    "from surprise import SVD\n",
    "\n",
    "from sklearn.metrics import roc_auc_score\n",
    "\n",
    "import itertools"
   ]
  },
  {
   "cell_type": "markdown",
   "id": "3e3bd7a4",
   "metadata": {},
   "source": [
    "## Data imports "
   ]
  },
  {
   "cell_type": "code",
   "execution_count": 3,
   "id": "d252a9c1",
   "metadata": {},
   "outputs": [
    {
     "name": "stderr",
     "output_type": "stream",
     "text": [
      "C:\\Users\\Alumet\\anaconda3\\lib\\site-packages\\numpy\\lib\\arraysetops.py:583: FutureWarning: elementwise comparison failed; returning scalar instead, but in the future will perform elementwise comparison\n",
      "  mask |= (ar1 == a)\n"
     ]
    }
   ],
   "source": [
    "df_train = pd.read_csv('filtered data/filtered_rating_fm_dataset_train.csv', index_col=0)"
   ]
  },
  {
   "cell_type": "code",
   "execution_count": 4,
   "id": "db93e424",
   "metadata": {},
   "outputs": [],
   "source": [
    "df_train = df_train.groupby(['user_id','track_id']).first().reset_index()"
   ]
  },
  {
   "cell_type": "code",
   "execution_count": 5,
   "id": "63aad712",
   "metadata": {},
   "outputs": [],
   "source": [
    "df_test = pd.read_csv('filtered data/filtered_rating_fm_dataset_test.csv', index_col=0)"
   ]
  },
  {
   "cell_type": "markdown",
   "id": "ae1d4a0e",
   "metadata": {},
   "source": [
    "## Data Preparation"
   ]
  },
  {
   "cell_type": "code",
   "execution_count": null,
   "id": "2e9502a8",
   "metadata": {},
   "outputs": [],
   "source": [
    "reader = Reader(rating_scale=(1, 101))\n",
    "data = Dataset.load_from_df(df_train[['user_id', 'track_id', 'rating']], reader)"
   ]
  },
  {
   "cell_type": "code",
   "execution_count": null,
   "id": "60bb75cd",
   "metadata": {},
   "outputs": [],
   "source": [
    "trainset = data.build_full_trainset()"
   ]
  },
  {
   "cell_type": "markdown",
   "id": "bea162bc",
   "metadata": {},
   "source": [
    "## Class Metrique"
   ]
  },
  {
   "cell_type": "code",
   "execution_count": 6,
   "id": "b95bd015",
   "metadata": {},
   "outputs": [],
   "source": [
    "class k_best():\n",
    "    def __init__(self, user_tracks, recomended_tracks):\n",
    "        self.user_tracks = user_tracks\n",
    "        self.recomended_tracks = recomended_tracks\n",
    "    \n",
    "    def CG(self):\n",
    "        \n",
    "        return len(set(self.recomended_tracks).intersection(set(self.user_tracks)))\n",
    "    \n",
    "    def DCG(self):\n",
    "        \n",
    "        result = 0\n",
    "        for i,id in enumerate(self.recomended_tracks):\n",
    "            \n",
    "            if id in self.user_tracks:\n",
    "                result+=1/np.log2(i+2)\n",
    "\n",
    "        return result\n",
    "    \n",
    "    def IDCG(self):\n",
    "        \n",
    "        a = self.CG()\n",
    "        result=0\n",
    "        \n",
    "        for i in range (a):\n",
    "            result+=1/np.log2(i+2)\n",
    "        \n",
    "        return result\n",
    "    \n",
    "    def NDCG(self):\n",
    "        if self.IDCG()!=0:\n",
    "            result = self.DCG()/self.IDCG()\n",
    "        else:\n",
    "            result=0\n",
    "            \n",
    "        return result\n",
    "    \n",
    "    def P_at_k(self):\n",
    "        \n",
    "        return self.CG()/len(self.recomended_tracks)\n",
    "\n",
    "    \n",
    "    def __str__(self):\n",
    "        \n",
    "        result = 'K_best ressults: \\n'\n",
    "        result+= f'CG = {self.CG()}\\n'\n",
    "        result+= f'DCG = {self.DCG()}\\n'\n",
    "        result+= f'NDCG = {self.NDCG()}\\n'\n",
    "        result+= f'P@K = {self.P_at_k()}\\n'\n",
    "        \n",
    "        return result"
   ]
  },
  {
   "cell_type": "code",
   "execution_count": 7,
   "id": "a0ab97ec",
   "metadata": {},
   "outputs": [],
   "source": [
    "def get_reco(model, df_train, user_id, n=50):\n",
    "    \n",
    "    scores=[]\n",
    "    track_ids=[]\n",
    "    user_ids=[]\n",
    "\n",
    "    for track_id in df_train['track_id'].unique():\n",
    "        score = model.predict(user, track_id, r_ui=1)[3]\n",
    "    \n",
    "        user_ids.append(user)\n",
    "        track_ids.append(track_id)\n",
    "        scores.append(score)\n",
    "    \n",
    "    recommendation = pd.DataFrame({'user_id':user_ids,'track_id':track_ids,'score':scores})\n",
    "    \n",
    "    if n>=0:\n",
    "        recommendation = recommendation.sort_values(by=['score'], ascending=False).iloc[:n]\n",
    "    \n",
    "    return recommendation\n",
    "    "
   ]
  },
  {
   "cell_type": "markdown",
   "id": "6a9bb6a2",
   "metadata": {},
   "source": [
    "## Modèle simple SVD"
   ]
  },
  {
   "cell_type": "code",
   "execution_count": 113,
   "id": "637d9549",
   "metadata": {},
   "outputs": [],
   "source": [
    "svd = SVD()\n",
    "svd = svd.fit(trainset)"
   ]
  },
  {
   "cell_type": "markdown",
   "id": "a1979ccd",
   "metadata": {},
   "source": [
    "### Test sur un utilisateur"
   ]
  },
  {
   "cell_type": "code",
   "execution_count": 51,
   "id": "33a4dbf3",
   "metadata": {},
   "outputs": [],
   "source": [
    "user = 1"
   ]
  },
  {
   "cell_type": "code",
   "execution_count": 52,
   "id": "3417abe7",
   "metadata": {},
   "outputs": [],
   "source": [
    "recommendation = get_reco(svd, df_train, user)\n",
    "recomended_tracks = [x for x in recommendation['track_id'].values]"
   ]
  },
  {
   "cell_type": "code",
   "execution_count": 53,
   "id": "fb978b1b",
   "metadata": {},
   "outputs": [],
   "source": [
    "user_tracks_train = set([x for x in df_train[df_train['user_id']==user]['track_id'].unique()])\n",
    "user_tracks_test = set([x for x in df_test[df_test['user_id']==user]['track_id'].unique()])"
   ]
  },
  {
   "cell_type": "markdown",
   "id": "b869c008",
   "metadata": {},
   "source": [
    "## K_best"
   ]
  },
  {
   "cell_type": "code",
   "execution_count": 54,
   "id": "2ecd0a1e",
   "metadata": {},
   "outputs": [
    {
     "name": "stdout",
     "output_type": "stream",
     "text": [
      "K_best ressults: \n",
      "CG = 15\n",
      "DCG = 5.016255088925719\n",
      "NDCG = 0.8558193594076898\n",
      "P@K = 0.3\n",
      "\n"
     ]
    }
   ],
   "source": [
    "k = k_best(user_tracks_train, recomended_tracks)\n",
    "print(k)"
   ]
  },
  {
   "cell_type": "code",
   "execution_count": 55,
   "id": "ec408ea0",
   "metadata": {},
   "outputs": [
    {
     "name": "stdout",
     "output_type": "stream",
     "text": [
      "K_best ressults: \n",
      "CG = 2\n",
      "DCG = 0.7640098914067264\n",
      "NDCG = 0.46845052016107697\n",
      "P@K = 0.04\n",
      "\n"
     ]
    }
   ],
   "source": [
    "k = k_best(user_tracks_test, recomended_tracks)\n",
    "print(k)"
   ]
  },
  {
   "cell_type": "markdown",
   "id": "a5ca679b",
   "metadata": {},
   "source": [
    "### AUC_ROC"
   ]
  },
  {
   "cell_type": "code",
   "execution_count": 69,
   "id": "8f56689b",
   "metadata": {},
   "outputs": [],
   "source": [
    "recommendation = get_reco(svd, df_train, user,-1)"
   ]
  },
  {
   "cell_type": "code",
   "execution_count": 70,
   "id": "cb5f4e40",
   "metadata": {},
   "outputs": [],
   "source": [
    "recommendation['train'] = recommendation['track_id'].apply(lambda x: 1 if x in user_tracks_train else 0)\n",
    "recommendation['test'] = recommendation['track_id'].apply(lambda x: 1 if x in user_tracks_test else 0)"
   ]
  },
  {
   "cell_type": "code",
   "execution_count": 96,
   "id": "bc532f3a",
   "metadata": {},
   "outputs": [],
   "source": [
    "y_pred = [1 if x>50 else 0 for x in recommendation['score']]"
   ]
  },
  {
   "cell_type": "code",
   "execution_count": 97,
   "id": "ed58a4dc",
   "metadata": {},
   "outputs": [
    {
     "name": "stdout",
     "output_type": "stream",
     "text": [
      "Train_AUC_ROC =  0.5047375432342011\n",
      "Test_AUC_ROC =  0.5025327844471983\n"
     ]
    }
   ],
   "source": [
    "roc_train = roc_auc_score(recommendation['train'],y_pred)\n",
    "roc_test = roc_auc_score(recommendation['test'],y_pred)\n",
    "\n",
    "print('Train_AUC_ROC = ', roc_train)\n",
    "print('Test_AUC_ROC = ', roc_test)"
   ]
  },
  {
   "cell_type": "markdown",
   "id": "833848e4",
   "metadata": {},
   "source": [
    "## Grid serch (optimisation des paramètres)"
   ]
  },
  {
   "cell_type": "code",
   "execution_count": 24,
   "id": "eb09f225",
   "metadata": {},
   "outputs": [
    {
     "name": "stdout",
     "output_type": "stream",
     "text": [
      "9.096555799617077\n",
      "{'n_epochs': 30, 'n_factors': 150}\n"
     ]
    }
   ],
   "source": [
    "from surprise.model_selection import GridSearchCV\n",
    "\n",
    "param_grid = {'n_epochs': [10,20,30],\n",
    "              'n_factors': [50,100,150]}\n",
    "\n",
    "gs = GridSearchCV(SVD, param_grid, measures=['rmse'], cv=3, n_jobs=3, refit=True)\n",
    "\n",
    "gs.fit(data)\n",
    "\n",
    "# best RMSE score\n",
    "print(gs.best_score['rmse'])\n",
    "\n",
    "# combination of parameters that gave the best RMSE score\n",
    "print(gs.best_params['rmse'])"
   ]
  },
  {
   "cell_type": "code",
   "execution_count": 25,
   "id": "538dae6e",
   "metadata": {},
   "outputs": [
    {
     "name": "stdout",
     "output_type": "stream",
     "text": [
      "9.837754845049126 {'n_epochs': 10, 'n_factors': 50}\n",
      "9.32386556333249 {'n_epochs': 10, 'n_factors': 100}\n",
      "9.11776572514284 {'n_epochs': 10, 'n_factors': 150}\n",
      "10.034276419663408 {'n_epochs': 20, 'n_factors': 50}\n",
      "9.316282703191417 {'n_epochs': 20, 'n_factors': 100}\n",
      "9.10185345341999 {'n_epochs': 20, 'n_factors': 150}\n",
      "10.126120091690014 {'n_epochs': 30, 'n_factors': 50}\n",
      "9.322619304961968 {'n_epochs': 30, 'n_factors': 100}\n",
      "9.096555799617077 {'n_epochs': 30, 'n_factors': 150}\n"
     ]
    }
   ],
   "source": [
    "a = gs.cv_results['mean_test_rmse']\n",
    "b = gs.cv_results['params']\n",
    "\n",
    "for score, param in zip(a,b):\n",
    "    print(score,param )"
   ]
  },
  {
   "cell_type": "markdown",
   "id": "bf347c03",
   "metadata": {},
   "source": [
    "## Entrainement du meilleur model"
   ]
  },
  {
   "cell_type": "code",
   "execution_count": 26,
   "id": "7bb33c8c",
   "metadata": {},
   "outputs": [],
   "source": [
    "svd = SVD(n_factors=150, n_epochs=30)\n",
    "svd = svd.fit(trainset)"
   ]
  },
  {
   "cell_type": "markdown",
   "id": "e123c405",
   "metadata": {},
   "source": [
    "## Evaluation sur tous les utilisateurs"
   ]
  },
  {
   "cell_type": "markdown",
   "id": "45d9ad79",
   "metadata": {},
   "source": [
    "### K_best"
   ]
  },
  {
   "cell_type": "code",
   "execution_count": 16,
   "id": "19f31961",
   "metadata": {},
   "outputs": [
    {
     "name": "stderr",
     "output_type": "stream",
     "text": [
      "100%|████████████████████████████████████████████████████████████████████████████████| 959/959 [10:08<00:00,  1.58it/s]\n"
     ]
    }
   ],
   "source": [
    "train_scores = list()\n",
    "test_scores = list()\n",
    "user_id = list()\n",
    "\n",
    "for user in tqdm(df_train['user_id'].unique()):\n",
    "    user_tracks_train = set([x for x in df_train[df_train['user_id']==user]['track_id'].unique()])\n",
    "    user_tracks_test = set([x for x in df_test[df_test['user_id']==user]['track_id'].unique()])\n",
    "    \n",
    "    recommendation = get_reco(svd, df_train, user,-1)\n",
    "    recomended_tracks = [x for x in recommendation['track_id'].values]\n",
    "    \n",
    "    k = k_best(user_tracks_train, recomended_tracks)\n",
    "    train_scores.append(k.NDCG())\n",
    "    \n",
    "    if len(user_tracks_test)!=0:\n",
    "        k = k_best(user_tracks_test, recomended_tracks)\n",
    "        test_scores.append(k.NDCG())\n",
    "        \n",
    "    else:\n",
    "        test_scores.append(0)\n",
    "    \n",
    "    user_id.append(user)"
   ]
  },
  {
   "cell_type": "code",
   "execution_count": 17,
   "id": "f6c86870",
   "metadata": {},
   "outputs": [
    {
     "name": "stdout",
     "output_type": "stream",
     "text": [
      "Train_mean_NDCG =  0.9464651953669875\n",
      "Test_mean_NDCG =  0.13541589533096676\n"
     ]
    }
   ],
   "source": [
    "# best n_fact=150, it=30\n",
    "print('Train_mean_NDCG = ', np.array(train_scores).mean())\n",
    "print('Test_mean_NDCG = ', np.array(test_scores).mean())"
   ]
  },
  {
   "cell_type": "markdown",
   "id": "a1f363fa",
   "metadata": {},
   "source": [
    "### AUC_ROC"
   ]
  },
  {
   "cell_type": "code",
   "execution_count": 19,
   "id": "0abb1a90",
   "metadata": {},
   "outputs": [
    {
     "name": "stderr",
     "output_type": "stream",
     "text": [
      "100%|████████████████████████████████████████████████████████████████████████████████| 959/959 [19:52<00:00,  1.24s/it]\n"
     ]
    }
   ],
   "source": [
    "scores = dict()\n",
    "\n",
    "for s in np.linspace(0,100,10):\n",
    "    scores[s]={'train':[], 'test':[]}\n",
    "\n",
    "\n",
    "for user in tqdm(df_train['user_id'].unique()):\n",
    "    \n",
    "    user_tracks_train = set([x for x in df_train[df_train['user_id']==user]['track_id'].unique()])\n",
    "    user_tracks_test = set([x for x in df_test[df_test['user_id']==user]['track_id'].unique()])\n",
    "    \n",
    "    recomended_tracks = get_reco(svd, df_train, user,-1)\n",
    "    \n",
    "    recomended_tracks['true_train'] = recomended_tracks['track_id'].apply(lambda x: 1 if x in user_tracks_train else 0)\n",
    "    recomended_tracks['true_test'] = recomended_tracks['track_id'].apply(lambda x: 1 if x in user_tracks_test else 0)\n",
    "    \n",
    "    for s in np.linspace(0,100,10):\n",
    "    \n",
    "        recomended_tracks['pred'] = recomended_tracks['score'].apply(lambda x : 1 if x>s else 0)\n",
    "        y_pred = recomended_tracks['pred'].values\n",
    "\n",
    "        y_true_train = recomended_tracks['true_train'].values\n",
    "        score = roc_auc_score(y_true_train, y_pred)  \n",
    "        scores[s]['train'].append(score)\n",
    "\n",
    "        y_true_test = recomended_tracks['true_test'].values\n",
    "        score = roc_auc_score(y_true_test, y_pred)\n",
    "        scores[s]['test'].append(score)"
   ]
  },
  {
   "cell_type": "code",
   "execution_count": 20,
   "id": "87b43444",
   "metadata": {},
   "outputs": [
    {
     "data": {
      "image/png": "[encoded data removed]",
      "text/plain": [
       "<Figure size 1152x648 with 1 Axes>"
      ]
     },
     "metadata": {
      "needs_background": "light"
     },
     "output_type": "display_data"
    }
   ],
   "source": [
    "train_score = list()\n",
    "test_score = list()\n",
    "seuil = list()\n",
    "\n",
    "for key in scores.keys():\n",
    "    train_score.append(np.array(scores[key]['train']).mean())\n",
    "    test_score.append(np.array(scores[key]['test']).mean())\n",
    "    seuil.append(key)\n",
    "\n",
    "\n",
    "plt.figure(figsize=(16,9))\n",
    "plt.plot(seuil, train_score, label='Train')\n",
    "plt.plot(seuil, test_score, label='Test')\n",
    "plt.legend()\n",
    "\n",
    "plt.title('AUC_ROC score en fonciton du seuil')\n",
    "plt.xlabel('Seuil')\n",
    "plt.ylabel('AUC_ROC Score')\n",
    "plt.show\n",
    "\n",
    "plt.savefig(\"AUC_ROC score en fonction du seuil, SVD_Surprise\", dpi=300, pad_inches=0.1,bbox_inches='tight')"
   ]
  },
  {
   "cell_type": "code",
   "execution_count": 23,
   "id": "bd2e3714",
   "metadata": {},
   "outputs": [
    {
     "name": "stdout",
     "output_type": "stream",
     "text": [
      "Train_best_AUC_ROC =  0.542\n",
      "Test_best_AUC_ROC =  0.532\n",
      "Seuil_best =  11.111\n"
     ]
    }
   ],
   "source": [
    "i = np.array(train_score).argmax()\n",
    "\n",
    "print('Train_best_AUC_ROC = ', round(train_score[i],3))\n",
    "print('Test_best_AUC_ROC = ', round(test_score[i],3))\n",
    "print('Seuil_best = ', round(seuil[i],3))"
   ]
  },
  {
   "cell_type": "code",
   "execution_count": null,
   "id": "202d3e1b",
   "metadata": {},
   "outputs": [],
   "source": []
  }
 ],
 "metadata": {
  "kernelspec": {
   "display_name": "Python 3",
   "language": "python",
   "name": "python3"
  },
  "language_info": {
   "codemirror_mode": {
    "name": "ipython",
    "version": 3
   },
   "file_extension": ".py",
   "mimetype": "text/x-python",
   "name": "python",
   "nbconvert_exporter": "python",
   "pygments_lexer": "ipython3",
   "version": "3.9.7"
  }
 },
 "nbformat": 4,
 "nbformat_minor": 5
}
