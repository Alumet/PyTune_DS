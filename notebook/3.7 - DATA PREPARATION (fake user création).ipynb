{
 "cells": [
  {
   "cell_type": "markdown",
   "id": "1bfc4b9b",
   "metadata": {},
   "source": [
    "# DATA PREPARATION (Fake user creation)\n",
    "\n",
    "Création de faux utilissateurs pour tester nos models\n",
    "\n",
    "*USER :*\n",
    "- User_1001 JAZZ -->last_fm_fake_user(1001)_jazz.csv\n",
    "- User_1002 CLASSIC -->last_fm_fake_user(1002)_classic.csv\n",
    "- User_1003 POP -->last_fm_fake_user(1003)_pop.csv\n",
    "- User_1004 ROCK -->last_fm_fake_user(1004)_rock.csv\n",
    "- User_1005 RAP -->last_fm_fake_user(1005)_rap.csv"
   ]
  },
  {
   "cell_type": "markdown",
   "id": "6b2ff495",
   "metadata": {},
   "source": [
    "## Imports"
   ]
  },
  {
   "cell_type": "code",
   "execution_count": 5,
   "id": "0cd1a69a",
   "metadata": {},
   "outputs": [],
   "source": [
    "import pandas as pd\n",
    "\n",
    "import ipywidgets as widgets\n",
    "import datetime as dt"
   ]
  },
  {
   "cell_type": "markdown",
   "id": "cf48c64a",
   "metadata": {},
   "source": [
    "## Data import "
   ]
  },
  {
   "cell_type": "code",
   "execution_count": 3,
   "id": "b2d41f12",
   "metadata": {},
   "outputs": [
    {
     "name": "stderr",
     "output_type": "stream",
     "text": [
      "C:\\Users\\Alumet\\anaconda3\\lib\\site-packages\\numpy\\lib\\arraysetops.py:583: FutureWarning: elementwise comparison failed; returning scalar instead, but in the future will perform elementwise comparison\n",
      "  mask |= (ar1 == a)\n"
     ]
    }
   ],
   "source": [
    "df = pd.read_csv('filtered data/filtered_fm_dataset.csv', index_col=0)"
   ]
  },
  {
   "cell_type": "code",
   "execution_count": 4,
   "id": "0460bb46",
   "metadata": {},
   "outputs": [
    {
     "data": {
      "text/html": [
       "<div>\n",
       "<style scoped>\n",
       "    .dataframe tbody tr th:only-of-type {\n",
       "        vertical-align: middle;\n",
       "    }\n",
       "\n",
       "    .dataframe tbody tr th {\n",
       "        vertical-align: top;\n",
       "    }\n",
       "\n",
       "    .dataframe thead th {\n",
       "        text-align: right;\n",
       "    }\n",
       "</style>\n",
       "<table border=\"1\" class=\"dataframe\">\n",
       "  <thead>\n",
       "    <tr style=\"text-align: right;\">\n",
       "      <th></th>\n",
       "      <th>user_id</th>\n",
       "      <th>time_stamp</th>\n",
       "      <th>artist_id</th>\n",
       "      <th>artist_name</th>\n",
       "      <th>track_id</th>\n",
       "      <th>track_name</th>\n",
       "    </tr>\n",
       "  </thead>\n",
       "  <tbody>\n",
       "    <tr>\n",
       "      <th>17</th>\n",
       "      <td>1</td>\n",
       "      <td>2009-05-03T15:10:18Z</td>\n",
       "      <td>4</td>\n",
       "      <td>Minus 8</td>\n",
       "      <td>0</td>\n",
       "      <td>Elysian Fields</td>\n",
       "    </tr>\n",
       "    <tr>\n",
       "      <th>18</th>\n",
       "      <td>1</td>\n",
       "      <td>2009-05-03T15:04:31Z</td>\n",
       "      <td>5</td>\n",
       "      <td>Beanfield</td>\n",
       "      <td>1</td>\n",
       "      <td>Planetary Deadlock</td>\n",
       "    </tr>\n",
       "    <tr>\n",
       "      <th>20</th>\n",
       "      <td>1</td>\n",
       "      <td>2009-05-03T14:50:51Z</td>\n",
       "      <td>7</td>\n",
       "      <td>Alif Tree</td>\n",
       "      <td>2</td>\n",
       "      <td>Deadly Species</td>\n",
       "    </tr>\n",
       "    <tr>\n",
       "      <th>21</th>\n",
       "      <td>1</td>\n",
       "      <td>2009-05-03T14:46:29Z</td>\n",
       "      <td>4</td>\n",
       "      <td>Minus 8</td>\n",
       "      <td>3</td>\n",
       "      <td>Cold Fusion</td>\n",
       "    </tr>\n",
       "    <tr>\n",
       "      <th>43</th>\n",
       "      <td>1</td>\n",
       "      <td>2009-05-02T15:00:59Z</td>\n",
       "      <td>14</td>\n",
       "      <td>4Hero</td>\n",
       "      <td>4</td>\n",
       "      <td>Look Inside</td>\n",
       "    </tr>\n",
       "  </tbody>\n",
       "</table>\n",
       "</div>"
      ],
      "text/plain": [
       "    user_id            time_stamp  artist_id artist_name  track_id  \\\n",
       "17        1  2009-05-03T15:10:18Z          4     Minus 8         0   \n",
       "18        1  2009-05-03T15:04:31Z          5   Beanfield         1   \n",
       "20        1  2009-05-03T14:50:51Z          7   Alif Tree         2   \n",
       "21        1  2009-05-03T14:46:29Z          4     Minus 8         3   \n",
       "43        1  2009-05-02T15:00:59Z         14       4Hero         4   \n",
       "\n",
       "            track_name  \n",
       "17      Elysian Fields  \n",
       "18  Planetary Deadlock  \n",
       "20      Deadly Species  \n",
       "21         Cold Fusion  \n",
       "43         Look Inside  "
      ]
     },
     "execution_count": 4,
     "metadata": {},
     "output_type": "execute_result"
    }
   ],
   "source": [
    "df.head()"
   ]
  },
  {
   "cell_type": "markdown",
   "id": "af3c042c",
   "metadata": {},
   "source": [
    "## Widget de creation d'utilisateur"
   ]
  },
  {
   "cell_type": "code",
   "execution_count": 6,
   "id": "f6c2e787",
   "metadata": {},
   "outputs": [],
   "source": [
    "class play_list_creator():\n",
    "    \n",
    "    def __init__(self, df):\n",
    "        \n",
    "        \n",
    "        self.df_sub = df.groupby(['track_id']).first().reset_index()[['track_id','artist_id','artist_name','track_name']]\n",
    "        \n",
    "        self._reset_result() # initialisation du DataFrame de resultat\n",
    "        \n",
    "        self._creat_artist_widjet() # widget de selection d'artiste\n",
    "        self._creat_track_widjet() # widget de selection de titre\n",
    "        self._creat_button_widjet() # bouton d'ajout\n",
    "        \n",
    "        self.display()\n",
    "    \n",
    "    # Reset des resultats\n",
    "    def _reset_result(self):\n",
    "        \n",
    "        self.result=pd.DataFrame({'time_stamp':[] ,'track_id':[], 'artist_id':[], 'artist_name':[], 'track_name':[]})\n",
    "        \n",
    "        self.result['track_id'] = self.result['track_id'].astype('int')\n",
    "        self.result['artist_id'] = self.result['artist_id'].astype('int')\n",
    "    \n",
    "    # Widget de selection d'artiste. liste dropdown avec autocompletion\n",
    "    def _creat_artist_widjet(self):\n",
    "        \n",
    "        options = [x for x in self.df_sub['artist_name'].unique()]\n",
    "        self.artist_w = widgets.Combobox(\n",
    "                        laceholder='Choose an artist',\n",
    "                        options= options,\n",
    "                        description='Artist:',\n",
    "                        ensure_option=True,\n",
    "                        disabled=False\n",
    "                        )\n",
    "        \n",
    "        self.artist_w.observe(self._on_artist_change)\n",
    "    \n",
    "    # Widget de selection de titre. liste dropdown avec autocompletion\n",
    "    def _creat_track_widjet(self):\n",
    "\n",
    "        self.track_w = widgets.Combobox(\n",
    "                       placeholder='Choose a track',\n",
    "                       options= [],\n",
    "                       description='Track:',\n",
    "                       ensure_option=True,\n",
    "                       disabled=False\n",
    "                       )\n",
    "    \n",
    "    # Quand un artiste change on change la liste des titres par ceux qui lui sont associés\n",
    "    def _on_artist_change(self, change):\n",
    "        if change['type'] == 'change' and change['name'] == 'value':\n",
    "            self.track_w.options=[x for x in self.df_sub[self.df_sub['artist_name']==self.artist_w.value]['track_name'].unique()]\n",
    "            self.track_w.value=''\n",
    "    \n",
    "    # Widget Bouton d'ajout de la selection aux resultats\n",
    "    def _creat_button_widjet(self):\n",
    "        \n",
    "        self.button = widgets.Button(description=\"Add to list!\")\n",
    "        self.button.on_click(self._on_button_clicked)\n",
    "    \n",
    "    # Quand le bouton est cliqué on ajoute la selection aux resultats\n",
    "    def _on_button_clicked(self, change):\n",
    "        \n",
    "        temp = self.df_sub[(self.df_sub['artist_name']==self.artist_w.value) & (self.df_sub['track_name']==self.track_w.value)].copy()\n",
    "        \n",
    "        time = dt.datetime.now().strftime(\"%Y-%m-%dT%H:%M:%SZ\")\n",
    "        temp['time_stamp']=[time]\n",
    "        \n",
    "        if temp['track_id'].values[0] not in self.result['track_id'].unique(): # pas de doublons\n",
    "            self.result = pd.concat([self.result,temp])\n",
    "\n",
    "    # Afficher le widget\n",
    "    def display(self):\n",
    "        display(self.artist_w)\n",
    "        display(self.track_w)\n",
    "        display(self.button)\n",
    "        "
   ]
  },
  {
   "cell_type": "markdown",
   "id": "135e9b02",
   "metadata": {},
   "source": [
    "# Playlist Creator"
   ]
  },
  {
   "cell_type": "code",
   "execution_count": 7,
   "id": "0483f89d",
   "metadata": {
    "scrolled": true
   },
   "outputs": [
    {
     "data": {
      "application/vnd.jupyter.widget-view+json": {
       "model_id": "479aa8862e2b4975862881d5fdd53ee3",
       "version_major": 2,
       "version_minor": 0
      },
      "text/plain": [
       "Combobox(value='', description='Artist:', ensure_option=True, options=('Minus 8', 'Beanfield', 'Alif Tree', '4…"
      ]
     },
     "metadata": {},
     "output_type": "display_data"
    },
    {
     "data": {
      "application/vnd.jupyter.widget-view+json": {
       "model_id": "e3a5e91375d545b0b5ca568df3f337a8",
       "version_major": 2,
       "version_minor": 0
      },
      "text/plain": [
       "Combobox(value='', description='Track:', ensure_option=True, placeholder='Choose a track')"
      ]
     },
     "metadata": {},
     "output_type": "display_data"
    },
    {
     "data": {
      "application/vnd.jupyter.widget-view+json": {
       "model_id": "eae73edf5bea4c179cc7dd353d16cca8",
       "version_major": 2,
       "version_minor": 0
      },
      "text/plain": [
       "Button(description='Add to list!', style=ButtonStyle())"
      ]
     },
     "metadata": {},
     "output_type": "display_data"
    }
   ],
   "source": [
    "PC = play_list_creator(df)"
   ]
  },
  {
   "cell_type": "code",
   "execution_count": 9,
   "id": "39825401",
   "metadata": {},
   "outputs": [
    {
     "data": {
      "text/html": [
       "<div>\n",
       "<style scoped>\n",
       "    .dataframe tbody tr th:only-of-type {\n",
       "        vertical-align: middle;\n",
       "    }\n",
       "\n",
       "    .dataframe tbody tr th {\n",
       "        vertical-align: top;\n",
       "    }\n",
       "\n",
       "    .dataframe thead th {\n",
       "        text-align: right;\n",
       "    }\n",
       "</style>\n",
       "<table border=\"1\" class=\"dataframe\">\n",
       "  <thead>\n",
       "    <tr style=\"text-align: right;\">\n",
       "      <th></th>\n",
       "      <th>time_stamp</th>\n",
       "      <th>track_id</th>\n",
       "      <th>artist_id</th>\n",
       "      <th>artist_name</th>\n",
       "      <th>track_name</th>\n",
       "    </tr>\n",
       "  </thead>\n",
       "  <tbody>\n",
       "    <tr>\n",
       "      <th>4848</th>\n",
       "      <td>2022-04-18T10:25:08Z</td>\n",
       "      <td>4848</td>\n",
       "      <td>1564</td>\n",
       "      <td>Nirvana</td>\n",
       "      <td>Smells Like Teen Spirit</td>\n",
       "    </tr>\n",
       "    <tr>\n",
       "      <th>11536</th>\n",
       "      <td>2022-04-18T10:25:24Z</td>\n",
       "      <td>11536</td>\n",
       "      <td>1982</td>\n",
       "      <td>Nirvana</td>\n",
       "      <td>Love Buzz</td>\n",
       "    </tr>\n",
       "    <tr>\n",
       "      <th>9968</th>\n",
       "      <td>2022-04-18T10:25:29Z</td>\n",
       "      <td>9968</td>\n",
       "      <td>1982</td>\n",
       "      <td>Nirvana</td>\n",
       "      <td>Come As You Are</td>\n",
       "    </tr>\n",
       "    <tr>\n",
       "      <th>6440</th>\n",
       "      <td>2022-04-18T10:25:42Z</td>\n",
       "      <td>6440</td>\n",
       "      <td>1731</td>\n",
       "      <td>Ac/Dc</td>\n",
       "      <td>Big Balls</td>\n",
       "    </tr>\n",
       "    <tr>\n",
       "      <th>20563</th>\n",
       "      <td>2022-04-18T10:25:48Z</td>\n",
       "      <td>20563</td>\n",
       "      <td>1731</td>\n",
       "      <td>Ac/Dc</td>\n",
       "      <td>Stormy May Day</td>\n",
       "    </tr>\n",
       "    <tr>\n",
       "      <th>20831</th>\n",
       "      <td>2022-04-18T10:25:52Z</td>\n",
       "      <td>20831</td>\n",
       "      <td>1731</td>\n",
       "      <td>Ac/Dc</td>\n",
       "      <td>Let There Be Rock</td>\n",
       "    </tr>\n",
       "    <tr>\n",
       "      <th>22093</th>\n",
       "      <td>2022-04-18T10:25:58Z</td>\n",
       "      <td>22093</td>\n",
       "      <td>4727</td>\n",
       "      <td>Janis Joplin</td>\n",
       "      <td>Piece Of My Heart</td>\n",
       "    </tr>\n",
       "    <tr>\n",
       "      <th>62149</th>\n",
       "      <td>2022-04-18T10:26:02Z</td>\n",
       "      <td>62149</td>\n",
       "      <td>4727</td>\n",
       "      <td>Janis Joplin</td>\n",
       "      <td>Half Moon</td>\n",
       "    </tr>\n",
       "  </tbody>\n",
       "</table>\n",
       "</div>"
      ],
      "text/plain": [
       "                 time_stamp  track_id  artist_id   artist_name  \\\n",
       "4848   2022-04-18T10:25:08Z      4848       1564       Nirvana   \n",
       "11536  2022-04-18T10:25:24Z     11536       1982       Nirvana   \n",
       "9968   2022-04-18T10:25:29Z      9968       1982       Nirvana   \n",
       "6440   2022-04-18T10:25:42Z      6440       1731         Ac/Dc   \n",
       "20563  2022-04-18T10:25:48Z     20563       1731         Ac/Dc   \n",
       "20831  2022-04-18T10:25:52Z     20831       1731         Ac/Dc   \n",
       "22093  2022-04-18T10:25:58Z     22093       4727  Janis Joplin   \n",
       "62149  2022-04-18T10:26:02Z     62149       4727  Janis Joplin   \n",
       "\n",
       "                    track_name  \n",
       "4848   Smells Like Teen Spirit  \n",
       "11536                Love Buzz  \n",
       "9968           Come As You Are  \n",
       "6440                 Big Balls  \n",
       "20563           Stormy May Day  \n",
       "20831        Let There Be Rock  \n",
       "22093        Piece Of My Heart  \n",
       "62149                Half Moon  "
      ]
     },
     "execution_count": 9,
     "metadata": {},
     "output_type": "execute_result"
    }
   ],
   "source": [
    "PC.result"
   ]
  },
  {
   "cell_type": "code",
   "execution_count": 9,
   "id": "ad9341fd",
   "metadata": {},
   "outputs": [],
   "source": [
    "#PC._reset_result()"
   ]
  },
  {
   "cell_type": "markdown",
   "id": "da440da5",
   "metadata": {},
   "source": [
    "## Sauvegarde"
   ]
  },
  {
   "cell_type": "code",
   "execution_count": 10,
   "id": "562ae75e",
   "metadata": {},
   "outputs": [],
   "source": [
    "df_rock = PC.result.copy()"
   ]
  },
  {
   "cell_type": "code",
   "execution_count": 11,
   "id": "b051418a",
   "metadata": {},
   "outputs": [],
   "source": [
    "df_rock.reset_index(inplace=True)\n",
    "df_rock.rename(columns={'index':'user_id'}, inplace=True)\n",
    "df_rock['user_id']=1004"
   ]
  },
  {
   "cell_type": "code",
   "execution_count": 13,
   "id": "9d3976e7",
   "metadata": {},
   "outputs": [],
   "source": [
    "df_rock.to_csv('filtered data/fake_user/last_fm_fake_user(1004)_rock.csv')"
   ]
  }
 ],
 "metadata": {
  "kernelspec": {
   "display_name": "Python 3 (ipykernel)",
   "language": "python",
   "name": "python3"
  },
  "language_info": {
   "codemirror_mode": {
    "name": "ipython",
    "version": 3
   },
   "file_extension": ".py",
   "mimetype": "text/x-python",
   "name": "python",
   "nbconvert_exporter": "python",
   "pygments_lexer": "ipython3",
   "version": "3.9.7"
  }
 },
 "nbformat": 4,
 "nbformat_minor": 5
}
