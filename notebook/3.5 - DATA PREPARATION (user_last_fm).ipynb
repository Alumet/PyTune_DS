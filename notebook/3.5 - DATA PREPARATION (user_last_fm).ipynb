{
 "cells": [
  {
   "cell_type": "markdown",
   "id": "05510ba3",
   "metadata": {},
   "source": [
    "# DATA PREPARATION (user)\n",
    "\n",
    "FICHIER: *'userid-profile.tsv'*"
   ]
  },
  {
   "cell_type": "markdown",
   "id": "978ac2fe",
   "metadata": {},
   "source": [
    "## Imports"
   ]
  },
  {
   "cell_type": "code",
   "execution_count": 1,
   "id": "cb42c6c9",
   "metadata": {},
   "outputs": [],
   "source": [
    "import pandas as pd\n",
    "import numpy as np"
   ]
  },
  {
   "cell_type": "markdown",
   "id": "bf5d5efa",
   "metadata": {},
   "source": [
    "## Data import"
   ]
  },
  {
   "cell_type": "code",
   "execution_count": 2,
   "id": "fb280b2c",
   "metadata": {},
   "outputs": [
    {
     "name": "stderr",
     "output_type": "stream",
     "text": [
      "C:\\Users\\Alumet\\anaconda3\\lib\\site-packages\\IPython\\core\\interactiveshell.py:3444: FutureWarning: The error_bad_lines argument has been deprecated and will be removed in a future version.\n",
      "\n",
      "\n",
      "  exec(code_obj, self.user_global_ns, self.user_ns)\n"
     ]
    }
   ],
   "source": [
    "file = 'raw data/lastfm-dataset-1K/userid-profile.tsv'\n",
    "\n",
    "df =  pd.read_csv(file, sep='\\t',error_bad_lines=False, header = None)"
   ]
  },
  {
   "cell_type": "code",
   "execution_count": 3,
   "id": "059124bc",
   "metadata": {},
   "outputs": [],
   "source": [
    "# On renome les colonnes\n",
    "df.rename(columns={0:'user_id', 1:'gender', 2:'age', 3:'country', 4:'registered'}, inplace=True)\n",
    "df = df.iloc[1:]"
   ]
  },
  {
   "cell_type": "code",
   "execution_count": 4,
   "id": "79086695",
   "metadata": {},
   "outputs": [
    {
     "data": {
      "text/html": [
       "<div>\n",
       "<style scoped>\n",
       "    .dataframe tbody tr th:only-of-type {\n",
       "        vertical-align: middle;\n",
       "    }\n",
       "\n",
       "    .dataframe tbody tr th {\n",
       "        vertical-align: top;\n",
       "    }\n",
       "\n",
       "    .dataframe thead th {\n",
       "        text-align: right;\n",
       "    }\n",
       "</style>\n",
       "<table border=\"1\" class=\"dataframe\">\n",
       "  <thead>\n",
       "    <tr style=\"text-align: right;\">\n",
       "      <th></th>\n",
       "      <th>user_id</th>\n",
       "      <th>gender</th>\n",
       "      <th>age</th>\n",
       "      <th>country</th>\n",
       "      <th>registered</th>\n",
       "    </tr>\n",
       "  </thead>\n",
       "  <tbody>\n",
       "    <tr>\n",
       "      <th>1</th>\n",
       "      <td>user_000001</td>\n",
       "      <td>m</td>\n",
       "      <td>NaN</td>\n",
       "      <td>Japan</td>\n",
       "      <td>Aug 13, 2006</td>\n",
       "    </tr>\n",
       "    <tr>\n",
       "      <th>2</th>\n",
       "      <td>user_000002</td>\n",
       "      <td>f</td>\n",
       "      <td>NaN</td>\n",
       "      <td>Peru</td>\n",
       "      <td>Feb 24, 2006</td>\n",
       "    </tr>\n",
       "    <tr>\n",
       "      <th>3</th>\n",
       "      <td>user_000003</td>\n",
       "      <td>m</td>\n",
       "      <td>22</td>\n",
       "      <td>United States</td>\n",
       "      <td>Oct 30, 2005</td>\n",
       "    </tr>\n",
       "    <tr>\n",
       "      <th>4</th>\n",
       "      <td>user_000004</td>\n",
       "      <td>f</td>\n",
       "      <td>NaN</td>\n",
       "      <td>NaN</td>\n",
       "      <td>Apr 26, 2006</td>\n",
       "    </tr>\n",
       "    <tr>\n",
       "      <th>5</th>\n",
       "      <td>user_000005</td>\n",
       "      <td>m</td>\n",
       "      <td>NaN</td>\n",
       "      <td>Bulgaria</td>\n",
       "      <td>Jun 29, 2006</td>\n",
       "    </tr>\n",
       "  </tbody>\n",
       "</table>\n",
       "</div>"
      ],
      "text/plain": [
       "       user_id gender  age        country    registered\n",
       "1  user_000001      m  NaN          Japan  Aug 13, 2006\n",
       "2  user_000002      f  NaN           Peru  Feb 24, 2006\n",
       "3  user_000003      m   22  United States  Oct 30, 2005\n",
       "4  user_000004      f  NaN            NaN  Apr 26, 2006\n",
       "5  user_000005      m  NaN       Bulgaria  Jun 29, 2006"
      ]
     },
     "execution_count": 4,
     "metadata": {},
     "output_type": "execute_result"
    }
   ],
   "source": [
    "df.head()"
   ]
  },
  {
   "cell_type": "code",
   "execution_count": 5,
   "id": "8ca229de",
   "metadata": {},
   "outputs": [],
   "source": [
    "# On ne garde que la partie numérique des user_id\n",
    "df['user_id'] = df['user_id'].apply(lambda x: int(x[5:]))"
   ]
  },
  {
   "cell_type": "code",
   "execution_count": 6,
   "id": "faa0f2d9",
   "metadata": {},
   "outputs": [
    {
     "data": {
      "text/plain": [
       "user_id         0\n",
       "gender        108\n",
       "age           706\n",
       "country        85\n",
       "registered      8\n",
       "dtype: int64"
      ]
     },
     "execution_count": 6,
     "metadata": {},
     "output_type": "execute_result"
    }
   ],
   "source": [
    "# On regarde l'état des données manquantes\n",
    "df.isna().sum()"
   ]
  },
  {
   "cell_type": "markdown",
   "id": "a4302864",
   "metadata": {},
   "source": [
    "### Regroupemant des pays par régions"
   ]
  },
  {
   "cell_type": "code",
   "execution_count": 7,
   "id": "88c43576",
   "metadata": {},
   "outputs": [
    {
     "data": {
      "text/plain": [
       "66"
      ]
     },
     "execution_count": 7,
     "metadata": {},
     "output_type": "execute_result"
    }
   ],
   "source": [
    "df['country'].nunique()"
   ]
  },
  {
   "cell_type": "code",
   "execution_count": 8,
   "id": "3c349655",
   "metadata": {},
   "outputs": [],
   "source": [
    "d = {'Europe': ['Bulgaria', 'Slovakia', 'Poland', 'Poland', 'Finland', 'Romania', 'United Kingdom', 'Germany', 'Sweden', 'Italy',\n",
    "               'Greece','Croatia', 'Serbia', 'Netherlands','Norway', 'Latvia', 'Spain', 'Estonia', 'Czech Republic', 'Portugal', \n",
    "                'Switzerland', 'Ireland', 'Belgium', 'France', 'Hungary','Macedonia', 'Slovenia', 'Malta', 'Austria', 'Lithuania',\n",
    "                'Iceland', 'Northern Mariana Islands', 'Bosnia and Herzegovina'],\n",
    "     'Asia': ['Japan', \"Korea, Democratic People's Republic of\", 'Thailand','Singapore', 'China', 'India', ],\n",
    "     'South America': ['Peru', 'Mexico','Brazil','Chile', 'Venezuela', 'Trinidad and Tobago', 'Nicaragua', 'Argentina',\n",
    "                       'Netherlands Antilles', 'Colombia'],\n",
    "     'North America': ['United States', 'Canada', 'United States Minor Outlying Islands', 'Antarctica', ],\n",
    "     'Russia': ['Russian Federation', 'Belarus'],\n",
    "     'North Africa': ['Morocco', 'Algeria', 'Tunisia'],\n",
    "     'Central Africa': [\"Cote D'Ivoire\", 'Congo, the Democratic Republic of the'],\n",
    "     'South Africa': ['Zimbabwe'],\n",
    "     'Meadel Est': ['Turkey', 'Armenia','Israel'],\n",
    "     'Oceania': ['Australia', 'New Zealand'],\n",
    "     'Indonesia': ['British Indian Ocean Territory']\n",
    "     \n",
    "    \n",
    "}"
   ]
  },
  {
   "cell_type": "code",
   "execution_count": 9,
   "id": "b2bd85b5",
   "metadata": {},
   "outputs": [],
   "source": [
    "def get_region(x):\n",
    "    \n",
    "    for key in d:\n",
    "        if x in d[key]:\n",
    "            return key\n",
    "    return np.nan"
   ]
  },
  {
   "cell_type": "code",
   "execution_count": 10,
   "id": "2f24dbdc",
   "metadata": {},
   "outputs": [],
   "source": [
    "df['region'] = df['country'].apply(get_region)"
   ]
  },
  {
   "cell_type": "markdown",
   "id": "f7ffc63c",
   "metadata": {},
   "source": [
    "## Transformation des dates"
   ]
  },
  {
   "cell_type": "code",
   "execution_count": 11,
   "id": "39749bcb",
   "metadata": {},
   "outputs": [],
   "source": [
    "# On ne garde que l'année\n",
    "def get_date(x):\n",
    "    \n",
    "    try:\n",
    "        return x[-5:]\n",
    "    except:\n",
    "        return np.nan\n",
    "\n",
    "\n",
    "df['registered'] = df['registered'].apply(get_date)"
   ]
  },
  {
   "cell_type": "code",
   "execution_count": 12,
   "id": "be8abaa2",
   "metadata": {},
   "outputs": [],
   "source": [
    "df_user = df[['user_id', 'gender','country', 'region', 'registered']]"
   ]
  },
  {
   "cell_type": "code",
   "execution_count": 13,
   "id": "3aaec89d",
   "metadata": {},
   "outputs": [
    {
     "data": {
      "text/html": [
       "<div>\n",
       "<style scoped>\n",
       "    .dataframe tbody tr th:only-of-type {\n",
       "        vertical-align: middle;\n",
       "    }\n",
       "\n",
       "    .dataframe tbody tr th {\n",
       "        vertical-align: top;\n",
       "    }\n",
       "\n",
       "    .dataframe thead th {\n",
       "        text-align: right;\n",
       "    }\n",
       "</style>\n",
       "<table border=\"1\" class=\"dataframe\">\n",
       "  <thead>\n",
       "    <tr style=\"text-align: right;\">\n",
       "      <th></th>\n",
       "      <th>user_id</th>\n",
       "      <th>gender</th>\n",
       "      <th>country</th>\n",
       "      <th>region</th>\n",
       "      <th>registered</th>\n",
       "    </tr>\n",
       "  </thead>\n",
       "  <tbody>\n",
       "    <tr>\n",
       "      <th>1</th>\n",
       "      <td>1</td>\n",
       "      <td>m</td>\n",
       "      <td>Japan</td>\n",
       "      <td>Asia</td>\n",
       "      <td>2006</td>\n",
       "    </tr>\n",
       "    <tr>\n",
       "      <th>2</th>\n",
       "      <td>2</td>\n",
       "      <td>f</td>\n",
       "      <td>Peru</td>\n",
       "      <td>South America</td>\n",
       "      <td>2006</td>\n",
       "    </tr>\n",
       "    <tr>\n",
       "      <th>3</th>\n",
       "      <td>3</td>\n",
       "      <td>m</td>\n",
       "      <td>United States</td>\n",
       "      <td>North America</td>\n",
       "      <td>2005</td>\n",
       "    </tr>\n",
       "    <tr>\n",
       "      <th>4</th>\n",
       "      <td>4</td>\n",
       "      <td>f</td>\n",
       "      <td>NaN</td>\n",
       "      <td>NaN</td>\n",
       "      <td>2006</td>\n",
       "    </tr>\n",
       "    <tr>\n",
       "      <th>5</th>\n",
       "      <td>5</td>\n",
       "      <td>m</td>\n",
       "      <td>Bulgaria</td>\n",
       "      <td>Europe</td>\n",
       "      <td>2006</td>\n",
       "    </tr>\n",
       "  </tbody>\n",
       "</table>\n",
       "</div>"
      ],
      "text/plain": [
       "   user_id gender        country         region registered\n",
       "1        1      m          Japan           Asia       2006\n",
       "2        2      f           Peru  South America       2006\n",
       "3        3      m  United States  North America       2005\n",
       "4        4      f            NaN            NaN       2006\n",
       "5        5      m       Bulgaria         Europe       2006"
      ]
     },
     "execution_count": 13,
     "metadata": {},
     "output_type": "execute_result"
    }
   ],
   "source": [
    "df_user.head()"
   ]
  },
  {
   "cell_type": "markdown",
   "id": "f1ec09bb",
   "metadata": {},
   "source": [
    "## Sauvegarde"
   ]
  },
  {
   "cell_type": "code",
   "execution_count": 14,
   "id": "15b24bcc",
   "metadata": {},
   "outputs": [],
   "source": [
    "df_user.to_csv('filtered data/user_features_fm_dataset.csv')"
   ]
  }
 ],
 "metadata": {
  "kernelspec": {
   "display_name": "Python 3",
   "language": "python",
   "name": "python3"
  },
  "language_info": {
   "codemirror_mode": {
    "name": "ipython",
    "version": 3
   },
   "file_extension": ".py",
   "mimetype": "text/x-python",
   "name": "python",
   "nbconvert_exporter": "python",
   "pygments_lexer": "ipython3",
   "version": "3.9.7"
  }
 },
 "nbformat": 4,
 "nbformat_minor": 5
}
