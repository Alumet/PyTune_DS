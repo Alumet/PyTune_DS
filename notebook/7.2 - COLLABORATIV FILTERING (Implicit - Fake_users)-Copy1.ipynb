{
 "cells": [
  {
   "cell_type": "markdown",
   "id": "c5201c8e",
   "metadata": {},
   "source": [
    "# COLLABORATIV FILTERING (implicit Fake_users)\n",
    "\n",
    "Test du model pour la recommendation sur les faux utilisateurs"
   ]
  },
  {
   "cell_type": "markdown",
   "id": "4acf9f81",
   "metadata": {},
   "source": [
    "## Imports"
   ]
  },
  {
   "cell_type": "code",
   "execution_count": 57,
   "id": "c09bb041",
   "metadata": {},
   "outputs": [],
   "source": [
    "import numpy as np\n",
    "import pandas as pd\n",
    "import matplotlib.pyplot as plt\n",
    "\n",
    "from scipy.sparse import coo_matrix, csr_matrix\n",
    "\n",
    "from sklearn.metrics import roc_auc_score\n",
    "\n",
    "import itertools\n",
    "\n",
    "from tqdm import tqdm"
   ]
  },
  {
   "cell_type": "markdown",
   "id": "74d4fd49",
   "metadata": {},
   "source": [
    "## Data import"
   ]
  },
  {
   "cell_type": "code",
   "execution_count": 2,
   "id": "ba8271ce",
   "metadata": {},
   "outputs": [],
   "source": [
    "df_train = pd.read_csv('filtered data/filtered_rating_fm_dataset_train.csv', index_col=0)"
   ]
  },
  {
   "cell_type": "code",
   "execution_count": 3,
   "id": "576de691",
   "metadata": {},
   "outputs": [],
   "source": [
    "files = ['last_fm_fake_user(1001)_jazz.csv',\n",
    "         'last_fm_fake_user(1002)_classic.csv',\n",
    "         'last_fm_fake_user(1003)_pop.csv',\n",
    "         'last_fm_fake_user(1004)_rock.csv',\n",
    "         'last_fm_fake_user(1005)_rap.csv']\n",
    "\n",
    "for file in files:\n",
    "    df_temp = pd.read_csv(f'filtered data/fake_user/{file}', index_col=0)\n",
    "    df_temp['rating']=100 # a revoir\n",
    "    df_train = pd.concat([df_train, df_temp])"
   ]
  },
  {
   "cell_type": "markdown",
   "id": "d1c319bc",
   "metadata": {},
   "source": [
    "## Data preparation"
   ]
  },
  {
   "cell_type": "code",
   "execution_count": 4,
   "id": "1cd20908",
   "metadata": {},
   "outputs": [],
   "source": [
    "df_track = df_train.groupby(['track_id']).first().reset_index()"
   ]
  },
  {
   "cell_type": "code",
   "execution_count": 5,
   "id": "485d5fea",
   "metadata": {},
   "outputs": [],
   "source": [
    "df_gb = df_train.groupby(['user_id','track_id']).mean().reset_index()"
   ]
  },
  {
   "cell_type": "code",
   "execution_count": 74,
   "id": "a356001e",
   "metadata": {},
   "outputs": [],
   "source": [
    "item = np.array(df_gb[['track_id']].values).T[0]\n",
    "user = np.array(df_gb[['user_id']].values).T[0]\n",
    "weight = np.array(df_gb[['rating']].values).T[0]"
   ]
  },
  {
   "cell_type": "code",
   "execution_count": 76,
   "id": "9dd34eec",
   "metadata": {},
   "outputs": [
    {
     "data": {
      "text/plain": [
       "(1006, 80600)"
      ]
     },
     "execution_count": 76,
     "metadata": {},
     "output_type": "execute_result"
    }
   ],
   "source": [
    "mat_music = csr_matrix((weight,(item, user))).T\n",
    "mat_music.shape"
   ]
  },
  {
   "cell_type": "markdown",
   "id": "8d856107",
   "metadata": {},
   "source": [
    "## Modèle"
   ]
  },
  {
   "cell_type": "code",
   "execution_count": 77,
   "id": "f81efa4e",
   "metadata": {},
   "outputs": [
    {
     "name": "stderr",
     "output_type": "stream",
     "text": [
      "F:\\anaconda3\\lib\\site-packages\\implicit\\utils.py:138: ParameterWarning: Method expects CSR input, and was passed csc_matrix instead. Converting to CSR took 0.016002416610717773 seconds\n",
      "  warnings.warn(\n"
     ]
    },
    {
     "data": {
      "application/vnd.jupyter.widget-view+json": {
       "model_id": "04e115b77d8648ab9e0eee65d690734b",
       "version_major": 2,
       "version_minor": 0
      },
      "text/plain": [
       "  0%|          | 0/30 [00:00<?, ?it/s]"
      ]
     },
     "metadata": {},
     "output_type": "display_data"
    }
   ],
   "source": [
    "import implicit\n",
    "\n",
    "# Initialisation du modèle\n",
    "model_music = implicit.als.AlternatingLeastSquares(factors=40,\n",
    "                                                   use_native=True, \n",
    "                                                   use_cg=True, \n",
    "                                                   calculate_training_loss=True, \n",
    "                                                   num_threads=1, \n",
    "                                                   iterations=30)\n",
    "\n",
    "# Entrainemt du model item/user/confidence weights\n",
    "model_music.fit(mat_music)"
   ]
  },
  {
   "cell_type": "code",
   "execution_count": null,
   "id": "c841df73",
   "metadata": {},
   "outputs": [],
   "source": []
  },
  {
   "cell_type": "code",
   "execution_count": 88,
   "id": "df154d6e",
   "metadata": {},
   "outputs": [],
   "source": [
    "def reco_user_music(user_id, mat, n=10, filter=False):\n",
    "    if filter:\n",
    "        f= list(df_train[df_train['user_id']==user_id]['track_id'].unique())\n",
    "    else:\n",
    "        f = list()\n",
    "        \n",
    "    track_ids = model_music.recommend(user_id, mat.tocsr()[user_id], n, filter_already_liked_items=filter)\n",
    "    \n",
    "    for id,score in zip(track_ids[0], track_ids[1]):\n",
    "        a = df_track[df_track['track_id']==id]\n",
    "        track = a['track_name'].values[0]\n",
    "        artist = a['artist_name'].values[0]\n",
    "        print(f'{str(score)[:4]}--> {artist}: {track}')"
   ]
  },
  {
   "cell_type": "markdown",
   "id": "18d45321",
   "metadata": {},
   "source": [
    "### Utilisateur Jazz 1001"
   ]
  },
  {
   "cell_type": "code",
   "execution_count": 89,
   "id": "2e8b847b",
   "metadata": {},
   "outputs": [
    {
     "name": "stdout",
     "output_type": "stream",
     "text": [
      "0.88--> Nina Simone: Don'T Let Me Be Misunderstood\n",
      "0.88--> Nina Simone: Feeling Good\n",
      "0.86--> Frank Sinatra: The Best Is Yet To Come\n",
      "0.86--> Miles Davis: Blue In Green\n",
      "0.85--> Norah Jones: Come Away With Me\n",
      "0.84--> Ray Charles: Hit The Road Jack\n",
      "0.83--> Norah Jones: Lonestar\n",
      "0.83--> Norah Jones: Wish I Could\n",
      "0.83--> Frank Sinatra: I Get A Kick Out Of You\n",
      "0.82--> Duke Ellington: Sophisticated Lady\n"
     ]
    }
   ],
   "source": [
    "reco_user_music(1001, mat_music, filter=False)"
   ]
  },
  {
   "cell_type": "code",
   "execution_count": 90,
   "id": "081073bb",
   "metadata": {},
   "outputs": [
    {
     "name": "stdout",
     "output_type": "stream",
     "text": [
      "0.70--> Frank Sinatra: My Way\n",
      "0.69--> John Coltrane: Blue Train\n",
      "0.69--> Miles Davis: Move\n",
      "0.67--> Wes Montgomery: 4 On 6\n",
      "0.66--> John Coltrane: Giant Steps\n",
      "0.65--> Norah Jones: Turn Me On\n",
      "0.64--> Frank Sinatra: That'S Life\n",
      "0.63--> Frank Sinatra: Strangers In The Night\n",
      "0.62--> Art Blakey & The Jazz Messengers: Blues March\n",
      "0.62--> Miles Davis: Summertime\n"
     ]
    }
   ],
   "source": [
    "reco_user_music(1001, mat_music, filter=True)"
   ]
  },
  {
   "cell_type": "markdown",
   "id": "ac5e5df2",
   "metadata": {},
   "source": [
    "### Utilisateur Classique 1002"
   ]
  },
  {
   "cell_type": "code",
   "execution_count": 91,
   "id": "22c793dc",
   "metadata": {},
   "outputs": [
    {
     "name": "stdout",
     "output_type": "stream",
     "text": [
      "0.82--> Ludwig Van Beethoven: Für Elise\n",
      "0.74--> Wolfgang Amadeus Mozart: Requiem\n",
      "0.72--> Wolfgang Amadeus Mozart: Recordare\n",
      "0.71--> Ludwig Van Beethoven: 5Th Symphony\n",
      "0.71--> Wolfgang Amadeus Mozart: Dies Irae\n",
      "0.70--> Wolfgang Amadeus Mozart: Tuba Mirum\n",
      "0.70--> Johann Sebastian Bach: Air\n",
      "0.70--> Robert Schumann: Trumerei\n",
      "0.69--> Antonio Vivaldi: Allegro\n",
      "0.69--> Antonio Vivaldi: Concerto In G\n"
     ]
    }
   ],
   "source": [
    "reco_user_music(1002, mat_music, filter=False)"
   ]
  },
  {
   "cell_type": "code",
   "execution_count": 92,
   "id": "d136741b",
   "metadata": {},
   "outputs": [
    {
     "name": "stdout",
     "output_type": "stream",
     "text": [
      "0.48--> Yann Tiersen: La Dispute\n",
      "0.48--> Joy Division: Insight\n",
      "0.47--> Yann Tiersen: Sur Le Fil\n",
      "0.46--> Samuel Barber: Adagio For Strings\n",
      "0.46--> Yann Tiersen: La Valse Des Vieux Os\n",
      "0.46--> Yann Tiersen: Soir De Fête\n",
      "0.46--> Yann Tiersen: Comptine D'Un Autre Été : L'Après-Midi\n",
      "0.45--> Yann Tiersen: J'Y Suis Jamais Allé\n",
      "0.45--> Yann Tiersen: Comptine D'Un Autre Été: L'Après Midi\n",
      "0.45--> Yann Tiersen: La Valse Des Monstres\n"
     ]
    }
   ],
   "source": [
    "reco_user_music(1002, mat_music, filter=True)"
   ]
  },
  {
   "cell_type": "markdown",
   "id": "273fdf11",
   "metadata": {},
   "source": [
    "### Utilisateur Pop 1003"
   ]
  },
  {
   "cell_type": "code",
   "execution_count": 14,
   "id": "c16e4b17",
   "metadata": {},
   "outputs": [
    {
     "name": "stdout",
     "output_type": "stream",
     "text": [
      "1.00--> Madonna: Hung Up\n",
      "0.98--> Madonna: Sorry\n",
      "0.98--> Madonna: Jump\n",
      "0.96--> Rihanna: Umbrella (Feat. Jay-Z)\n",
      "0.94--> Miley Cyrus: See You Again\n",
      "0.93--> Justin Timberlake: Losing My Way\n",
      "0.93--> Britney Spears: Toxic\n",
      "0.92--> Justin Timberlake: Sexyback\n",
      "0.92--> Madonna: Miles Away\n",
      "0.92--> Gwen Stefani: Early Winter\n"
     ]
    }
   ],
   "source": [
    "reco_user_music(1003, mat_music, filter=False)"
   ]
  },
  {
   "cell_type": "code",
   "execution_count": 15,
   "id": "d604ad93",
   "metadata": {},
   "outputs": [
    {
     "name": "stdout",
     "output_type": "stream",
     "text": [
      "0.98--> Madonna: Sorry\n",
      "0.98--> Madonna: Jump\n",
      "0.92--> Madonna: Miles Away\n",
      "0.92--> Britney Spears: Gimme More\n",
      "0.90--> The Pussycat Dolls: Buttons\n",
      "0.90--> Madonna: Give It 2 Me\n",
      "0.86--> Britney Spears: Circus\n",
      "0.85--> Christina Aguilera: Ain'T No Other Man\n",
      "0.84--> Gwen Stefani: Wind It Up\n",
      "0.83--> Christina Aguilera: Keeps Gettin' Better\n"
     ]
    }
   ],
   "source": [
    "reco_user_music(1003, mat_music, filter=True)"
   ]
  },
  {
   "cell_type": "markdown",
   "id": "d1b32271",
   "metadata": {},
   "source": [
    "### Utilisateur Rock 1004"
   ]
  },
  {
   "cell_type": "code",
   "execution_count": 16,
   "id": "e6f7ad46",
   "metadata": {},
   "outputs": [
    {
     "name": "stdout",
     "output_type": "stream",
     "text": [
      "0.94--> Korn: Freak On A Leash\n",
      "0.92--> Linkin Park: Bleed It Out\n",
      "0.91--> Disturbed: Inside The Fire\n",
      "0.90--> Slipknot: Psychosocial\n",
      "0.90--> Korn: A.D.I.D.A.S.\n",
      "0.90--> Linkin Park: Numb\n",
      "0.89--> Linkin Park: Lying From You\n",
      "0.89--> Rage Against The Machine: How I Could Just Kill A Man\n",
      "0.89--> Nirvana: Come As You Are\n",
      "0.88--> Linkin Park: What I'Ve Done\n"
     ]
    }
   ],
   "source": [
    "reco_user_music(1004, mat_music, filter=False)"
   ]
  },
  {
   "cell_type": "code",
   "execution_count": 17,
   "id": "007c54fb",
   "metadata": {},
   "outputs": [
    {
     "name": "stdout",
     "output_type": "stream",
     "text": [
      "0.83--> Nirvana: Heart-Shaped Box\n",
      "0.79--> Korn: Falling Away From Me\n",
      "0.79--> Coldplay: Violet Hill\n",
      "0.76--> Beastie Boys: Sabotage\n",
      "0.76--> Limp Bizkit: Hold On\n",
      "0.75--> Limp Bizkit: Break Stuff\n",
      "0.75--> Limp Bizkit: Hot Dog\n",
      "0.75--> Slipknot: Duality\n",
      "0.74--> Slipknot: Pulse Of The Maggots\n",
      "0.72--> Rage Against The Machine: Bulls On Parade\n"
     ]
    }
   ],
   "source": [
    "reco_user_music(1004, mat_music, filter=True)"
   ]
  },
  {
   "cell_type": "markdown",
   "id": "01e78d36",
   "metadata": {},
   "source": [
    "### Utilisateur Rap 1005"
   ]
  },
  {
   "cell_type": "code",
   "execution_count": 18,
   "id": "fb53dcf7",
   "metadata": {},
   "outputs": [
    {
     "name": "stdout",
     "output_type": "stream",
     "text": [
      "0.92--> Kanye West: Paranoid (Feat. Mr. Hudson)\n",
      "0.92--> Kanye West: Welcome To Heartbreak (Feat. Kid Cudi)\n",
      "0.90--> Kanye West: Good Morning\n",
      "0.89--> Kanye West: Can'T Tell Me Nothing\n",
      "0.89--> Kanye West: Touch The Sky\n",
      "0.88--> Kanye West: Family Business\n",
      "0.87--> Lupe Fiasco: Superstar\n",
      "0.87--> Eminem: Kim\n",
      "0.86--> 2Pac: Me Against The World\n",
      "0.86--> Kanye West: Gold Digger\n"
     ]
    }
   ],
   "source": [
    "reco_user_music(1005, mat_music, filter=False)"
   ]
  },
  {
   "cell_type": "code",
   "execution_count": 19,
   "id": "9db9ed8e",
   "metadata": {},
   "outputs": [
    {
     "name": "stdout",
     "output_type": "stream",
     "text": [
      "0.82--> Kanye West: Street Lights\n",
      "0.81--> Kanye West: I Wonder\n",
      "0.81--> Kanye West: Good Life (Feat. T-Pain)\n",
      "0.80--> Kanye West: Robocop\n",
      "0.80--> Kanye West: Coldest Winter\n",
      "0.79--> Kanye West: Stronger\n",
      "0.79--> Kanye West: Amazing (Feat. Young Jeezy)\n",
      "0.78--> Kanye West: Big Brother\n",
      "0.78--> Kanye West: Everything I Am\n",
      "0.74--> Kanye West: Pinocchio Story (Freestyle Live From Singapore)\n"
     ]
    }
   ],
   "source": [
    "reco_user_music(1005, mat_music, filter=True)"
   ]
  },
  {
   "cell_type": "code",
   "execution_count": null,
   "id": "a9ccb84f",
   "metadata": {},
   "outputs": [],
   "source": []
  }
 ],
 "metadata": {
  "kernelspec": {
   "display_name": "Python 3 (ipykernel)",
   "language": "python",
   "name": "python3"
  },
  "language_info": {
   "codemirror_mode": {
    "name": "ipython",
    "version": 3
   },
   "file_extension": ".py",
   "mimetype": "text/x-python",
   "name": "python",
   "nbconvert_exporter": "python",
   "pygments_lexer": "ipython3",
   "version": "3.9.13"
  }
 },
 "nbformat": 4,
 "nbformat_minor": 5
}
