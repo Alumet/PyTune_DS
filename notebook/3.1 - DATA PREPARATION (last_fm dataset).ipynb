{
 "cells": [
  {
   "cell_type": "markdown",
   "id": "0109a7e1",
   "metadata": {},
   "source": [
    "# DATA PREPARATION LAST FM\n",
    "\n",
    "FICHIER: *'userid-timestamp-artid-artname-traid-traname.tsv'*"
   ]
  },
  {
   "cell_type": "markdown",
   "id": "e74a44ac",
   "metadata": {},
   "source": [
    "## Imports "
   ]
  },
  {
   "cell_type": "code",
   "execution_count": 74,
   "id": "5d729272",
   "metadata": {},
   "outputs": [],
   "source": [
    "import pandas as pd"
   ]
  },
  {
   "cell_type": "markdown",
   "id": "c1325900",
   "metadata": {},
   "source": [
    "## Data import"
   ]
  },
  {
   "cell_type": "code",
   "execution_count": 75,
   "id": "7c11912d",
   "metadata": {},
   "outputs": [
    {
     "name": "stderr",
     "output_type": "stream",
     "text": [
      "C:\\Users\\Alumet\\anaconda3\\lib\\site-packages\\IPython\\core\\interactiveshell.py:3444: FutureWarning: The error_bad_lines argument has been deprecated and will be removed in a future version.\n",
      "\n",
      "\n",
      "  exec(code_obj, self.user_global_ns, self.user_ns)\n",
      "b'Skipping line 2120260: expected 6 fields, saw 8\\n'\n",
      "b'Skipping line 2446318: expected 6 fields, saw 8\\n'\n",
      "b'Skipping line 11141081: expected 6 fields, saw 8\\n'\n",
      "b'Skipping line 11152099: expected 6 fields, saw 12\\nSkipping line 11152402: expected 6 fields, saw 8\\n'\n",
      "b'Skipping line 11882087: expected 6 fields, saw 8\\n'\n",
      "b'Skipping line 12902539: expected 6 fields, saw 8\\nSkipping line 12935044: expected 6 fields, saw 8\\n'\n",
      "b'Skipping line 17589539: expected 6 fields, saw 8\\n'\n"
     ]
    }
   ],
   "source": [
    "file = 'raw data/lastfm-dataset-1K/userid-timestamp-artid-artname-traid-traname.tsv'\n",
    "df =  pd.read_csv(file, sep='\\t',error_bad_lines=False, header = None)"
   ]
  },
  {
   "cell_type": "code",
   "execution_count": 76,
   "id": "e26ebe5d",
   "metadata": {},
   "outputs": [],
   "source": [
    "# on renome les colonnes\n",
    "df.rename(columns={0:'user_id', 1:'time_stamp', 2:'artist_id', 3:'artist_name', 4:'track_id', 5:'track_name'}, inplace=True)"
   ]
  },
  {
   "cell_type": "code",
   "execution_count": 77,
   "id": "2de92db6",
   "metadata": {},
   "outputs": [
    {
     "data": {
      "text/html": [
       "<div>\n",
       "<style scoped>\n",
       "    .dataframe tbody tr th:only-of-type {\n",
       "        vertical-align: middle;\n",
       "    }\n",
       "\n",
       "    .dataframe tbody tr th {\n",
       "        vertical-align: top;\n",
       "    }\n",
       "\n",
       "    .dataframe thead th {\n",
       "        text-align: right;\n",
       "    }\n",
       "</style>\n",
       "<table border=\"1\" class=\"dataframe\">\n",
       "  <thead>\n",
       "    <tr style=\"text-align: right;\">\n",
       "      <th></th>\n",
       "      <th>user_id</th>\n",
       "      <th>time_stamp</th>\n",
       "      <th>artist_id</th>\n",
       "      <th>artist_name</th>\n",
       "      <th>track_id</th>\n",
       "      <th>track_name</th>\n",
       "    </tr>\n",
       "  </thead>\n",
       "  <tbody>\n",
       "    <tr>\n",
       "      <th>0</th>\n",
       "      <td>user_000001</td>\n",
       "      <td>2009-05-04T23:08:57Z</td>\n",
       "      <td>f1b1cf71-bd35-4e99-8624-24a6e15f133a</td>\n",
       "      <td>Deep Dish</td>\n",
       "      <td>NaN</td>\n",
       "      <td>Fuck Me Im Famous (Pacha Ibiza)-09-28-2007</td>\n",
       "    </tr>\n",
       "    <tr>\n",
       "      <th>1</th>\n",
       "      <td>user_000001</td>\n",
       "      <td>2009-05-04T13:54:10Z</td>\n",
       "      <td>a7f7df4a-77d8-4f12-8acd-5c60c93f4de8</td>\n",
       "      <td>坂本龍一</td>\n",
       "      <td>NaN</td>\n",
       "      <td>Composition 0919 (Live_2009_4_15)</td>\n",
       "    </tr>\n",
       "    <tr>\n",
       "      <th>2</th>\n",
       "      <td>user_000001</td>\n",
       "      <td>2009-05-04T13:52:04Z</td>\n",
       "      <td>a7f7df4a-77d8-4f12-8acd-5c60c93f4de8</td>\n",
       "      <td>坂本龍一</td>\n",
       "      <td>NaN</td>\n",
       "      <td>Mc2 (Live_2009_4_15)</td>\n",
       "    </tr>\n",
       "    <tr>\n",
       "      <th>3</th>\n",
       "      <td>user_000001</td>\n",
       "      <td>2009-05-04T13:42:52Z</td>\n",
       "      <td>a7f7df4a-77d8-4f12-8acd-5c60c93f4de8</td>\n",
       "      <td>坂本龍一</td>\n",
       "      <td>NaN</td>\n",
       "      <td>Hibari (Live_2009_4_15)</td>\n",
       "    </tr>\n",
       "    <tr>\n",
       "      <th>4</th>\n",
       "      <td>user_000001</td>\n",
       "      <td>2009-05-04T13:42:11Z</td>\n",
       "      <td>a7f7df4a-77d8-4f12-8acd-5c60c93f4de8</td>\n",
       "      <td>坂本龍一</td>\n",
       "      <td>NaN</td>\n",
       "      <td>Mc1 (Live_2009_4_15)</td>\n",
       "    </tr>\n",
       "  </tbody>\n",
       "</table>\n",
       "</div>"
      ],
      "text/plain": [
       "       user_id            time_stamp                             artist_id  \\\n",
       "0  user_000001  2009-05-04T23:08:57Z  f1b1cf71-bd35-4e99-8624-24a6e15f133a   \n",
       "1  user_000001  2009-05-04T13:54:10Z  a7f7df4a-77d8-4f12-8acd-5c60c93f4de8   \n",
       "2  user_000001  2009-05-04T13:52:04Z  a7f7df4a-77d8-4f12-8acd-5c60c93f4de8   \n",
       "3  user_000001  2009-05-04T13:42:52Z  a7f7df4a-77d8-4f12-8acd-5c60c93f4de8   \n",
       "4  user_000001  2009-05-04T13:42:11Z  a7f7df4a-77d8-4f12-8acd-5c60c93f4de8   \n",
       "\n",
       "  artist_name track_id                                  track_name  \n",
       "0   Deep Dish      NaN  Fuck Me Im Famous (Pacha Ibiza)-09-28-2007  \n",
       "1        坂本龍一      NaN           Composition 0919 (Live_2009_4_15)  \n",
       "2        坂本龍一      NaN                        Mc2 (Live_2009_4_15)  \n",
       "3        坂本龍一      NaN                     Hibari (Live_2009_4_15)  \n",
       "4        坂本龍一      NaN                        Mc1 (Live_2009_4_15)  "
      ]
     },
     "execution_count": 77,
     "metadata": {},
     "output_type": "execute_result"
    }
   ],
   "source": [
    "df.head()"
   ]
  },
  {
   "cell_type": "markdown",
   "id": "6496212d",
   "metadata": {},
   "source": [
    "## Quick Exploration "
   ]
  },
  {
   "cell_type": "code",
   "execution_count": 78,
   "id": "890c26b9",
   "metadata": {},
   "outputs": [
    {
     "name": "stdout",
     "output_type": "stream",
     "text": [
      "shape: (19098853, 6)\n",
      "user: 992\n",
      "trak: 1083471\n"
     ]
    }
   ],
   "source": [
    "print('shape:',df.shape)\n",
    "print('user:',df['user_id'].nunique())\n",
    "print('trak:',df['track_name'].nunique())"
   ]
  },
  {
   "cell_type": "code",
   "execution_count": 79,
   "id": "c2890e7d",
   "metadata": {},
   "outputs": [
    {
     "data": {
      "text/plain": [
       "Intro                 17561\n",
       "[Untitled]             6926\n",
       "Untitled               6586\n",
       "Home                   6304\n",
       "All I Need             6234\n",
       "Angel                  6002\n",
       "Heartbeats             5676\n",
       "Wake Up                5658\n",
       "Crazy                  5627\n",
       "Such Great Heights     5571\n",
       "Name: track_name, dtype: int64"
      ]
     },
     "execution_count": 79,
     "metadata": {},
     "output_type": "execute_result"
    }
   ],
   "source": [
    "# les 10 tack_name les plus écoutés\n",
    "df['track_name'].value_counts()[0:10]"
   ]
  },
  {
   "cell_type": "code",
   "execution_count": 80,
   "id": "b5370795",
   "metadata": {},
   "outputs": [
    {
     "data": {
      "text/plain": [
       "Radiohead              115099\n",
       "The Beatles            100126\n",
       "Nine Inch Nails         84317\n",
       "Muse                    63144\n",
       "Coldplay                62212\n",
       "Depeche Mode            59609\n",
       "Pink Floyd              58484\n",
       "Death Cab For Cutie     58046\n",
       "Placebo                 53492\n",
       "Elliott Smith           50202\n",
       "Name: artist_name, dtype: int64"
      ]
     },
     "execution_count": 80,
     "metadata": {},
     "output_type": "execute_result"
    }
   ],
   "source": [
    "# les 10 artis_name les plus écoutés\n",
    "df['artist_name'].value_counts()[0:10]"
   ]
  },
  {
   "cell_type": "code",
   "execution_count": 81,
   "id": "34e9ae19",
   "metadata": {},
   "outputs": [
    {
     "name": "stdout",
     "output_type": "stream",
     "text": [
      "Start:  2008-01-27T21:43:14Z\n",
      "Stop:   2009-05-04T23:08:57Z\n"
     ]
    }
   ],
   "source": [
    "# Date de première entrée et de dernière entrée\n",
    "print('Start: ', df['time_stamp'].tail(1).values[0])\n",
    "print('Stop:  ',df['time_stamp'].head(1).values[0])"
   ]
  },
  {
   "cell_type": "markdown",
   "id": "6c7eda3a",
   "metadata": {},
   "source": [
    "### Reset des IDs (verst des int)"
   ]
  },
  {
   "cell_type": "code",
   "execution_count": 82,
   "id": "6c889bc5",
   "metadata": {},
   "outputs": [],
   "source": [
    "# On ne garde que la partie numérique des id\n",
    "df['user_id'] = df['user_id'].apply(lambda x: int(x[5:]))"
   ]
  },
  {
   "cell_type": "code",
   "execution_count": 83,
   "id": "8d36e3d1",
   "metadata": {},
   "outputs": [],
   "source": [
    "# reset des id par des int\n",
    "d=dict()\n",
    "for i,name in enumerate(df['artist_id'].unique()):\n",
    "    d[name]=i\n",
    "    \n",
    "df['artist_id'] = df['artist_id'].apply(lambda x: d[x])"
   ]
  },
  {
   "cell_type": "code",
   "execution_count": 84,
   "id": "e882a796",
   "metadata": {},
   "outputs": [],
   "source": [
    "# creation d'un nouveau track_id (car trop de NAN)\n",
    "\n",
    "#on crés une serie uneique de artist+track pour eviter les erreus sur les tracks de même nom\n",
    "a = df['artist_name']+df['track_name'] \n",
    "\n",
    "d=dict()\n",
    "for i,name in enumerate(a.unique()):\n",
    "    d[name]=i\n",
    "    \n",
    "df['track_id'] = a.apply(lambda x: d[x])"
   ]
  },
  {
   "cell_type": "markdown",
   "id": "38959bac",
   "metadata": {},
   "source": [
    "### Verification du reset"
   ]
  },
  {
   "cell_type": "code",
   "execution_count": 85,
   "id": "fcc5bc97",
   "metadata": {},
   "outputs": [
    {
     "data": {
      "text/html": [
       "<div>\n",
       "<style scoped>\n",
       "    .dataframe tbody tr th:only-of-type {\n",
       "        vertical-align: middle;\n",
       "    }\n",
       "\n",
       "    .dataframe tbody tr th {\n",
       "        vertical-align: top;\n",
       "    }\n",
       "\n",
       "    .dataframe thead th {\n",
       "        text-align: right;\n",
       "    }\n",
       "</style>\n",
       "<table border=\"1\" class=\"dataframe\">\n",
       "  <thead>\n",
       "    <tr style=\"text-align: right;\">\n",
       "      <th></th>\n",
       "      <th>user_id</th>\n",
       "      <th>time_stamp</th>\n",
       "      <th>artist_id</th>\n",
       "      <th>artist_name</th>\n",
       "      <th>track_id</th>\n",
       "      <th>track_name</th>\n",
       "    </tr>\n",
       "  </thead>\n",
       "  <tbody>\n",
       "    <tr>\n",
       "      <th>0</th>\n",
       "      <td>1</td>\n",
       "      <td>2009-05-04T23:08:57Z</td>\n",
       "      <td>0</td>\n",
       "      <td>Deep Dish</td>\n",
       "      <td>0</td>\n",
       "      <td>Fuck Me Im Famous (Pacha Ibiza)-09-28-2007</td>\n",
       "    </tr>\n",
       "    <tr>\n",
       "      <th>1</th>\n",
       "      <td>1</td>\n",
       "      <td>2009-05-04T13:54:10Z</td>\n",
       "      <td>1</td>\n",
       "      <td>坂本龍一</td>\n",
       "      <td>1</td>\n",
       "      <td>Composition 0919 (Live_2009_4_15)</td>\n",
       "    </tr>\n",
       "    <tr>\n",
       "      <th>2</th>\n",
       "      <td>1</td>\n",
       "      <td>2009-05-04T13:52:04Z</td>\n",
       "      <td>1</td>\n",
       "      <td>坂本龍一</td>\n",
       "      <td>2</td>\n",
       "      <td>Mc2 (Live_2009_4_15)</td>\n",
       "    </tr>\n",
       "    <tr>\n",
       "      <th>3</th>\n",
       "      <td>1</td>\n",
       "      <td>2009-05-04T13:42:52Z</td>\n",
       "      <td>1</td>\n",
       "      <td>坂本龍一</td>\n",
       "      <td>3</td>\n",
       "      <td>Hibari (Live_2009_4_15)</td>\n",
       "    </tr>\n",
       "    <tr>\n",
       "      <th>4</th>\n",
       "      <td>1</td>\n",
       "      <td>2009-05-04T13:42:11Z</td>\n",
       "      <td>1</td>\n",
       "      <td>坂本龍一</td>\n",
       "      <td>4</td>\n",
       "      <td>Mc1 (Live_2009_4_15)</td>\n",
       "    </tr>\n",
       "  </tbody>\n",
       "</table>\n",
       "</div>"
      ],
      "text/plain": [
       "   user_id            time_stamp  artist_id artist_name  track_id  \\\n",
       "0        1  2009-05-04T23:08:57Z          0   Deep Dish         0   \n",
       "1        1  2009-05-04T13:54:10Z          1        坂本龍一         1   \n",
       "2        1  2009-05-04T13:52:04Z          1        坂本龍一         2   \n",
       "3        1  2009-05-04T13:42:52Z          1        坂本龍一         3   \n",
       "4        1  2009-05-04T13:42:11Z          1        坂本龍一         4   \n",
       "\n",
       "                                   track_name  \n",
       "0  Fuck Me Im Famous (Pacha Ibiza)-09-28-2007  \n",
       "1           Composition 0919 (Live_2009_4_15)  \n",
       "2                        Mc2 (Live_2009_4_15)  \n",
       "3                     Hibari (Live_2009_4_15)  \n",
       "4                        Mc1 (Live_2009_4_15)  "
      ]
     },
     "execution_count": 85,
     "metadata": {},
     "output_type": "execute_result"
    }
   ],
   "source": [
    "df.head()"
   ]
  },
  {
   "cell_type": "code",
   "execution_count": 86,
   "id": "b830e97b",
   "metadata": {},
   "outputs": [
    {
     "data": {
      "text/html": [
       "<div>\n",
       "<style scoped>\n",
       "    .dataframe tbody tr th:only-of-type {\n",
       "        vertical-align: middle;\n",
       "    }\n",
       "\n",
       "    .dataframe tbody tr th {\n",
       "        vertical-align: top;\n",
       "    }\n",
       "\n",
       "    .dataframe thead th {\n",
       "        text-align: right;\n",
       "    }\n",
       "</style>\n",
       "<table border=\"1\" class=\"dataframe\">\n",
       "  <thead>\n",
       "    <tr style=\"text-align: right;\">\n",
       "      <th></th>\n",
       "      <th>user_id</th>\n",
       "      <th>time_stamp</th>\n",
       "      <th>artist_id</th>\n",
       "      <th>artist_name</th>\n",
       "      <th>track_id</th>\n",
       "      <th>track_name</th>\n",
       "    </tr>\n",
       "  </thead>\n",
       "  <tbody>\n",
       "    <tr>\n",
       "      <th>24969</th>\n",
       "      <td>2</td>\n",
       "      <td>2008-06-30T20:03:46Z</td>\n",
       "      <td>948</td>\n",
       "      <td>The Postal Service</td>\n",
       "      <td>6425</td>\n",
       "      <td>Such Great Heights</td>\n",
       "    </tr>\n",
       "    <tr>\n",
       "      <th>27248</th>\n",
       "      <td>2</td>\n",
       "      <td>2008-05-13T09:27:05Z</td>\n",
       "      <td>948</td>\n",
       "      <td>The Postal Service</td>\n",
       "      <td>6425</td>\n",
       "      <td>Such Great Heights</td>\n",
       "    </tr>\n",
       "    <tr>\n",
       "      <th>36218</th>\n",
       "      <td>2</td>\n",
       "      <td>2007-07-20T17:12:25Z</td>\n",
       "      <td>948</td>\n",
       "      <td>The Postal Service</td>\n",
       "      <td>6425</td>\n",
       "      <td>Such Great Heights</td>\n",
       "    </tr>\n",
       "    <tr>\n",
       "      <th>38609</th>\n",
       "      <td>2</td>\n",
       "      <td>2007-05-06T12:21:00Z</td>\n",
       "      <td>948</td>\n",
       "      <td>The Postal Service</td>\n",
       "      <td>6425</td>\n",
       "      <td>Such Great Heights</td>\n",
       "    </tr>\n",
       "    <tr>\n",
       "      <th>46220</th>\n",
       "      <td>2</td>\n",
       "      <td>2007-01-24T01:45:59Z</td>\n",
       "      <td>948</td>\n",
       "      <td>The Postal Service</td>\n",
       "      <td>6425</td>\n",
       "      <td>Such Great Heights</td>\n",
       "    </tr>\n",
       "  </tbody>\n",
       "</table>\n",
       "</div>"
      ],
      "text/plain": [
       "       user_id            time_stamp  artist_id         artist_name  track_id  \\\n",
       "24969        2  2008-06-30T20:03:46Z        948  The Postal Service      6425   \n",
       "27248        2  2008-05-13T09:27:05Z        948  The Postal Service      6425   \n",
       "36218        2  2007-07-20T17:12:25Z        948  The Postal Service      6425   \n",
       "38609        2  2007-05-06T12:21:00Z        948  The Postal Service      6425   \n",
       "46220        2  2007-01-24T01:45:59Z        948  The Postal Service      6425   \n",
       "\n",
       "               track_name  \n",
       "24969  Such Great Heights  \n",
       "27248  Such Great Heights  \n",
       "36218  Such Great Heights  \n",
       "38609  Such Great Heights  \n",
       "46220  Such Great Heights  "
      ]
     },
     "execution_count": 86,
     "metadata": {},
     "output_type": "execute_result"
    }
   ],
   "source": [
    "df[df['track_id']==6425].head()"
   ]
  },
  {
   "cell_type": "markdown",
   "id": "8f5e3e65",
   "metadata": {},
   "source": [
    "## Filtre des tracks"
   ]
  },
  {
   "cell_type": "code",
   "execution_count": 87,
   "id": "bda0db30",
   "metadata": {},
   "outputs": [
    {
     "data": {
      "text/plain": [
       "count    1.498715e+06\n",
       "mean     1.274349e+01\n",
       "std      5.325322e+01\n",
       "min      1.000000e+00\n",
       "25%      1.000000e+00\n",
       "50%      2.000000e+00\n",
       "75%      7.000000e+00\n",
       "max      3.991000e+03\n",
       "Name: track_id, dtype: float64"
      ]
     },
     "execution_count": 87,
     "metadata": {},
     "output_type": "execute_result"
    }
   ],
   "source": [
    "df['track_id'].value_counts().describe()"
   ]
  },
  {
   "cell_type": "code",
   "execution_count": 88,
   "id": "f1e183fe",
   "metadata": {},
   "outputs": [],
   "source": [
    "df_temp = df.groupby(['track_id','user_id']).size().reset_index()\n",
    "df_temp = df_temp.groupby(['track_id']).size().reset_index()\n",
    "df_temp.rename(columns={0:'count'}, inplace=True)"
   ]
  },
  {
   "cell_type": "code",
   "execution_count": 89,
   "id": "07821cba",
   "metadata": {},
   "outputs": [],
   "source": [
    "track_to_keep = set(df_temp[df_temp['count']>=10]['track_id'].values) # 10 écoutes"
   ]
  },
  {
   "cell_type": "code",
   "execution_count": 90,
   "id": "da56cfa5",
   "metadata": {},
   "outputs": [
    {
     "name": "stdout",
     "output_type": "stream",
     "text": [
      "Nb de track à garder:  80600\n"
     ]
    }
   ],
   "source": [
    "print('Nb de track à garder: ', len(track_to_keep))"
   ]
  },
  {
   "cell_type": "code",
   "execution_count": 91,
   "id": "c024932a",
   "metadata": {},
   "outputs": [],
   "source": [
    "filter = df['track_id'].apply(lambda x: x in track_to_keep)"
   ]
  },
  {
   "cell_type": "code",
   "execution_count": 92,
   "id": "53081f11",
   "metadata": {},
   "outputs": [],
   "source": [
    "df = df[filter].copy()"
   ]
  },
  {
   "cell_type": "code",
   "execution_count": 93,
   "id": "14df0663",
   "metadata": {},
   "outputs": [
    {
     "name": "stdout",
     "output_type": "stream",
     "text": [
      "shape: (10422418, 6)\n",
      "user: 991\n",
      "trak: 80600\n"
     ]
    }
   ],
   "source": [
    "print('shape:',df.shape)\n",
    "print('user:',df['user_id'].nunique())\n",
    "print('trak:',df['track_id'].nunique())"
   ]
  },
  {
   "cell_type": "markdown",
   "id": "ef3190e3",
   "metadata": {},
   "source": [
    "## Filtre des utilisateurs "
   ]
  },
  {
   "cell_type": "code",
   "execution_count": 94,
   "id": "443555a5",
   "metadata": {},
   "outputs": [
    {
     "data": {
      "text/plain": [
       "count       991.000000\n",
       "mean      10517.071645\n",
       "std       13743.076945\n",
       "min           2.000000\n",
       "25%        1768.500000\n",
       "50%        5725.000000\n",
       "75%       13719.000000\n",
       "max      150744.000000\n",
       "Name: user_id, dtype: float64"
      ]
     },
     "execution_count": 94,
     "metadata": {},
     "output_type": "execute_result"
    }
   ],
   "source": [
    "df['user_id'].value_counts().describe()"
   ]
  },
  {
   "cell_type": "code",
   "execution_count": 95,
   "id": "275906bb",
   "metadata": {},
   "outputs": [],
   "source": [
    "df_temp = df.groupby(['track_id','user_id']).size().reset_index()\n",
    "df_temp = df_temp.groupby(['user_id']).size().reset_index()\n",
    "df_temp.rename(columns={0:'count'}, inplace=True)"
   ]
  },
  {
   "cell_type": "code",
   "execution_count": 96,
   "id": "9aea9050",
   "metadata": {},
   "outputs": [],
   "source": [
    "user_to_keep = set(df_temp[df_temp['count']>50]['user_id'].values)"
   ]
  },
  {
   "cell_type": "code",
   "execution_count": 97,
   "id": "9e9d37e4",
   "metadata": {},
   "outputs": [
    {
     "name": "stdout",
     "output_type": "stream",
     "text": [
      "Nb utilisateur à garder: 959\n"
     ]
    }
   ],
   "source": [
    "print('Nb utilisateur à garder:' , len(user_to_keep))"
   ]
  },
  {
   "cell_type": "code",
   "execution_count": 98,
   "id": "05e20fd5",
   "metadata": {},
   "outputs": [],
   "source": [
    "filter = df['user_id'].apply(lambda x: x in user_to_keep)"
   ]
  },
  {
   "cell_type": "code",
   "execution_count": 99,
   "id": "e64f0915",
   "metadata": {},
   "outputs": [],
   "source": [
    "df = df[filter].copy()"
   ]
  },
  {
   "cell_type": "code",
   "execution_count": 100,
   "id": "b3bb43da",
   "metadata": {},
   "outputs": [
    {
     "name": "stdout",
     "output_type": "stream",
     "text": [
      "shape: (10420836, 6)\n",
      "user: 959\n",
      "trak: 80600\n"
     ]
    }
   ],
   "source": [
    "print('shape:',df.shape)\n",
    "print('user:',df['user_id'].nunique())\n",
    "print('trak:',df['track_id'].nunique())"
   ]
  },
  {
   "cell_type": "markdown",
   "id": "0d225381",
   "metadata": {},
   "source": [
    "## Reset des IDs track \n",
    "Pour optimiser la taille des matrices des model de colaborative filtering"
   ]
  },
  {
   "cell_type": "code",
   "execution_count": 101,
   "id": "ec7fe966",
   "metadata": {},
   "outputs": [],
   "source": [
    "# reset des id par des int\n",
    "d=dict()\n",
    "for i,name in enumerate(df['track_id'].unique()):\n",
    "    d[name]=i\n",
    "    \n",
    "df['track_id'] = df['track_id'].apply(lambda x: d[x])"
   ]
  },
  {
   "cell_type": "code",
   "execution_count": 102,
   "id": "6c1a82fd",
   "metadata": {},
   "outputs": [
    {
     "data": {
      "text/plain": [
       "80600"
      ]
     },
     "execution_count": 102,
     "metadata": {},
     "output_type": "execute_result"
    }
   ],
   "source": [
    "df['track_id'].nunique()"
   ]
  },
  {
   "cell_type": "markdown",
   "id": "54253fc0",
   "metadata": {},
   "source": [
    "# Sauvegarde du Nouveau dataset"
   ]
  },
  {
   "cell_type": "code",
   "execution_count": 103,
   "id": "38897897",
   "metadata": {},
   "outputs": [
    {
     "data": {
      "text/plain": [
       "(10420836, 6)"
      ]
     },
     "execution_count": 103,
     "metadata": {},
     "output_type": "execute_result"
    }
   ],
   "source": [
    "df.shape"
   ]
  },
  {
   "cell_type": "code",
   "execution_count": 106,
   "id": "a0abc42d",
   "metadata": {},
   "outputs": [],
   "source": [
    "df.to_csv('filtered data\\\\filtered_fm_dataset.csv')"
   ]
  },
  {
   "cell_type": "code",
   "execution_count": null,
   "id": "725a011b",
   "metadata": {},
   "outputs": [],
   "source": []
  }
 ],
 "metadata": {
  "kernelspec": {
   "display_name": "Python 3 (ipykernel)",
   "language": "python",
   "name": "python3"
  },
  "language_info": {
   "codemirror_mode": {
    "name": "ipython",
    "version": 3
   },
   "file_extension": ".py",
   "mimetype": "text/x-python",
   "name": "python",
   "nbconvert_exporter": "python",
   "pygments_lexer": "ipython3",
   "version": "3.9.12"
  }
 },
 "nbformat": 4,
 "nbformat_minor": 5
}
