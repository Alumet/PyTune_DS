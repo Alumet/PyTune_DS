{
 "cells": [
  {
   "cell_type": "markdown",
   "id": "14abf71a",
   "metadata": {},
   "source": [
    "### COLLABORATIVE FILTERING (Surprise KNN)\n",
    "\n",
    "Exploration du module Surprise modèle KNN"
   ]
  },
  {
   "cell_type": "markdown",
   "id": "36c4ada6",
   "metadata": {},
   "source": [
    "### Imports "
   ]
  },
  {
   "cell_type": "code",
   "execution_count": 1,
   "id": "99a5c7a6",
   "metadata": {},
   "outputs": [],
   "source": [
    "import numpy as np\n",
    "import pandas as pd\n",
    "import matplotlib.pyplot as plt\n",
    "from tqdm import tqdm\n",
    "\n",
    "from surprise import Dataset\n",
    "from surprise import Reader\n",
    "\n",
    "from surprise import KNNBasic\n",
    "\n",
    "from sklearn.metrics import roc_auc_score\n",
    "\n",
    "import itertools"
   ]
  },
  {
   "cell_type": "markdown",
   "id": "46764a47",
   "metadata": {},
   "source": [
    "## Data imports "
   ]
  },
  {
   "cell_type": "code",
   "execution_count": 2,
   "id": "d252a9c1",
   "metadata": {},
   "outputs": [
    {
     "name": "stderr",
     "output_type": "stream",
     "text": [
      "C:\\Users\\Alumet\\anaconda3\\lib\\site-packages\\numpy\\lib\\arraysetops.py:583: FutureWarning: elementwise comparison failed; returning scalar instead, but in the future will perform elementwise comparison\n",
      "  mask |= (ar1 == a)\n"
     ]
    }
   ],
   "source": [
    "df_train = pd.read_csv('filtered data/filtered_rating_fm_dataset_train.csv', index_col=0)"
   ]
  },
  {
   "cell_type": "code",
   "execution_count": 3,
   "id": "db93e424",
   "metadata": {},
   "outputs": [],
   "source": [
    "df_train = df_train.groupby(['user_id','track_id']).first().reset_index()"
   ]
  },
  {
   "cell_type": "code",
   "execution_count": 4,
   "id": "63aad712",
   "metadata": {},
   "outputs": [],
   "source": [
    "df_test = pd.read_csv('filtered data/filtered_rating_fm_dataset_test.csv', index_col=0)"
   ]
  },
  {
   "cell_type": "markdown",
   "id": "e2a53efe",
   "metadata": {},
   "source": [
    "## Data Preparation"
   ]
  },
  {
   "cell_type": "code",
   "execution_count": 5,
   "id": "42ac1886",
   "metadata": {},
   "outputs": [],
   "source": [
    "reader = Reader(rating_scale=(1, 101))\n",
    "data = Dataset.load_from_df(df_train[['user_id', 'track_id', 'rating']], reader)"
   ]
  },
  {
   "cell_type": "code",
   "execution_count": 6,
   "id": "47676d5d",
   "metadata": {},
   "outputs": [],
   "source": [
    "trainset = data.build_full_trainset()"
   ]
  },
  {
   "cell_type": "markdown",
   "id": "f0a1667f",
   "metadata": {},
   "source": [
    "## Class Metrique"
   ]
  },
  {
   "cell_type": "code",
   "execution_count": 1,
   "id": "b95bd015",
   "metadata": {},
   "outputs": [],
   "source": [
    "class k_best():\n",
    "    def __init__(self, user_tracks, recomended_tracks):\n",
    "        self.user_tracks = user_tracks\n",
    "        self.recomended_tracks = recomended_tracks\n",
    "    \n",
    "    def CG(self):\n",
    "        \n",
    "        return len(set(self.recomended_tracks).intersection(set(self.user_tracks)))\n",
    "    \n",
    "    def DCG(self):\n",
    "        \n",
    "        result = 0\n",
    "        for i,id in enumerate(self.recomended_tracks):\n",
    "            \n",
    "            if id in self.user_tracks:\n",
    "                result+=1/np.log2(i+2)\n",
    "\n",
    "        return result\n",
    "    \n",
    "    def IDCG(self):\n",
    "        \n",
    "        a = self.CG()\n",
    "        result=0\n",
    "        \n",
    "        for i in range (a):\n",
    "            result+=1/np.log2(i+2)\n",
    "        \n",
    "        return result\n",
    "    \n",
    "    def NDCG(self):\n",
    "        if self.IDCG()!=0:\n",
    "            result = self.DCG()/self.IDCG()\n",
    "        else:\n",
    "            result=0\n",
    "            \n",
    "        return result\n",
    "    \n",
    "    def P_at_k(self):\n",
    "        \n",
    "        return self.CG()/len(self.recomended_tracks)\n",
    "\n",
    "    \n",
    "    def __str__(self):\n",
    "        \n",
    "        result = 'K_best ressults: \\n'\n",
    "        result+= f'CG = {self.CG()}\\n'\n",
    "        result+= f'DCG = {self.DCG()}\\n'\n",
    "        result+= f'NDCG = {self.NDCG()}\\n'\n",
    "        result+= f'P@K = {self.P_at_k()}\\n'\n",
    "        \n",
    "        return result"
   ]
  },
  {
   "cell_type": "code",
   "execution_count": 8,
   "id": "a0ab97ec",
   "metadata": {},
   "outputs": [],
   "source": [
    "def get_reco(model, df_train, user_id, n=50):\n",
    "    \n",
    "    scores=[]\n",
    "    track_ids=[]\n",
    "    user_ids=[]\n",
    "\n",
    "    for track_id in df_train['track_id'].unique():\n",
    "        score = model.predict(user, track_id, r_ui=1)[3]\n",
    "    \n",
    "        user_ids.append(user)\n",
    "        track_ids.append(track_id)\n",
    "        scores.append(score)\n",
    "    \n",
    "    recommendation = pd.DataFrame({'user_id':user_ids,'track_id':track_ids,'score':scores})\n",
    "    \n",
    "    if n>=0:\n",
    "        recommendation = recommendation.sort_values(by=['score'], ascending=False).iloc[:n]\n",
    "    \n",
    "    return recommendation\n",
    "    "
   ]
  },
  {
   "cell_type": "markdown",
   "id": "6a9bb6a2",
   "metadata": {},
   "source": [
    "## Modèle simple KNN"
   ]
  },
  {
   "cell_type": "code",
   "execution_count": 10,
   "id": "637d9549",
   "metadata": {},
   "outputs": [
    {
     "name": "stdout",
     "output_type": "stream",
     "text": [
      "Computing the msd similarity matrix...\n",
      "Done computing similarity matrix.\n"
     ]
    },
    {
     "data": {
      "text/plain": [
       "<surprise.prediction_algorithms.knns.KNNBasic at 0x28244bd6820>"
      ]
     },
     "execution_count": 10,
     "metadata": {},
     "output_type": "execute_result"
    }
   ],
   "source": [
    "knn = KNNBasic()\n",
    "knn.fit(trainset)"
   ]
  },
  {
   "cell_type": "markdown",
   "id": "a1979ccd",
   "metadata": {},
   "source": [
    "### Test sur un utilisateur"
   ]
  },
  {
   "cell_type": "code",
   "execution_count": 12,
   "id": "33a4dbf3",
   "metadata": {},
   "outputs": [],
   "source": [
    "user = 1"
   ]
  },
  {
   "cell_type": "code",
   "execution_count": 13,
   "id": "3417abe7",
   "metadata": {},
   "outputs": [],
   "source": [
    "recommendation = get_reco(knn, df_train, user)\n",
    "recomended_tracks = [x for x in recommendation['track_id'].values]"
   ]
  },
  {
   "cell_type": "code",
   "execution_count": 14,
   "id": "fb978b1b",
   "metadata": {},
   "outputs": [],
   "source": [
    "user_tracks_train = set([x for x in df_train[df_train['user_id']==user]['track_id'].unique()])\n",
    "user_tracks_test = set([x for x in df_test[df_test['user_id']==user]['track_id'].unique()])"
   ]
  },
  {
   "cell_type": "markdown",
   "id": "b869c008",
   "metadata": {},
   "source": [
    "## K_best"
   ]
  },
  {
   "cell_type": "code",
   "execution_count": 15,
   "id": "2ecd0a1e",
   "metadata": {},
   "outputs": [
    {
     "name": "stdout",
     "output_type": "stream",
     "text": [
      "K_best ressults: \n",
      "CG = 2\n",
      "DCG = 1.3154648767857289\n",
      "NDCG = 0.8065735963827293\n",
      "P@K = 0.04\n",
      "\n"
     ]
    }
   ],
   "source": [
    "k = k_best(user_tracks_train, recomended_tracks)\n",
    "print(k)"
   ]
  },
  {
   "cell_type": "code",
   "execution_count": 16,
   "id": "ec408ea0",
   "metadata": {},
   "outputs": [
    {
     "name": "stdout",
     "output_type": "stream",
     "text": [
      "K_best ressults: \n",
      "CG = 0\n",
      "DCG = 0\n",
      "NDCG = 0\n",
      "P@K = 0.0\n",
      "\n"
     ]
    }
   ],
   "source": [
    "k = k_best(user_tracks_test, recomended_tracks)\n",
    "print(k)"
   ]
  },
  {
   "cell_type": "markdown",
   "id": "a5ca679b",
   "metadata": {},
   "source": [
    "### AUC_ROC"
   ]
  },
  {
   "cell_type": "code",
   "execution_count": 17,
   "id": "8f56689b",
   "metadata": {},
   "outputs": [],
   "source": [
    "recommendation = get_reco(knn, df_train, user,-1)"
   ]
  },
  {
   "cell_type": "code",
   "execution_count": 18,
   "id": "cb5f4e40",
   "metadata": {},
   "outputs": [],
   "source": [
    "recommendation['train'] = recommendation['track_id'].apply(lambda x: 1 if x in user_tracks_train else 0)\n",
    "recommendation['test'] = recommendation['track_id'].apply(lambda x: 1 if x in user_tracks_test else 0)"
   ]
  },
  {
   "cell_type": "code",
   "execution_count": 19,
   "id": "bc532f3a",
   "metadata": {},
   "outputs": [],
   "source": [
    "y_pred = [1 if x>50 else 0 for x in recommendation['score']]"
   ]
  },
  {
   "cell_type": "code",
   "execution_count": 20,
   "id": "ed58a4dc",
   "metadata": {},
   "outputs": [
    {
     "name": "stdout",
     "output_type": "stream",
     "text": [
      "Train_AUC_ROC =  0.50209781564792\n",
      "Test_AUC_ROC =  0.4992358379475359\n"
     ]
    }
   ],
   "source": [
    "roc_train = roc_auc_score(recommendation['train'],y_pred)\n",
    "roc_test = roc_auc_score(recommendation['test'],y_pred)\n",
    "\n",
    "print('Train_AUC_ROC = ', roc_train)\n",
    "print('Test_AUC_ROC = ', roc_test)"
   ]
  },
  {
   "cell_type": "markdown",
   "id": "833848e4",
   "metadata": {},
   "source": [
    "## Grid serch (optimisation des paramètres)"
   ]
  },
  {
   "cell_type": "code",
   "execution_count": 21,
   "id": "da9c9c6c",
   "metadata": {},
   "outputs": [
    {
     "name": "stdout",
     "output_type": "stream",
     "text": [
      "Computing the msd similarity matrix...\n",
      "Done computing similarity matrix.\n",
      "9.600943810553348\n",
      "{'k': 60, 'min_k': 15}\n"
     ]
    }
   ],
   "source": [
    "from surprise.model_selection import GridSearchCV\n",
    "\n",
    "param_grid = {'k': [20,40,60],\n",
    "              'min_k': [5,10,15]}\n",
    "\n",
    "gs = GridSearchCV(KNNBasic, param_grid, measures=['rmse'], cv=3, n_jobs=3, refit=True)\n",
    "\n",
    "gs.fit(data)\n",
    "\n",
    "# best RMSE score\n",
    "print(gs.best_score['rmse'])\n",
    "\n",
    "# combination of parameters that gave the best RMSE score\n",
    "print(gs.best_params['rmse'])"
   ]
  },
  {
   "cell_type": "code",
   "execution_count": 22,
   "id": "10112d3c",
   "metadata": {},
   "outputs": [
    {
     "name": "stdout",
     "output_type": "stream",
     "text": [
      "9.832070805850579 {'k': 20, 'min_k': 5}\n",
      "9.727949871851978 {'k': 20, 'min_k': 10}\n",
      "9.679871276019021 {'k': 20, 'min_k': 15}\n",
      "9.770789263005549 {'k': 40, 'min_k': 5}\n",
      "9.666008784771366 {'k': 40, 'min_k': 10}\n",
      "9.617620278166946 {'k': 40, 'min_k': 15}\n",
      "9.754374548332187 {'k': 60, 'min_k': 5}\n",
      "9.649415977210568 {'k': 60, 'min_k': 10}\n",
      "9.600943810553348 {'k': 60, 'min_k': 15}\n"
     ]
    }
   ],
   "source": [
    "a = gs.cv_results['mean_test_rmse']\n",
    "b = gs.cv_results['params']\n",
    "\n",
    "for score, param in zip(a,b):\n",
    "    print(score,param )"
   ]
  },
  {
   "cell_type": "markdown",
   "id": "cafba473",
   "metadata": {},
   "source": [
    "## Entrainement du meilleur model"
   ]
  },
  {
   "cell_type": "code",
   "execution_count": 9,
   "id": "7bb33c8c",
   "metadata": {},
   "outputs": [
    {
     "name": "stdout",
     "output_type": "stream",
     "text": [
      "Computing the msd similarity matrix...\n",
      "Done computing similarity matrix.\n"
     ]
    }
   ],
   "source": [
    "knn = KNNBasic(k=60, min_k=15)\n",
    "knn = knn.fit(trainset)"
   ]
  },
  {
   "cell_type": "markdown",
   "id": "aacc6c82",
   "metadata": {},
   "source": [
    "## Evaluation sur tous les utilisateurs"
   ]
  },
  {
   "cell_type": "markdown",
   "id": "345d8f11",
   "metadata": {},
   "source": [
    "### K_best"
   ]
  },
  {
   "cell_type": "code",
   "execution_count": 24,
   "id": "19f31961",
   "metadata": {},
   "outputs": [
    {
     "name": "stderr",
     "output_type": "stream",
     "text": [
      "100%|████████████████████████████████████████████████████████████████████████████████| 959/959 [41:26<00:00,  2.59s/it]\n"
     ]
    }
   ],
   "source": [
    "train_scores = list()\n",
    "test_scores = list()\n",
    "user_id = list()\n",
    "\n",
    "for user in tqdm(df_train['user_id'].unique()):\n",
    "    user_tracks_train = set([x for x in df_train[df_train['user_id']==user]['track_id'].unique()])\n",
    "    user_tracks_test = set([x for x in df_test[df_test['user_id']==user]['track_id'].unique()])\n",
    "    \n",
    "    recommendation = get_reco(knn, df_train, user,-1)\n",
    "    recomended_tracks = [x for x in recommendation['track_id'].values]\n",
    "    \n",
    "    k = k_best(user_tracks_train, recomended_tracks)\n",
    "    train_scores.append(k.NDCG())\n",
    "    \n",
    "    if len(user_tracks_test)!=0:\n",
    "        k = k_best(user_tracks_test, recomended_tracks)\n",
    "        test_scores.append(k.NDCG())\n",
    "        \n",
    "    else:\n",
    "        test_scores.append(0)\n",
    "    \n",
    "    user_id.append(user)"
   ]
  },
  {
   "cell_type": "code",
   "execution_count": 25,
   "id": "f6c86870",
   "metadata": {},
   "outputs": [
    {
     "name": "stdout",
     "output_type": "stream",
     "text": [
      "Train_mean_NDCG =  0.5835179785619815\n",
      "Test_mean_NDCG =  0.49231934781408815\n"
     ]
    }
   ],
   "source": [
    "# best n_fact=150, it=30\n",
    "print('Train_mean_NDCG = ', np.array(train_scores).mean())\n",
    "print('Test_mean_NDCG = ', np.array(test_scores).mean())"
   ]
  },
  {
   "cell_type": "markdown",
   "id": "8e110c05",
   "metadata": {},
   "source": [
    "### AUC_ROC"
   ]
  },
  {
   "cell_type": "code",
   "execution_count": 26,
   "id": "13a6a35a",
   "metadata": {},
   "outputs": [
    {
     "name": "stderr",
     "output_type": "stream",
     "text": [
      "100%|████████████████████████████████████████████████████████████████████████████████| 959/959 [45:53<00:00,  2.87s/it]\n"
     ]
    }
   ],
   "source": [
    "scores = dict()\n",
    "\n",
    "for s in np.linspace(0,100,10):\n",
    "    scores[s]={'train':[], 'test':[]}\n",
    "\n",
    "\n",
    "for user in tqdm(df_train['user_id'].unique()):\n",
    "    \n",
    "    user_tracks_train = set([x for x in df_train[df_train['user_id']==user]['track_id'].unique()])\n",
    "    user_tracks_test = set([x for x in df_test[df_test['user_id']==user]['track_id'].unique()])\n",
    "    \n",
    "    recomended_tracks = get_reco(knn, df_train, user,-1)\n",
    "    \n",
    "    recomended_tracks['true_train'] = recomended_tracks['track_id'].apply(lambda x: 1 if x in user_tracks_train else 0)\n",
    "    recomended_tracks['true_test'] = recomended_tracks['track_id'].apply(lambda x: 1 if x in user_tracks_test else 0)\n",
    "    \n",
    "    for s in np.linspace(0,100,10):\n",
    "    \n",
    "        recomended_tracks['pred'] = recomended_tracks['score'].apply(lambda x : 1 if x>s else 0)\n",
    "        y_pred = recomended_tracks['pred'].values\n",
    "\n",
    "        y_true_train = recomended_tracks['true_train'].values\n",
    "        score = roc_auc_score(y_true_train, y_pred)  \n",
    "        scores[s]['train'].append(score)\n",
    "\n",
    "        y_true_test = recomended_tracks['true_test'].values\n",
    "        score = roc_auc_score(y_true_test, y_pred)\n",
    "        scores[s]['test'].append(score)"
   ]
  },
  {
   "cell_type": "code",
   "execution_count": 27,
   "id": "701046df",
   "metadata": {},
   "outputs": [
    {
     "data": {
      "image/png": "[encoded data removed]",
      "text/plain": [
       "<Figure size 1152x648 with 1 Axes>"
      ]
     },
     "metadata": {
      "needs_background": "light"
     },
     "output_type": "display_data"
    }
   ],
   "source": [
    "train_score = list()\n",
    "test_score = list()\n",
    "seuil = list()\n",
    "\n",
    "for key in scores.keys():\n",
    "    train_score.append(np.array(scores[key]['train']).mean())\n",
    "    test_score.append(np.array(scores[key]['test']).mean())\n",
    "    seuil.append(key)\n",
    "\n",
    "\n",
    "plt.figure(figsize=(16,9))\n",
    "plt.plot(seuil, train_score, label='Train')\n",
    "plt.plot(seuil, test_score, label='Test')\n",
    "plt.legend()\n",
    "\n",
    "plt.title('AUC_ROC score en fonciton du seuil')\n",
    "plt.xlabel('Seuil')\n",
    "plt.ylabel('AUC_ROC Score')\n",
    "plt.show\n",
    "\n",
    "plt.savefig(\"AUC_ROC score en fonction du seuil, knn_Surprise\", dpi=300, pad_inches=0.1,bbox_inches='tight')"
   ]
  },
  {
   "cell_type": "code",
   "execution_count": 28,
   "id": "05a8bf13",
   "metadata": {},
   "outputs": [
    {
     "name": "stdout",
     "output_type": "stream",
     "text": [
      "Train_best_AUC_ROC =  0.545\n",
      "Test_best_AUC_ROC =  0.498\n",
      "Seuil_best =  11.111\n"
     ]
    }
   ],
   "source": [
    "i = np.array(train_score).argmax()\n",
    "\n",
    "print('Train_best_AUC_ROC = ', round(train_score[i],3))\n",
    "print('Test_best_AUC_ROC = ', round(test_score[i],3))\n",
    "print('Seuil_best = ', round(seuil[i],3))"
   ]
  },
  {
   "cell_type": "code",
   "execution_count": null,
   "id": "920a46a7",
   "metadata": {},
   "outputs": [],
   "source": []
  }
 ],
 "metadata": {
  "kernelspec": {
   "display_name": "Python 3",
   "language": "python",
   "name": "python3"
  },
  "language_info": {
   "codemirror_mode": {
    "name": "ipython",
    "version": 3
   },
   "file_extension": ".py",
   "mimetype": "text/x-python",
   "name": "python",
   "nbconvert_exporter": "python",
   "pygments_lexer": "ipython3",
   "version": "3.9.7"
  }
 },
 "nbformat": 4,
 "nbformat_minor": 5
}
