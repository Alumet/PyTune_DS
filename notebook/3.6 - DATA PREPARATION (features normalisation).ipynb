{
 "cells": [
  {
   "cell_type": "markdown",
   "id": "67d5302b",
   "metadata": {},
   "source": [
    "# DATA PREPARATION (Normalisation)\n",
    "\n",
    "Normalisation des features pour les model content based et mixte (contente + colaboraitf)"
   ]
  },
  {
   "cell_type": "markdown",
   "id": "5aeb1a59",
   "metadata": {},
   "source": [
    "## Imports"
   ]
  },
  {
   "cell_type": "code",
   "execution_count": 1,
   "id": "4fdb479e",
   "metadata": {},
   "outputs": [],
   "source": [
    "import numpy as np \n",
    "import pandas as pd"
   ]
  },
  {
   "cell_type": "markdown",
   "id": "5e130b25",
   "metadata": {},
   "source": [
    "## Fichier 'track_features_fm_dataset'"
   ]
  },
  {
   "cell_type": "code",
   "execution_count": 2,
   "id": "6991b035",
   "metadata": {},
   "outputs": [],
   "source": [
    "df_track = pd.read_csv('filtered data/track_features_fm_dataset.csv', index_col=0)"
   ]
  },
  {
   "cell_type": "markdown",
   "id": "2933b18e",
   "metadata": {},
   "source": [
    "### Normalisation et dummies"
   ]
  },
  {
   "cell_type": "code",
   "execution_count": 3,
   "id": "620a5165",
   "metadata": {},
   "outputs": [],
   "source": [
    "df_track = pd.concat([df_track,pd.get_dummies(df_track['key'], 'key')], axis=1)\n",
    "df_track.drop(columns=['key'], inplace=True)"
   ]
  },
  {
   "cell_type": "code",
   "execution_count": 4,
   "id": "6cdc1f61",
   "metadata": {},
   "outputs": [],
   "source": [
    "df_track['loudness'] = (df_track['loudness']-df_track['loudness'].min())/(df_track['loudness'].max()-df_track['loudness'].min())"
   ]
  },
  {
   "cell_type": "code",
   "execution_count": 5,
   "id": "77460262",
   "metadata": {},
   "outputs": [],
   "source": [
    "df_track['tempo'] = (df_track['tempo']-df_track['tempo'].min())/(df_track['tempo'].max()-df_track['tempo'].min())"
   ]
  },
  {
   "cell_type": "markdown",
   "id": "a46edd85",
   "metadata": {},
   "source": [
    "### Verification"
   ]
  },
  {
   "cell_type": "code",
   "execution_count": 6,
   "id": "eed006a5",
   "metadata": {},
   "outputs": [
    {
     "data": {
      "text/html": [
       "<div>\n",
       "<style scoped>\n",
       "    .dataframe tbody tr th:only-of-type {\n",
       "        vertical-align: middle;\n",
       "    }\n",
       "\n",
       "    .dataframe tbody tr th {\n",
       "        vertical-align: top;\n",
       "    }\n",
       "\n",
       "    .dataframe thead th {\n",
       "        text-align: right;\n",
       "    }\n",
       "</style>\n",
       "<table border=\"1\" class=\"dataframe\">\n",
       "  <thead>\n",
       "    <tr style=\"text-align: right;\">\n",
       "      <th></th>\n",
       "      <th>track_id</th>\n",
       "      <th>danceability</th>\n",
       "      <th>energy</th>\n",
       "      <th>loudness</th>\n",
       "      <th>mode</th>\n",
       "      <th>speechiness</th>\n",
       "      <th>acousticness</th>\n",
       "      <th>instrumentalness</th>\n",
       "      <th>liveness</th>\n",
       "      <th>valence</th>\n",
       "      <th>...</th>\n",
       "      <th>key_1</th>\n",
       "      <th>key_2</th>\n",
       "      <th>key_4</th>\n",
       "      <th>key_5</th>\n",
       "      <th>key_6</th>\n",
       "      <th>key_7</th>\n",
       "      <th>key_8</th>\n",
       "      <th>key_9</th>\n",
       "      <th>key_10</th>\n",
       "      <th>key_11</th>\n",
       "    </tr>\n",
       "  </thead>\n",
       "  <tbody>\n",
       "    <tr>\n",
       "      <th>count</th>\n",
       "      <td>58.000000</td>\n",
       "      <td>58.000000</td>\n",
       "      <td>58.000000</td>\n",
       "      <td>58.000000</td>\n",
       "      <td>58.000000</td>\n",
       "      <td>58.000000</td>\n",
       "      <td>58.000000</td>\n",
       "      <td>58.000000</td>\n",
       "      <td>58.000000</td>\n",
       "      <td>58.000000</td>\n",
       "      <td>...</td>\n",
       "      <td>58.000000</td>\n",
       "      <td>58.000000</td>\n",
       "      <td>58.000000</td>\n",
       "      <td>58.000000</td>\n",
       "      <td>58.000000</td>\n",
       "      <td>58.000000</td>\n",
       "      <td>58.000000</td>\n",
       "      <td>58.000000</td>\n",
       "      <td>58.000000</td>\n",
       "      <td>58.000000</td>\n",
       "    </tr>\n",
       "    <tr>\n",
       "      <th>mean</th>\n",
       "      <td>52.293103</td>\n",
       "      <td>0.516897</td>\n",
       "      <td>0.601521</td>\n",
       "      <td>0.717934</td>\n",
       "      <td>0.534483</td>\n",
       "      <td>0.057822</td>\n",
       "      <td>0.287864</td>\n",
       "      <td>0.312521</td>\n",
       "      <td>0.216872</td>\n",
       "      <td>0.355472</td>\n",
       "      <td>...</td>\n",
       "      <td>0.086207</td>\n",
       "      <td>0.086207</td>\n",
       "      <td>0.086207</td>\n",
       "      <td>0.086207</td>\n",
       "      <td>0.103448</td>\n",
       "      <td>0.137931</td>\n",
       "      <td>0.086207</td>\n",
       "      <td>0.103448</td>\n",
       "      <td>0.051724</td>\n",
       "      <td>0.086207</td>\n",
       "    </tr>\n",
       "    <tr>\n",
       "      <th>std</th>\n",
       "      <td>30.022219</td>\n",
       "      <td>0.140663</td>\n",
       "      <td>0.275749</td>\n",
       "      <td>0.185231</td>\n",
       "      <td>0.503166</td>\n",
       "      <td>0.057686</td>\n",
       "      <td>0.340470</td>\n",
       "      <td>0.361649</td>\n",
       "      <td>0.159757</td>\n",
       "      <td>0.225610</td>\n",
       "      <td>...</td>\n",
       "      <td>0.283121</td>\n",
       "      <td>0.283121</td>\n",
       "      <td>0.283121</td>\n",
       "      <td>0.283121</td>\n",
       "      <td>0.307203</td>\n",
       "      <td>0.347839</td>\n",
       "      <td>0.283121</td>\n",
       "      <td>0.307203</td>\n",
       "      <td>0.223404</td>\n",
       "      <td>0.283121</td>\n",
       "    </tr>\n",
       "    <tr>\n",
       "      <th>min</th>\n",
       "      <td>0.000000</td>\n",
       "      <td>0.182000</td>\n",
       "      <td>0.019300</td>\n",
       "      <td>0.000000</td>\n",
       "      <td>0.000000</td>\n",
       "      <td>0.025200</td>\n",
       "      <td>0.000015</td>\n",
       "      <td>0.000000</td>\n",
       "      <td>0.054400</td>\n",
       "      <td>0.036200</td>\n",
       "      <td>...</td>\n",
       "      <td>0.000000</td>\n",
       "      <td>0.000000</td>\n",
       "      <td>0.000000</td>\n",
       "      <td>0.000000</td>\n",
       "      <td>0.000000</td>\n",
       "      <td>0.000000</td>\n",
       "      <td>0.000000</td>\n",
       "      <td>0.000000</td>\n",
       "      <td>0.000000</td>\n",
       "      <td>0.000000</td>\n",
       "    </tr>\n",
       "    <tr>\n",
       "      <th>25%</th>\n",
       "      <td>23.250000</td>\n",
       "      <td>0.447250</td>\n",
       "      <td>0.438750</td>\n",
       "      <td>0.628436</td>\n",
       "      <td>0.000000</td>\n",
       "      <td>0.030350</td>\n",
       "      <td>0.009628</td>\n",
       "      <td>0.000983</td>\n",
       "      <td>0.108000</td>\n",
       "      <td>0.158500</td>\n",
       "      <td>...</td>\n",
       "      <td>0.000000</td>\n",
       "      <td>0.000000</td>\n",
       "      <td>0.000000</td>\n",
       "      <td>0.000000</td>\n",
       "      <td>0.000000</td>\n",
       "      <td>0.000000</td>\n",
       "      <td>0.000000</td>\n",
       "      <td>0.000000</td>\n",
       "      <td>0.000000</td>\n",
       "      <td>0.000000</td>\n",
       "    </tr>\n",
       "    <tr>\n",
       "      <th>50%</th>\n",
       "      <td>52.500000</td>\n",
       "      <td>0.530500</td>\n",
       "      <td>0.647000</td>\n",
       "      <td>0.753482</td>\n",
       "      <td>1.000000</td>\n",
       "      <td>0.037250</td>\n",
       "      <td>0.111500</td>\n",
       "      <td>0.128600</td>\n",
       "      <td>0.154000</td>\n",
       "      <td>0.324500</td>\n",
       "      <td>...</td>\n",
       "      <td>0.000000</td>\n",
       "      <td>0.000000</td>\n",
       "      <td>0.000000</td>\n",
       "      <td>0.000000</td>\n",
       "      <td>0.000000</td>\n",
       "      <td>0.000000</td>\n",
       "      <td>0.000000</td>\n",
       "      <td>0.000000</td>\n",
       "      <td>0.000000</td>\n",
       "      <td>0.000000</td>\n",
       "    </tr>\n",
       "    <tr>\n",
       "      <th>75%</th>\n",
       "      <td>79.750000</td>\n",
       "      <td>0.605250</td>\n",
       "      <td>0.848750</td>\n",
       "      <td>0.838332</td>\n",
       "      <td>1.000000</td>\n",
       "      <td>0.052325</td>\n",
       "      <td>0.513500</td>\n",
       "      <td>0.658750</td>\n",
       "      <td>0.270000</td>\n",
       "      <td>0.501500</td>\n",
       "      <td>...</td>\n",
       "      <td>0.000000</td>\n",
       "      <td>0.000000</td>\n",
       "      <td>0.000000</td>\n",
       "      <td>0.000000</td>\n",
       "      <td>0.000000</td>\n",
       "      <td>0.000000</td>\n",
       "      <td>0.000000</td>\n",
       "      <td>0.000000</td>\n",
       "      <td>0.000000</td>\n",
       "      <td>0.000000</td>\n",
       "    </tr>\n",
       "    <tr>\n",
       "      <th>max</th>\n",
       "      <td>98.000000</td>\n",
       "      <td>0.795000</td>\n",
       "      <td>0.989000</td>\n",
       "      <td>1.000000</td>\n",
       "      <td>1.000000</td>\n",
       "      <td>0.319000</td>\n",
       "      <td>0.993000</td>\n",
       "      <td>0.971000</td>\n",
       "      <td>0.793000</td>\n",
       "      <td>0.956000</td>\n",
       "      <td>...</td>\n",
       "      <td>1.000000</td>\n",
       "      <td>1.000000</td>\n",
       "      <td>1.000000</td>\n",
       "      <td>1.000000</td>\n",
       "      <td>1.000000</td>\n",
       "      <td>1.000000</td>\n",
       "      <td>1.000000</td>\n",
       "      <td>1.000000</td>\n",
       "      <td>1.000000</td>\n",
       "      <td>1.000000</td>\n",
       "    </tr>\n",
       "  </tbody>\n",
       "</table>\n",
       "<p>8 rows × 22 columns</p>\n",
       "</div>"
      ],
      "text/plain": [
       "        track_id  danceability     energy   loudness       mode  speechiness  \\\n",
       "count  58.000000     58.000000  58.000000  58.000000  58.000000    58.000000   \n",
       "mean   52.293103      0.516897   0.601521   0.717934   0.534483     0.057822   \n",
       "std    30.022219      0.140663   0.275749   0.185231   0.503166     0.057686   \n",
       "min     0.000000      0.182000   0.019300   0.000000   0.000000     0.025200   \n",
       "25%    23.250000      0.447250   0.438750   0.628436   0.000000     0.030350   \n",
       "50%    52.500000      0.530500   0.647000   0.753482   1.000000     0.037250   \n",
       "75%    79.750000      0.605250   0.848750   0.838332   1.000000     0.052325   \n",
       "max    98.000000      0.795000   0.989000   1.000000   1.000000     0.319000   \n",
       "\n",
       "       acousticness  instrumentalness   liveness    valence  ...      key_1  \\\n",
       "count     58.000000         58.000000  58.000000  58.000000  ...  58.000000   \n",
       "mean       0.287864          0.312521   0.216872   0.355472  ...   0.086207   \n",
       "std        0.340470          0.361649   0.159757   0.225610  ...   0.283121   \n",
       "min        0.000015          0.000000   0.054400   0.036200  ...   0.000000   \n",
       "25%        0.009628          0.000983   0.108000   0.158500  ...   0.000000   \n",
       "50%        0.111500          0.128600   0.154000   0.324500  ...   0.000000   \n",
       "75%        0.513500          0.658750   0.270000   0.501500  ...   0.000000   \n",
       "max        0.993000          0.971000   0.793000   0.956000  ...   1.000000   \n",
       "\n",
       "           key_2      key_4      key_5      key_6      key_7      key_8  \\\n",
       "count  58.000000  58.000000  58.000000  58.000000  58.000000  58.000000   \n",
       "mean    0.086207   0.086207   0.086207   0.103448   0.137931   0.086207   \n",
       "std     0.283121   0.283121   0.283121   0.307203   0.347839   0.283121   \n",
       "min     0.000000   0.000000   0.000000   0.000000   0.000000   0.000000   \n",
       "25%     0.000000   0.000000   0.000000   0.000000   0.000000   0.000000   \n",
       "50%     0.000000   0.000000   0.000000   0.000000   0.000000   0.000000   \n",
       "75%     0.000000   0.000000   0.000000   0.000000   0.000000   0.000000   \n",
       "max     1.000000   1.000000   1.000000   1.000000   1.000000   1.000000   \n",
       "\n",
       "           key_9     key_10     key_11  \n",
       "count  58.000000  58.000000  58.000000  \n",
       "mean    0.103448   0.051724   0.086207  \n",
       "std     0.307203   0.223404   0.283121  \n",
       "min     0.000000   0.000000   0.000000  \n",
       "25%     0.000000   0.000000   0.000000  \n",
       "50%     0.000000   0.000000   0.000000  \n",
       "75%     0.000000   0.000000   0.000000  \n",
       "max     1.000000   1.000000   1.000000  \n",
       "\n",
       "[8 rows x 22 columns]"
      ]
     },
     "execution_count": 6,
     "metadata": {},
     "output_type": "execute_result"
    }
   ],
   "source": [
    "df_track.describe()"
   ]
  },
  {
   "cell_type": "markdown",
   "id": "04568b51",
   "metadata": {},
   "source": [
    "### Sauvegarde"
   ]
  },
  {
   "cell_type": "code",
   "execution_count": 7,
   "id": "001fc439",
   "metadata": {},
   "outputs": [],
   "source": [
    "df_track.to_csv('filtered data/track_features_fm_dataset_normalized.csv')"
   ]
  },
  {
   "cell_type": "markdown",
   "id": "30c4ebd5",
   "metadata": {},
   "source": [
    "## Fichier 'user_features_fm_dataset.csv'"
   ]
  },
  {
   "cell_type": "code",
   "execution_count": 8,
   "id": "548b8742",
   "metadata": {},
   "outputs": [],
   "source": [
    "df_user= pd.read_csv('filtered data/user_features_fm_dataset.csv', index_col=0)"
   ]
  },
  {
   "cell_type": "markdown",
   "id": "29265b16",
   "metadata": {},
   "source": [
    "### Normaliszation et dummies"
   ]
  },
  {
   "cell_type": "code",
   "execution_count": 11,
   "id": "1d1e64c9",
   "metadata": {},
   "outputs": [],
   "source": [
    "df_user['gender'] = df_user['gender'].replace({'m':0,'f':1})"
   ]
  },
  {
   "cell_type": "code",
   "execution_count": 12,
   "id": "234e85e4",
   "metadata": {},
   "outputs": [],
   "source": [
    "df_user = pd.concat([df_user,pd.get_dummies(df_user['country'], 'country')], axis=1)\n",
    "df_user.drop(columns=['country'], inplace=True)"
   ]
  },
  {
   "cell_type": "code",
   "execution_count": 13,
   "id": "66a3f6da",
   "metadata": {},
   "outputs": [],
   "source": [
    "df_user = pd.concat([df_user,pd.get_dummies(df_user['region'], 'region')], axis=1)\n",
    "df_user.drop(columns=['region'], inplace=True)"
   ]
  },
  {
   "cell_type": "code",
   "execution_count": 14,
   "id": "3637369f",
   "metadata": {},
   "outputs": [],
   "source": [
    "df_user['registered'] = (df_user['registered']-df_user['registered'].min())/(df_user['registered'].max()-df_user['registered'].min())"
   ]
  },
  {
   "cell_type": "markdown",
   "id": "67184d09",
   "metadata": {},
   "source": [
    "## Sauvegarde"
   ]
  },
  {
   "cell_type": "code",
   "execution_count": 15,
   "id": "fb043125",
   "metadata": {},
   "outputs": [],
   "source": [
    "df_user.to_csv('filtered data/user_features_fm_dataset_normalized.csv')"
   ]
  }
 ],
 "metadata": {
  "kernelspec": {
   "display_name": "Python 3",
   "language": "python",
   "name": "python3"
  },
  "language_info": {
   "codemirror_mode": {
    "name": "ipython",
    "version": 3
   },
   "file_extension": ".py",
   "mimetype": "text/x-python",
   "name": "python",
   "nbconvert_exporter": "python",
   "pygments_lexer": "ipython3",
   "version": "3.9.7"
  }
 },
 "nbformat": 4,
 "nbformat_minor": 5
}
